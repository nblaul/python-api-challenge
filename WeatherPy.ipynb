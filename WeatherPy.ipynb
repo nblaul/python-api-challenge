{
 "cells": [
  {
   "cell_type": "markdown",
   "metadata": {},
   "source": [
    "# WeatherPy\n",
    "----\n",
    "\n",
    "#### Note\n",
    "* Instructions have been included for each segment. You do not have to follow them exactly, but they are included to help you think through the steps."
   ]
  },
  {
   "cell_type": "code",
   "execution_count": 21,
   "metadata": {
    "scrolled": true
   },
   "outputs": [],
   "source": [
    "# Dependencies and Setup\n",
    "import matplotlib.pyplot as plt\n",
    "import pandas as pd\n",
    "import numpy as np\n",
    "import requests\n",
    "import time\n",
    "import scipy.stats as stats\n",
    "from scipy.stats import linregress\n",
    "import urllib.error\n",
    "from urllib.error import HTTPError\n",
    "\n",
    "# Import API key\n",
    "from api_keys import weather_api_key\n",
    "\n",
    "# Incorporated citipy to determine city based on latitude and longitude\n",
    "from citipy import citipy\n",
    "\n",
    "# Output File (CSV)\n",
    "output_data_file = \"output_data/cities.csv\"\n",
    "\n",
    "# Range of latitudes and longitudes\n",
    "lat_range = (-90, 90)\n",
    "lng_range = (-180, 180)"
   ]
  },
  {
   "cell_type": "markdown",
   "metadata": {},
   "source": [
    "## Generate Cities List"
   ]
  },
  {
   "cell_type": "code",
   "execution_count": 2,
   "metadata": {},
   "outputs": [
    {
     "data": {
      "text/plain": [
       "579"
      ]
     },
     "execution_count": 2,
     "metadata": {},
     "output_type": "execute_result"
    }
   ],
   "source": [
    "# List for holding lat_lngs and cities\n",
    "lat_lngs = []\n",
    "cities = []\n",
    "\n",
    "# Create a set of random lat and lng combinations\n",
    "lats = np.random.uniform(lat_range[0], lat_range[1], size=1500)\n",
    "lngs = np.random.uniform(lng_range[0], lng_range[1], size=1500)\n",
    "lat_lngs = zip(lats, lngs)\n",
    "\n",
    "# Identify nearest city for each lat, lng combination\n",
    "for lat_lng in lat_lngs:\n",
    "    city = citipy.nearest_city(lat_lng[0], lat_lng[1]).city_name\n",
    "    \n",
    "    # If the city is unique, then add it to a our cities list\n",
    "    if city not in cities:\n",
    "        cities.append(city)\n",
    "\n",
    "# Print the city count to confirm sufficient count\n",
    "len(cities)"
   ]
  },
  {
   "cell_type": "code",
   "execution_count": 3,
   "metadata": {},
   "outputs": [],
   "source": [
    "# create lists to store city weather information\n",
    "\n",
    "city_name = []\n",
    "max_temp = []\n",
    "humidity = []\n",
    "cloudiness = []\n",
    "wind_speed = []\n",
    "lat = []\n",
    "lng = []\n",
    "country = []\n",
    "date = []\n",
    "\n"
   ]
  },
  {
   "cell_type": "code",
   "execution_count": 4,
   "metadata": {},
   "outputs": [
    {
     "name": "stdout",
     "output_type": "stream",
     "text": [
      "Processing request 1 in Set 1 | cherskiy\n",
      "Processing request 2 in Set 1 | barrow\n",
      "Processing request 3 in Set 1 | hobart\n",
      "Processing request 4 in Set 1 | kapaa\n",
      "Processing request 5 in Set 1 | busselton\n",
      "Processing request 6 in Set 1 | ratnagiri\n",
      "Processing request 7 in Set 1 | sentyabrskiy\n",
      "City not found. Skipping...\n",
      "Processing request 8 in Set 1 | narsaq\n",
      "Processing request 9 in Set 1 | asau\n",
      "Processing request 10 in Set 1 | ushuaia\n",
      "Processing request 11 in Set 1 | new norfolk\n",
      "Processing request 12 in Set 1 | port alfred\n",
      "Processing request 13 in Set 1 | ust-charyshskaya pristan\n",
      "Processing request 14 in Set 1 | vostok\n",
      "Processing request 15 in Set 1 | presidencia roque saenz pena\n",
      "Processing request 16 in Set 1 | springbok\n",
      "Processing request 17 in Set 1 | nome\n",
      "Processing request 18 in Set 1 | barentsburg\n",
      "City not found. Skipping...\n",
      "Processing request 19 in Set 1 | longyearbyen\n",
      "Processing request 20 in Set 1 | dikson\n",
      "Processing request 21 in Set 1 | rikitea\n",
      "Processing request 22 in Set 1 | mataura\n",
      "Processing request 23 in Set 1 | bluff\n",
      "Processing request 24 in Set 1 | faanui\n",
      "Processing request 25 in Set 1 | tuktoyaktuk\n",
      "Processing request 26 in Set 1 | alta floresta\n",
      "Processing request 27 in Set 1 | hermanus\n",
      "Processing request 28 in Set 1 | quesnel\n",
      "Processing request 29 in Set 1 | butaritari\n",
      "Processing request 30 in Set 1 | airai\n",
      "Processing request 31 in Set 1 | jamestown\n",
      "Processing request 32 in Set 1 | banepa\n",
      "Processing request 33 in Set 1 | ponta do sol\n",
      "Processing request 34 in Set 1 | richards bay\n",
      "Processing request 35 in Set 1 | carbonia\n",
      "Processing request 36 in Set 1 | sihora\n",
      "Processing request 37 in Set 1 | ahipara\n",
      "Processing request 38 in Set 1 | naze\n",
      "Processing request 39 in Set 1 | thompson\n",
      "Processing request 40 in Set 1 | dennery\n",
      "Processing request 41 in Set 1 | malartic\n",
      "Processing request 42 in Set 1 | neiafu\n",
      "Processing request 43 in Set 1 | port elizabeth\n",
      "Processing request 44 in Set 1 | caxito\n",
      "Processing request 45 in Set 1 | turukhansk\n",
      "Processing request 46 in Set 1 | punta arenas\n",
      "Processing request 47 in Set 1 | bubaque\n",
      "Processing request 48 in Set 1 | souillac\n",
      "Processing request 49 in Set 1 | rio grande\n",
      "Processing request 50 in Set 1 | los llanos de aridane\n",
      "Processing request 51 in Set 1 | mehamn\n",
      "Processing request 52 in Set 1 | nadym\n",
      "Processing request 53 in Set 1 | mullaitivu\n",
      "City not found. Skipping...\n",
      "Processing request 54 in Set 1 | ulladulla\n",
      "Processing request 55 in Set 1 | ribeira grande\n",
      "Processing request 56 in Set 1 | diego de almagro\n",
      "Processing request 57 in Set 1 | cidreira\n",
      "Processing request 58 in Set 1 | nouadhibou\n",
      "Processing request 59 in Set 1 | coquimbo\n",
      "Processing request 60 in Set 1 | bredasdorp\n",
      "Processing request 61 in Set 1 | tezu\n",
      "Processing request 62 in Set 1 | cayenne\n",
      "Processing request 63 in Set 1 | east london\n",
      "Processing request 64 in Set 1 | iqaluit\n",
      "Processing request 65 in Set 1 | kapuskasing\n",
      "Processing request 66 in Set 1 | potamia\n",
      "Processing request 67 in Set 1 | provideniya\n",
      "Processing request 68 in Set 1 | torbay\n",
      "Processing request 69 in Set 1 | carnarvon\n",
      "Processing request 70 in Set 1 | rawah\n",
      "Processing request 71 in Set 1 | sokolo\n",
      "Processing request 72 in Set 1 | labuan\n",
      "Processing request 73 in Set 1 | puerto ayora\n",
      "Processing request 74 in Set 1 | eureka\n",
      "Processing request 75 in Set 1 | saint-georges\n",
      "Processing request 76 in Set 1 | houma\n",
      "Processing request 77 in Set 1 | krapina\n",
      "Processing request 78 in Set 1 | luzhou\n",
      "Processing request 79 in Set 1 | belmonte\n",
      "Processing request 80 in Set 1 | vaini\n",
      "Processing request 81 in Set 1 | oistins\n",
      "Processing request 82 in Set 1 | hithadhoo\n",
      "Processing request 83 in Set 1 | oranjestad\n",
      "Processing request 84 in Set 1 | sitka\n",
      "Processing request 85 in Set 1 | oda\n",
      "Processing request 86 in Set 1 | avarua\n",
      "Processing request 87 in Set 1 | zyryanskoye\n",
      "Processing request 88 in Set 1 | arraial do cabo\n",
      "Processing request 89 in Set 1 | rio gallegos\n",
      "Processing request 90 in Set 1 | margate\n",
      "Processing request 91 in Set 1 | tacuarembo\n",
      "Processing request 92 in Set 1 | dingle\n",
      "Processing request 93 in Set 1 | saint-philippe\n",
      "Processing request 94 in Set 1 | melfort\n",
      "Processing request 95 in Set 1 | pevek\n",
      "Processing request 96 in Set 1 | chokurdakh\n",
      "Processing request 97 in Set 1 | mopipi\n",
      "Processing request 98 in Set 1 | alofi\n",
      "Processing request 99 in Set 1 | eyemouth\n",
      "Processing request 100 in Set 1 | geraldton\n",
      "Processing request 101 in Set 1 | lorengau\n",
      "Processing request 102 in Set 1 | namatanai\n",
      "Processing request 103 in Set 1 | cape town\n",
      "Processing request 104 in Set 1 | astana\n",
      "Processing request 105 in Set 1 | jinchang\n",
      "Processing request 106 in Set 1 | grindavik\n",
      "Processing request 107 in Set 1 | labuhan\n",
      "Processing request 108 in Set 1 | vestmannaeyjar\n",
      "Processing request 109 in Set 1 | movila\n",
      "Processing request 110 in Set 1 | atuona\n",
      "Processing request 111 in Set 1 | nguiu\n",
      "City not found. Skipping...\n",
      "Processing request 112 in Set 1 | mys shmidta\n",
      "City not found. Skipping...\n",
      "Processing request 113 in Set 1 | mufulira\n",
      "Processing request 114 in Set 1 | mahebourg\n",
      "Processing request 115 in Set 1 | broome\n",
      "Processing request 116 in Set 1 | lompoc\n",
      "Processing request 117 in Set 1 | bilma\n",
      "Processing request 118 in Set 1 | belushya guba\n",
      "City not found. Skipping...\n",
      "Processing request 119 in Set 1 | umea\n",
      "Processing request 120 in Set 1 | kuala terengganu\n",
      "Processing request 121 in Set 1 | lebu\n",
      "Processing request 122 in Set 1 | charleston\n",
      "Processing request 123 in Set 1 | aswan\n",
      "Processing request 124 in Set 1 | yellowknife\n",
      "Processing request 125 in Set 1 | nikolskoye\n",
      "Processing request 126 in Set 1 | boende\n",
      "Processing request 127 in Set 1 | samarai\n",
      "Processing request 128 in Set 1 | hilo\n",
      "Processing request 129 in Set 1 | bolungarvik\n",
      "City not found. Skipping...\n",
      "Processing request 130 in Set 1 | anamur\n",
      "Processing request 131 in Set 1 | bargal\n",
      "City not found. Skipping...\n",
      "Processing request 132 in Set 1 | imeni telmana\n",
      "City not found. Skipping...\n",
      "Processing request 133 in Set 1 | christchurch\n",
      "Processing request 134 in Set 1 | clyde river\n",
      "Processing request 135 in Set 1 | tiksi\n",
      "Processing request 136 in Set 1 | saskylakh\n",
      "Processing request 137 in Set 1 | yulara\n",
      "Processing request 138 in Set 1 | severo-kurilsk\n",
      "Processing request 139 in Set 1 | salalah\n",
      "Processing request 140 in Set 1 | mareeba\n",
      "Processing request 141 in Set 1 | panguna\n",
      "Processing request 142 in Set 1 | san patricio\n",
      "Processing request 143 in Set 1 | sikonge\n",
      "Processing request 144 in Set 1 | bethel\n",
      "Processing request 145 in Set 1 | bengkulu\n",
      "Processing request 146 in Set 1 | esperance\n",
      "Processing request 147 in Set 1 | kieta\n",
      "Processing request 148 in Set 1 | talnakh\n",
      "Processing request 149 in Set 1 | ilulissat\n",
      "Processing request 150 in Set 1 | sumbawa\n",
      "City not found. Skipping...\n",
      "Processing request 151 in Set 1 | hamilton\n",
      "Processing request 152 in Set 1 | springdale\n",
      "Processing request 153 in Set 1 | matamoros\n",
      "Processing request 154 in Set 1 | kahului\n",
      "Processing request 155 in Set 1 | bambous virieux\n",
      "Processing request 156 in Set 1 | georgetown\n",
      "Processing request 157 in Set 1 | mayo\n",
      "Processing request 158 in Set 1 | solnechnyy\n",
      "Processing request 159 in Set 1 | upernavik\n",
      "Processing request 160 in Set 1 | lillooet\n",
      "Processing request 161 in Set 1 | khatanga\n",
      "Processing request 162 in Set 1 | taolanaro\n",
      "City not found. Skipping...\n",
      "Processing request 163 in Set 1 | yeppoon\n",
      "Processing request 164 in Set 1 | celestun\n",
      "Processing request 165 in Set 1 | amderma\n",
      "City not found. Skipping...\n",
      "Processing request 166 in Set 1 | poronaysk\n",
      "Processing request 167 in Set 1 | robertson\n",
      "Processing request 168 in Set 1 | qaqortoq\n",
      "Processing request 169 in Set 1 | cabo san lucas\n",
      "Processing request 170 in Set 1 | keti bandar\n",
      "Processing request 171 in Set 1 | sibolga\n",
      "Processing request 172 in Set 1 | charters towers\n",
      "Processing request 173 in Set 1 | samusu\n",
      "City not found. Skipping...\n",
      "Processing request 174 in Set 1 | manggar\n",
      "Processing request 175 in Set 1 | chake chake\n",
      "Processing request 176 in Set 1 | odweyne\n",
      "Processing request 177 in Set 1 | hailar\n",
      "Processing request 178 in Set 1 | darnah\n",
      "Processing request 179 in Set 1 | aljezur\n",
      "Processing request 180 in Set 1 | coihaique\n",
      "Processing request 181 in Set 1 | isangel\n",
      "Processing request 182 in Set 1 | chuy\n",
      "Processing request 183 in Set 1 | goderich\n"
     ]
    },
    {
     "name": "stdout",
     "output_type": "stream",
     "text": [
      "Processing request 184 in Set 1 | pinyug\n",
      "Processing request 185 in Set 1 | taikang\n",
      "Processing request 186 in Set 1 | madang\n",
      "Processing request 187 in Set 1 | colonial park\n",
      "Processing request 188 in Set 1 | hami\n",
      "Processing request 189 in Set 1 | trairi\n",
      "Processing request 190 in Set 1 | guerrero negro\n",
      "Processing request 191 in Set 1 | mar del plata\n",
      "Processing request 192 in Set 1 | coxim\n",
      "Processing request 193 in Set 1 | victoria\n",
      "Processing request 194 in Set 1 | vila franca do campo\n",
      "Processing request 195 in Set 1 | pirot\n",
      "Processing request 196 in Set 1 | the pas\n",
      "Processing request 197 in Set 1 | albany\n",
      "Processing request 198 in Set 1 | gao\n",
      "Processing request 199 in Set 1 | khasan\n",
      "Processing request 200 in Set 1 | huangyan\n",
      "Processing request 201 in Set 1 | namtsy\n",
      "Processing request 202 in Set 1 | fortuna\n",
      "Processing request 203 in Set 1 | jardim\n",
      "Processing request 204 in Set 1 | takaka\n",
      "Processing request 205 in Set 1 | lagoa\n",
      "Processing request 206 in Set 1 | launceston\n",
      "Processing request 207 in Set 1 | dondo\n",
      "Processing request 208 in Set 1 | sabang\n",
      "Processing request 209 in Set 1 | havelock\n",
      "Processing request 210 in Set 1 | salta\n",
      "Processing request 211 in Set 1 | tsihombe\n",
      "City not found. Skipping...\n",
      "Processing request 212 in Set 1 | port moresby\n",
      "Processing request 213 in Set 1 | natchitoches\n",
      "Processing request 214 in Set 1 | the valley\n",
      "Processing request 215 in Set 1 | marzuq\n",
      "Processing request 216 in Set 1 | nizhneyansk\n",
      "City not found. Skipping...\n",
      "Processing request 217 in Set 1 | piracuruca\n",
      "Processing request 218 in Set 1 | cagayan de tawi-tawi\n",
      "City not found. Skipping...\n",
      "Processing request 219 in Set 1 | novska\n",
      "Processing request 220 in Set 1 | istanbul\n",
      "Processing request 221 in Set 1 | castro\n",
      "Processing request 222 in Set 1 | dudinka\n",
      "Processing request 223 in Set 1 | saldanha\n",
      "Processing request 224 in Set 1 | winnemucca\n",
      "Processing request 225 in Set 1 | hofn\n",
      "Processing request 226 in Set 1 | saint-pierre\n",
      "Processing request 227 in Set 1 | kirakira\n",
      "Processing request 228 in Set 1 | virginia beach\n",
      "Processing request 229 in Set 1 | ulety\n",
      "Processing request 230 in Set 1 | camana\n",
      "Processing request 231 in Set 1 | karamay\n",
      "City not found. Skipping...\n",
      "Processing request 232 in Set 1 | acapulco\n",
      "Processing request 233 in Set 1 | dakar\n",
      "Processing request 234 in Set 1 | hirara\n",
      "Processing request 235 in Set 1 | almaty\n",
      "Processing request 236 in Set 1 | young\n",
      "Processing request 237 in Set 1 | winchester\n",
      "Processing request 238 in Set 1 | karamea\n",
      "City not found. Skipping...\n",
      "Processing request 239 in Set 1 | yumen\n",
      "Processing request 240 in Set 1 | mamlyutka\n",
      "Processing request 241 in Set 1 | zaysan\n",
      "Processing request 242 in Set 1 | xining\n",
      "Processing request 243 in Set 1 | tilichiki\n",
      "Processing request 244 in Set 1 | peniche\n",
      "Processing request 245 in Set 1 | attawapiskat\n",
      "City not found. Skipping...\n",
      "Processing request 246 in Set 1 | katsiveli\n",
      "City not found. Skipping...\n",
      "Processing request 247 in Set 1 | cap malheureux\n",
      "Processing request 248 in Set 1 | vila velha\n",
      "Processing request 249 in Set 1 | laguna\n",
      "Processing request 250 in Set 1 | north bend\n",
      "Processing request 251 in Set 1 | ancud\n",
      "Processing request 252 in Set 1 | beloha\n",
      "Processing request 253 in Set 1 | okha\n",
      "Processing request 254 in Set 1 | takestan\n",
      "Processing request 255 in Set 1 | ambodifototra\n",
      "City not found. Skipping...\n",
      "Processing request 256 in Set 1 | lavrentiya\n",
      "Processing request 257 in Set 1 | port lincoln\n",
      "Processing request 258 in Set 1 | baltasi\n",
      "Processing request 259 in Set 1 | klaksvik\n",
      "Processing request 260 in Set 1 | flin flon\n",
      "Processing request 261 in Set 1 | rundu\n",
      "Processing request 262 in Set 1 | natal\n",
      "Processing request 263 in Set 1 | tromso\n",
      "Processing request 264 in Set 1 | kodiak\n",
      "Processing request 265 in Set 1 | porto belo\n",
      "Processing request 266 in Set 1 | sao joao da barra\n",
      "Processing request 267 in Set 1 | waipawa\n",
      "Processing request 268 in Set 1 | cairns\n",
      "Processing request 269 in Set 1 | norman wells\n",
      "Processing request 270 in Set 1 | poum\n",
      "Processing request 271 in Set 1 | price\n",
      "Processing request 272 in Set 1 | pa daet\n",
      "Processing request 273 in Set 1 | liuzhou\n",
      "Processing request 274 in Set 1 | nalut\n",
      "Processing request 275 in Set 1 | tuatapere\n",
      "Processing request 276 in Set 1 | mogwase\n",
      "Processing request 277 in Set 1 | homa bay\n",
      "Processing request 278 in Set 1 | nanortalik\n",
      "Processing request 279 in Set 1 | lexington park\n",
      "Processing request 280 in Set 1 | yurla\n",
      "Processing request 281 in Set 1 | sobolevo\n",
      "Processing request 282 in Set 1 | havre-saint-pierre\n",
      "Processing request 283 in Set 1 | gorontalo\n",
      "Processing request 284 in Set 1 | palabuhanratu\n",
      "City not found. Skipping...\n",
      "Processing request 285 in Set 1 | sao miguel\n",
      "Processing request 286 in Set 1 | manono\n",
      "Processing request 287 in Set 1 | saleaula\n",
      "City not found. Skipping...\n",
      "Processing request 288 in Set 1 | turbat\n",
      "Processing request 289 in Set 1 | ginir\n",
      "Processing request 290 in Set 1 | san quintin\n",
      "Processing request 291 in Set 1 | dalvik\n",
      "Processing request 292 in Set 1 | wajir\n",
      "Processing request 293 in Set 1 | midland\n",
      "Processing request 294 in Set 1 | luang prabang\n",
      "Processing request 295 in Set 1 | olga\n",
      "Processing request 296 in Set 1 | burgeo\n",
      "Processing request 297 in Set 1 | wakefield\n",
      "Processing request 298 in Set 1 | galesong\n",
      "Processing request 299 in Set 1 | khandyga\n",
      "Processing request 300 in Set 1 | ibra\n",
      "Processing request 301 in Set 1 | blechepsin\n",
      "Processing request 302 in Set 1 | belaya gora\n",
      "Processing request 303 in Set 1 | mount isa\n",
      "Processing request 304 in Set 1 | angoche\n",
      "Processing request 305 in Set 1 | kurilsk\n",
      "Processing request 306 in Set 1 | mahajanga\n",
      "Processing request 307 in Set 1 | grand river south east\n",
      "City not found. Skipping...\n",
      "Processing request 308 in Set 1 | havoysund\n",
      "Processing request 309 in Set 1 | gumla\n",
      "Processing request 310 in Set 1 | sialkot\n",
      "Processing request 311 in Set 1 | cairo\n",
      "Processing request 312 in Set 1 | marcona\n",
      "City not found. Skipping...\n",
      "Processing request 313 in Set 1 | monrovia\n",
      "Processing request 314 in Set 1 | itoman\n",
      "Processing request 315 in Set 1 | petropavlovsk-kamchatskiy\n",
      "Processing request 316 in Set 1 | sompeta\n",
      "Processing request 317 in Set 1 | karaton\n",
      "Processing request 318 in Set 1 | biak\n",
      "Processing request 319 in Set 1 | akyab\n",
      "Processing request 320 in Set 1 | plaridel\n",
      "Processing request 321 in Set 1 | buariki\n",
      "City not found. Skipping...\n",
      "Processing request 322 in Set 1 | yanam\n",
      "Processing request 323 in Set 1 | diamantino\n",
      "Processing request 324 in Set 1 | saint anthony\n",
      "Processing request 325 in Set 1 | maumere\n",
      "Processing request 326 in Set 1 | makakilo city\n",
      "Processing request 327 in Set 1 | gaurnadi\n",
      "Processing request 328 in Set 1 | shubarshi\n",
      "Processing request 329 in Set 1 | kutum\n",
      "Processing request 330 in Set 1 | vryburg\n",
      "Processing request 331 in Set 1 | suntar\n",
      "Processing request 332 in Set 1 | bang saphan\n",
      "Processing request 333 in Set 1 | casa nova\n",
      "Processing request 334 in Set 1 | taloqan\n",
      "Processing request 335 in Set 1 | mayor pablo lagerenza\n",
      "Processing request 336 in Set 1 | bulgan\n",
      "Processing request 337 in Set 1 | tomatlan\n",
      "Processing request 338 in Set 1 | mimongo\n",
      "Processing request 339 in Set 1 | vrangel\n",
      "Processing request 340 in Set 1 | svetlaya\n",
      "Processing request 341 in Set 1 | klyuchi\n",
      "Processing request 342 in Set 1 | jurado\n",
      "Processing request 343 in Set 1 | teberda\n",
      "Processing request 344 in Set 1 | townsville\n",
      "Processing request 345 in Set 1 | qaanaaq\n",
      "Processing request 346 in Set 1 | komsomolskiy\n",
      "Processing request 347 in Set 1 | srednekolymsk\n",
      "Processing request 348 in Set 1 | sarangani\n",
      "Processing request 349 in Set 1 | guadalupe y calvo\n",
      "Processing request 350 in Set 1 | husavik\n",
      "Processing request 351 in Set 1 | negara\n",
      "Processing request 352 in Set 1 | middelburg\n",
      "Processing request 353 in Set 1 | houston\n",
      "Processing request 354 in Set 1 | henties bay\n",
      "Processing request 355 in Set 1 | college\n",
      "Processing request 356 in Set 1 | carauari\n",
      "Processing request 357 in Set 1 | atar\n",
      "Processing request 358 in Set 1 | tulum\n",
      "Processing request 359 in Set 1 | hay river\n",
      "Processing request 360 in Set 1 | aklavik\n",
      "Processing request 361 in Set 1 | suez\n",
      "Processing request 362 in Set 1 | cocal\n",
      "Processing request 363 in Set 1 | baykit\n",
      "Processing request 364 in Set 1 | oak ridge\n",
      "Processing request 365 in Set 1 | xuddur\n",
      "Processing request 366 in Set 1 | smithers\n"
     ]
    },
    {
     "name": "stdout",
     "output_type": "stream",
     "text": [
      "Processing request 367 in Set 1 | diffa\n",
      "Processing request 368 in Set 1 | tessalit\n",
      "Processing request 369 in Set 1 | araouane\n",
      "Processing request 370 in Set 1 | andros town\n",
      "Processing request 371 in Set 1 | panguipulli\n",
      "Processing request 372 in Set 1 | japura\n",
      "Processing request 373 in Set 1 | korla\n",
      "Processing request 374 in Set 1 | saint-joseph\n",
      "Processing request 375 in Set 1 | vao\n",
      "Processing request 376 in Set 1 | lata\n",
      "Processing request 377 in Set 1 | hasaki\n",
      "Processing request 378 in Set 1 | langsa\n",
      "Processing request 379 in Set 1 | nampa\n",
      "Processing request 380 in Set 1 | kerteh\n",
      "City not found. Skipping...\n",
      "Processing request 381 in Set 1 | oranjemund\n",
      "Processing request 382 in Set 1 | great yarmouth\n",
      "Processing request 383 in Set 1 | grand-lahou\n",
      "Processing request 384 in Set 1 | aberdeen\n",
      "Processing request 385 in Set 1 | calhoun\n",
      "Processing request 386 in Set 1 | san lawrenz\n",
      "Processing request 387 in Set 1 | adrar\n",
      "Processing request 388 in Set 1 | mica\n",
      "Processing request 389 in Set 1 | vanimo\n",
      "Processing request 390 in Set 1 | erenhot\n",
      "Processing request 391 in Set 1 | meulaboh\n",
      "Processing request 392 in Set 1 | portland\n",
      "Processing request 393 in Set 1 | bam\n",
      "Processing request 394 in Set 1 | bontang\n",
      "Processing request 395 in Set 1 | ambositra\n",
      "Processing request 396 in Set 1 | novikovo\n",
      "Processing request 397 in Set 1 | paramonga\n",
      "Processing request 398 in Set 1 | haines junction\n",
      "Processing request 399 in Set 1 | serebryanyy bor\n",
      "Processing request 400 in Set 1 | illoqqortoormiut\n",
      "City not found. Skipping...\n",
      "Processing request 401 in Set 1 | scarborough\n",
      "Processing request 402 in Set 1 | saint george\n",
      "Processing request 403 in Set 1 | fort nelson\n",
      "Processing request 404 in Set 1 | grand gaube\n",
      "Processing request 405 in Set 1 | marawi\n",
      "Processing request 406 in Set 1 | rafai\n",
      "Processing request 407 in Set 1 | asyut\n",
      "Processing request 408 in Set 1 | bababe\n",
      "City not found. Skipping...\n",
      "Processing request 409 in Set 1 | tasiilaq\n",
      "Processing request 410 in Set 1 | nylstroom\n",
      "City not found. Skipping...\n",
      "Processing request 411 in Set 1 | buon me thuot\n",
      "City not found. Skipping...\n",
      "Processing request 412 in Set 1 | kenai\n",
      "Processing request 413 in Set 1 | erzin\n",
      "Processing request 414 in Set 1 | mondlo\n",
      "Processing request 415 in Set 1 | tumut\n",
      "Processing request 416 in Set 1 | samfya\n",
      "Processing request 417 in Set 1 | sambalpur\n",
      "Processing request 418 in Set 1 | la ronge\n",
      "Processing request 419 in Set 1 | lambare\n",
      "Processing request 420 in Set 1 | kudahuvadhoo\n",
      "Processing request 421 in Set 1 | bowen\n",
      "Processing request 422 in Set 1 | tabiauea\n",
      "City not found. Skipping...\n",
      "Processing request 423 in Set 1 | bridlington\n",
      "Processing request 424 in Set 1 | shelburne\n",
      "Processing request 425 in Set 1 | lockhart\n",
      "Processing request 426 in Set 1 | warqla\n",
      "City not found. Skipping...\n",
      "Processing request 427 in Set 1 | desaguadero\n",
      "Processing request 428 in Set 1 | sakakah\n",
      "Processing request 429 in Set 1 | zhuanghe\n",
      "Processing request 430 in Set 1 | eyl\n",
      "Processing request 431 in Set 1 | okhotsk\n",
      "Processing request 432 in Set 1 | shiyan\n",
      "Processing request 433 in Set 1 | anadyr\n",
      "Processing request 434 in Set 1 | venice\n",
      "Processing request 435 in Set 1 | phonhong\n",
      "Processing request 436 in Set 1 | dunedin\n",
      "Processing request 437 in Set 1 | porto walter\n",
      "Processing request 438 in Set 1 | kruisfontein\n",
      "Processing request 439 in Set 1 | jieshi\n",
      "Processing request 440 in Set 1 | thinadhoo\n",
      "Processing request 441 in Set 1 | naples park\n",
      "Processing request 442 in Set 1 | parrita\n",
      "Processing request 443 in Set 1 | kaitangata\n",
      "Processing request 444 in Set 1 | dwarka\n",
      "Processing request 445 in Set 1 | nkawkaw\n",
      "Processing request 446 in Set 1 | buqayq\n",
      "City not found. Skipping...\n",
      "Processing request 447 in Set 1 | avera\n",
      "Processing request 448 in Set 1 | palmer\n",
      "Processing request 449 in Set 1 | sayyan\n",
      "Processing request 450 in Set 1 | kazalinsk\n",
      "City not found. Skipping...\n",
      "Processing request 451 in Set 1 | biala podlaska\n",
      "Processing request 452 in Set 1 | beatrice\n",
      "Processing request 453 in Set 1 | seydi\n",
      "Processing request 454 in Set 1 | pepel\n",
      "Processing request 455 in Set 1 | mokrous\n",
      "Processing request 456 in Set 1 | rodrigues alves\n",
      "Processing request 457 in Set 1 | dhidhdhoo\n",
      "Processing request 458 in Set 1 | toledo\n",
      "Processing request 459 in Set 1 | thaba-tseka\n",
      "Processing request 460 in Set 1 | yairipok\n",
      "Processing request 461 in Set 1 | tarakan\n",
      "Processing request 462 in Set 1 | gebre guracha\n",
      "Processing request 463 in Set 1 | maykain\n",
      "City not found. Skipping...\n",
      "Processing request 464 in Set 1 | moengo\n",
      "Processing request 465 in Set 1 | jiuquan\n",
      "Processing request 466 in Set 1 | codrington\n",
      "Processing request 467 in Set 1 | maniitsoq\n",
      "Processing request 468 in Set 1 | vidalia\n",
      "Processing request 469 in Set 1 | sug-aksy\n",
      "City not found. Skipping...\n",
      "Processing request 470 in Set 1 | isiro\n",
      "Processing request 471 in Set 1 | gornje dubrave\n",
      "Processing request 472 in Set 1 | mlonggo\n",
      "Processing request 473 in Set 1 | mozarlandia\n",
      "Processing request 474 in Set 1 | pangody\n",
      "Processing request 475 in Set 1 | ostrovnoy\n",
      "Processing request 476 in Set 1 | bolobo\n",
      "Processing request 477 in Set 1 | toamasina\n",
      "Processing request 478 in Set 1 | leningradskiy\n",
      "Processing request 479 in Set 1 | owando\n",
      "Processing request 480 in Set 1 | muros\n",
      "Processing request 481 in Set 1 | vaitupu\n",
      "City not found. Skipping...\n",
      "Processing request 482 in Set 1 | port-gentil\n",
      "Processing request 483 in Set 1 | kralendijk\n",
      "Processing request 484 in Set 1 | inhambane\n",
      "Processing request 485 in Set 1 | shenjiamen\n",
      "Processing request 486 in Set 1 | litoral del san juan\n",
      "City not found. Skipping...\n",
      "Processing request 487 in Set 1 | hambantota\n",
      "Processing request 488 in Set 1 | lahaina\n",
      "Processing request 489 in Set 1 | comodoro rivadavia\n",
      "Processing request 490 in Set 1 | altamont\n",
      "Processing request 491 in Set 1 | barras\n",
      "Processing request 492 in Set 1 | burkhala\n",
      "City not found. Skipping...\n",
      "Processing request 493 in Set 1 | constitucion\n",
      "Processing request 494 in Set 1 | grafton\n",
      "Processing request 495 in Set 1 | bokoro\n",
      "Processing request 496 in Set 1 | longlac\n",
      "City not found. Skipping...\n",
      "Processing request 497 in Set 1 | tayu\n",
      "Processing request 498 in Set 1 | chase\n",
      "Processing request 499 in Set 1 | liusha\n",
      "Processing request 500 in Set 1 | kampil\n",
      "Processing request 501 in Set 1 | valparaiso\n",
      "Processing request 502 in Set 1 | msowero\n",
      "Processing request 503 in Set 1 | pangnirtung\n",
      "Processing request 504 in Set 1 | kandrian\n",
      "Processing request 505 in Set 1 | rungata\n",
      "City not found. Skipping...\n",
      "Processing request 506 in Set 1 | verkhnyaya inta\n",
      "Processing request 507 in Set 1 | vardo\n",
      "Processing request 508 in Set 1 | lasa\n",
      "Processing request 509 in Set 1 | broken hill\n",
      "Processing request 510 in Set 1 | ghanzi\n",
      "Processing request 511 in Set 1 | ha tinh\n",
      "Processing request 512 in Set 1 | kavieng\n",
      "Processing request 513 in Set 1 | nicolet\n",
      "Processing request 514 in Set 1 | berdigestyakh\n",
      "Processing request 515 in Set 1 | eskasem\n",
      "City not found. Skipping...\n",
      "Processing request 516 in Set 1 | nantucket\n",
      "Processing request 517 in Set 1 | namibe\n",
      "Processing request 518 in Set 1 | crab hill\n",
      "City not found. Skipping...\n",
      "Processing request 519 in Set 1 | vanavara\n",
      "Processing request 520 in Set 1 | burica\n",
      "City not found. Skipping...\n",
      "Processing request 521 in Set 1 | staryy biser\n",
      "City not found. Skipping...\n",
      "Processing request 522 in Set 1 | sterling\n",
      "Processing request 523 in Set 1 | maragogi\n",
      "Processing request 524 in Set 1 | kondinskoye\n",
      "Processing request 525 in Set 1 | amapa\n",
      "Processing request 526 in Set 1 | zhob\n",
      "Processing request 527 in Set 1 | nokaneng\n",
      "Processing request 528 in Set 1 | chernyshevskiy\n",
      "Processing request 529 in Set 1 | tautira\n",
      "Processing request 530 in Set 1 | denpasar\n",
      "Processing request 531 in Set 1 | tapiramuta\n",
      "Processing request 532 in Set 1 | sorland\n",
      "Processing request 533 in Set 1 | nisia floresta\n",
      "Processing request 534 in Set 1 | itarema\n",
      "Processing request 535 in Set 1 | luderitz\n",
      "Processing request 536 in Set 1 | chaparral\n",
      "Processing request 537 in Set 1 | hsichih\n",
      "City not found. Skipping...\n",
      "Processing request 538 in Set 1 | novyy urengoy\n",
      "Processing request 539 in Set 1 | morehead\n",
      "Processing request 540 in Set 1 | wanxian\n",
      "Processing request 541 in Set 1 | victor harbor\n",
      "Processing request 542 in Set 1 | sumkino\n"
     ]
    },
    {
     "name": "stdout",
     "output_type": "stream",
     "text": [
      "Processing request 543 in Set 1 | supe\n",
      "Processing request 544 in Set 1 | cockburn town\n",
      "Processing request 545 in Set 1 | jumla\n",
      "Processing request 546 in Set 1 | opuwo\n",
      "Processing request 547 in Set 1 | maldonado\n",
      "Processing request 548 in Set 1 | ginda\n",
      "Processing request 549 in Set 1 | mount gambier\n",
      "Processing request 550 in Set 1 | deputatskiy\n",
      "Processing request 551 in Set 1 | rolim de moura\n",
      "City not found. Skipping...\n",
      "Processing request 552 in Set 1 | kefalos\n",
      "Processing request 553 in Set 1 | rantepao\n",
      "Processing request 554 in Set 1 | asilah\n",
      "Processing request 555 in Set 1 | najran\n",
      "Processing request 556 in Set 1 | timra\n",
      "Processing request 557 in Set 1 | tawkar\n",
      "City not found. Skipping...\n",
      "Processing request 558 in Set 1 | limbdi\n",
      "Processing request 559 in Set 1 | iralaya\n",
      "Processing request 560 in Set 1 | bograd\n",
      "Processing request 561 in Set 1 | morros\n",
      "Processing request 562 in Set 1 | huancavelica\n",
      "Processing request 563 in Set 1 | iranshahr\n",
      "Processing request 564 in Set 1 | tarko-sale\n",
      "Processing request 565 in Set 1 | beringovskiy\n",
      "Processing request 566 in Set 1 | issoudun\n",
      "Processing request 567 in Set 1 | weston\n",
      "Processing request 568 in Set 1 | puerto escondido\n",
      "Processing request 569 in Set 1 | saint-augustin\n",
      "Processing request 570 in Set 1 | mackay\n",
      "Processing request 571 in Set 1 | esso\n",
      "Processing request 572 in Set 1 | oksfjord\n",
      "Processing request 573 in Set 1 | yerbogachen\n",
      "Processing request 574 in Set 1 | abomey\n",
      "Processing request 575 in Set 1 | qasigiannguit\n",
      "Processing request 576 in Set 1 | china\n",
      "Processing request 577 in Set 1 | balabac\n",
      "Processing request 578 in Set 1 | agva\n",
      "City not found. Skipping...\n",
      "Processing request 579 in Set 1 | berlevag\n"
     ]
    }
   ],
   "source": [
    "url = \"http://api.openweathermap.org/data/2.5/weather?\"\n",
    "\n",
    "count = 1\n",
    "\n",
    "#for city in cities:\n",
    "for city in cities: \n",
    "    query_url = url + \"appid=\" + weather_api_key + \"&q=\" + city + \"&units=imperial\"\n",
    "    weather_request = requests.get(query_url)\n",
    "    print(f\"Processing request {count} in Set 1 | {city}\")\n",
    "    \n",
    "    try:\n",
    "        weather_request.raise_for_status()\n",
    "        weather_data = weather_request.json()\n",
    "        city_name.append(weather_data['name'])\n",
    "        max_temp.append(weather_data['main']['temp_max'])\n",
    "        humidity.append(weather_data['main']['humidity'])\n",
    "        cloudiness.append(weather_data['clouds']['all'])\n",
    "        wind_speed.append(weather_data['wind']['speed'])\n",
    "        lat.append(weather_data['coord']['lat'])\n",
    "        lng.append(weather_data['coord']['lon'])\n",
    "        country.append(weather_data['sys']['country'])\n",
    "        date.append(weather_data['dt'])\n",
    "        \n",
    "    except requests.HTTPError:\n",
    "        print(\"City not found. Skipping...\")\n",
    "    count +=1\n",
    "\n"
   ]
  },
  {
   "cell_type": "code",
   "execution_count": 6,
   "metadata": {
    "scrolled": false
   },
   "outputs": [
    {
     "data": {
      "text/html": [
       "<div>\n",
       "<style scoped>\n",
       "    .dataframe tbody tr th:only-of-type {\n",
       "        vertical-align: middle;\n",
       "    }\n",
       "\n",
       "    .dataframe tbody tr th {\n",
       "        vertical-align: top;\n",
       "    }\n",
       "\n",
       "    .dataframe thead th {\n",
       "        text-align: right;\n",
       "    }\n",
       "</style>\n",
       "<table border=\"1\" class=\"dataframe\">\n",
       "  <thead>\n",
       "    <tr style=\"text-align: right;\">\n",
       "      <th></th>\n",
       "      <th>city</th>\n",
       "      <th>max_temp</th>\n",
       "      <th>humidity</th>\n",
       "      <th>wind_speed</th>\n",
       "      <th>cloudiness</th>\n",
       "      <th>lat</th>\n",
       "      <th>lng</th>\n",
       "      <th>country</th>\n",
       "      <th>date</th>\n",
       "    </tr>\n",
       "  </thead>\n",
       "  <tbody>\n",
       "    <tr>\n",
       "      <th>0</th>\n",
       "      <td>Cherskiy</td>\n",
       "      <td>46.33</td>\n",
       "      <td>59</td>\n",
       "      <td>4.68</td>\n",
       "      <td>71</td>\n",
       "      <td>68.7500</td>\n",
       "      <td>161.3000</td>\n",
       "      <td>RU</td>\n",
       "      <td>1629149606</td>\n",
       "    </tr>\n",
       "    <tr>\n",
       "      <th>1</th>\n",
       "      <td>Barrow</td>\n",
       "      <td>37.42</td>\n",
       "      <td>75</td>\n",
       "      <td>23.02</td>\n",
       "      <td>90</td>\n",
       "      <td>71.2906</td>\n",
       "      <td>-156.7887</td>\n",
       "      <td>US</td>\n",
       "      <td>1629149606</td>\n",
       "    </tr>\n",
       "    <tr>\n",
       "      <th>2</th>\n",
       "      <td>Hobart</td>\n",
       "      <td>46.26</td>\n",
       "      <td>68</td>\n",
       "      <td>3.00</td>\n",
       "      <td>75</td>\n",
       "      <td>-42.8794</td>\n",
       "      <td>147.3294</td>\n",
       "      <td>AU</td>\n",
       "      <td>1629149405</td>\n",
       "    </tr>\n",
       "    <tr>\n",
       "      <th>3</th>\n",
       "      <td>Kapaa</td>\n",
       "      <td>84.52</td>\n",
       "      <td>67</td>\n",
       "      <td>5.01</td>\n",
       "      <td>1</td>\n",
       "      <td>22.0752</td>\n",
       "      <td>-159.3190</td>\n",
       "      <td>US</td>\n",
       "      <td>1629149607</td>\n",
       "    </tr>\n",
       "    <tr>\n",
       "      <th>4</th>\n",
       "      <td>Busselton</td>\n",
       "      <td>51.08</td>\n",
       "      <td>71</td>\n",
       "      <td>5.06</td>\n",
       "      <td>9</td>\n",
       "      <td>-33.6500</td>\n",
       "      <td>115.3333</td>\n",
       "      <td>AU</td>\n",
       "      <td>1629149607</td>\n",
       "    </tr>\n",
       "    <tr>\n",
       "      <th>...</th>\n",
       "      <td>...</td>\n",
       "      <td>...</td>\n",
       "      <td>...</td>\n",
       "      <td>...</td>\n",
       "      <td>...</td>\n",
       "      <td>...</td>\n",
       "      <td>...</td>\n",
       "      <td>...</td>\n",
       "      <td>...</td>\n",
       "    </tr>\n",
       "    <tr>\n",
       "      <th>524</th>\n",
       "      <td>Abomey</td>\n",
       "      <td>73.15</td>\n",
       "      <td>85</td>\n",
       "      <td>7.20</td>\n",
       "      <td>100</td>\n",
       "      <td>7.1829</td>\n",
       "      <td>1.9912</td>\n",
       "      <td>BJ</td>\n",
       "      <td>1629149757</td>\n",
       "    </tr>\n",
       "    <tr>\n",
       "      <th>525</th>\n",
       "      <td>Qasigiannguit</td>\n",
       "      <td>46.65</td>\n",
       "      <td>91</td>\n",
       "      <td>5.08</td>\n",
       "      <td>100</td>\n",
       "      <td>68.8193</td>\n",
       "      <td>-51.1922</td>\n",
       "      <td>GL</td>\n",
       "      <td>1629149757</td>\n",
       "    </tr>\n",
       "    <tr>\n",
       "      <th>526</th>\n",
       "      <td>China</td>\n",
       "      <td>98.64</td>\n",
       "      <td>29</td>\n",
       "      <td>5.99</td>\n",
       "      <td>2</td>\n",
       "      <td>25.7000</td>\n",
       "      <td>-99.2333</td>\n",
       "      <td>MX</td>\n",
       "      <td>1629149678</td>\n",
       "    </tr>\n",
       "    <tr>\n",
       "      <th>527</th>\n",
       "      <td>Balabac</td>\n",
       "      <td>81.34</td>\n",
       "      <td>75</td>\n",
       "      <td>4.27</td>\n",
       "      <td>66</td>\n",
       "      <td>7.9868</td>\n",
       "      <td>117.0645</td>\n",
       "      <td>PH</td>\n",
       "      <td>1629149757</td>\n",
       "    </tr>\n",
       "    <tr>\n",
       "      <th>528</th>\n",
       "      <td>Berlevåg</td>\n",
       "      <td>46.20</td>\n",
       "      <td>76</td>\n",
       "      <td>8.05</td>\n",
       "      <td>75</td>\n",
       "      <td>70.8578</td>\n",
       "      <td>29.0864</td>\n",
       "      <td>NO</td>\n",
       "      <td>1629149758</td>\n",
       "    </tr>\n",
       "  </tbody>\n",
       "</table>\n",
       "<p>529 rows × 9 columns</p>\n",
       "</div>"
      ],
      "text/plain": [
       "              city  max_temp  humidity  wind_speed  cloudiness      lat  \\\n",
       "0         Cherskiy     46.33        59        4.68          71  68.7500   \n",
       "1           Barrow     37.42        75       23.02          90  71.2906   \n",
       "2           Hobart     46.26        68        3.00          75 -42.8794   \n",
       "3            Kapaa     84.52        67        5.01           1  22.0752   \n",
       "4        Busselton     51.08        71        5.06           9 -33.6500   \n",
       "..             ...       ...       ...         ...         ...      ...   \n",
       "524         Abomey     73.15        85        7.20         100   7.1829   \n",
       "525  Qasigiannguit     46.65        91        5.08         100  68.8193   \n",
       "526          China     98.64        29        5.99           2  25.7000   \n",
       "527        Balabac     81.34        75        4.27          66   7.9868   \n",
       "528       Berlevåg     46.20        76        8.05          75  70.8578   \n",
       "\n",
       "          lng country        date  \n",
       "0    161.3000      RU  1629149606  \n",
       "1   -156.7887      US  1629149606  \n",
       "2    147.3294      AU  1629149405  \n",
       "3   -159.3190      US  1629149607  \n",
       "4    115.3333      AU  1629149607  \n",
       "..        ...     ...         ...  \n",
       "524    1.9912      BJ  1629149757  \n",
       "525  -51.1922      GL  1629149757  \n",
       "526  -99.2333      MX  1629149678  \n",
       "527  117.0645      PH  1629149757  \n",
       "528   29.0864      NO  1629149758  \n",
       "\n",
       "[529 rows x 9 columns]"
      ]
     },
     "execution_count": 6,
     "metadata": {},
     "output_type": "execute_result"
    }
   ],
   "source": [
    "weather_df = pd.DataFrame({\n",
    "    'city': city_name,\n",
    "    'max_temp' : max_temp,\n",
    "    'humidity' : humidity,\n",
    "    'wind_speed': wind_speed,\n",
    "    'cloudiness': cloudiness,\n",
    "    'lat': lat,\n",
    "    'lng': lng,\n",
    "    'country': country,\n",
    "    'date': date\n",
    "})\n",
    "\n",
    "weather_df"
   ]
  },
  {
   "cell_type": "code",
   "execution_count": 7,
   "metadata": {},
   "outputs": [
    {
     "data": {
      "text/html": [
       "<div>\n",
       "<style scoped>\n",
       "    .dataframe tbody tr th:only-of-type {\n",
       "        vertical-align: middle;\n",
       "    }\n",
       "\n",
       "    .dataframe tbody tr th {\n",
       "        vertical-align: top;\n",
       "    }\n",
       "\n",
       "    .dataframe thead th {\n",
       "        text-align: right;\n",
       "    }\n",
       "</style>\n",
       "<table border=\"1\" class=\"dataframe\">\n",
       "  <thead>\n",
       "    <tr style=\"text-align: right;\">\n",
       "      <th></th>\n",
       "      <th>max_temp</th>\n",
       "      <th>humidity</th>\n",
       "      <th>wind_speed</th>\n",
       "      <th>cloudiness</th>\n",
       "      <th>lat</th>\n",
       "      <th>lng</th>\n",
       "      <th>date</th>\n",
       "    </tr>\n",
       "  </thead>\n",
       "  <tbody>\n",
       "    <tr>\n",
       "      <th>count</th>\n",
       "      <td>529.000000</td>\n",
       "      <td>529.000000</td>\n",
       "      <td>529.000000</td>\n",
       "      <td>529.000000</td>\n",
       "      <td>529.000000</td>\n",
       "      <td>529.000000</td>\n",
       "      <td>5.290000e+02</td>\n",
       "    </tr>\n",
       "    <tr>\n",
       "      <th>mean</th>\n",
       "      <td>69.098563</td>\n",
       "      <td>72.391304</td>\n",
       "      <td>7.560548</td>\n",
       "      <td>55.103970</td>\n",
       "      <td>19.012363</td>\n",
       "      <td>18.588926</td>\n",
       "      <td>1.629150e+09</td>\n",
       "    </tr>\n",
       "    <tr>\n",
       "      <th>std</th>\n",
       "      <td>14.175388</td>\n",
       "      <td>20.126118</td>\n",
       "      <td>5.240011</td>\n",
       "      <td>38.276241</td>\n",
       "      <td>33.502708</td>\n",
       "      <td>91.102026</td>\n",
       "      <td>7.803929e+01</td>\n",
       "    </tr>\n",
       "    <tr>\n",
       "      <th>min</th>\n",
       "      <td>33.940000</td>\n",
       "      <td>9.000000</td>\n",
       "      <td>0.000000</td>\n",
       "      <td>0.000000</td>\n",
       "      <td>-54.800000</td>\n",
       "      <td>-175.200000</td>\n",
       "      <td>1.629149e+09</td>\n",
       "    </tr>\n",
       "    <tr>\n",
       "      <th>25%</th>\n",
       "      <td>58.730000</td>\n",
       "      <td>64.000000</td>\n",
       "      <td>3.830000</td>\n",
       "      <td>15.000000</td>\n",
       "      <td>-8.650000</td>\n",
       "      <td>-63.057800</td>\n",
       "      <td>1.629150e+09</td>\n",
       "    </tr>\n",
       "    <tr>\n",
       "      <th>50%</th>\n",
       "      <td>70.660000</td>\n",
       "      <td>77.000000</td>\n",
       "      <td>6.510000</td>\n",
       "      <td>69.000000</td>\n",
       "      <td>22.813400</td>\n",
       "      <td>24.666700</td>\n",
       "      <td>1.629150e+09</td>\n",
       "    </tr>\n",
       "    <tr>\n",
       "      <th>75%</th>\n",
       "      <td>80.150000</td>\n",
       "      <td>87.000000</td>\n",
       "      <td>10.360000</td>\n",
       "      <td>91.000000</td>\n",
       "      <td>46.366700</td>\n",
       "      <td>99.511700</td>\n",
       "      <td>1.629150e+09</td>\n",
       "    </tr>\n",
       "    <tr>\n",
       "      <th>max</th>\n",
       "      <td>108.210000</td>\n",
       "      <td>100.000000</td>\n",
       "      <td>35.790000</td>\n",
       "      <td>100.000000</td>\n",
       "      <td>78.218600</td>\n",
       "      <td>179.316700</td>\n",
       "      <td>1.629150e+09</td>\n",
       "    </tr>\n",
       "  </tbody>\n",
       "</table>\n",
       "</div>"
      ],
      "text/plain": [
       "         max_temp    humidity  wind_speed  cloudiness         lat         lng  \\\n",
       "count  529.000000  529.000000  529.000000  529.000000  529.000000  529.000000   \n",
       "mean    69.098563   72.391304    7.560548   55.103970   19.012363   18.588926   \n",
       "std     14.175388   20.126118    5.240011   38.276241   33.502708   91.102026   \n",
       "min     33.940000    9.000000    0.000000    0.000000  -54.800000 -175.200000   \n",
       "25%     58.730000   64.000000    3.830000   15.000000   -8.650000  -63.057800   \n",
       "50%     70.660000   77.000000    6.510000   69.000000   22.813400   24.666700   \n",
       "75%     80.150000   87.000000   10.360000   91.000000   46.366700   99.511700   \n",
       "max    108.210000  100.000000   35.790000  100.000000   78.218600  179.316700   \n",
       "\n",
       "               date  \n",
       "count  5.290000e+02  \n",
       "mean   1.629150e+09  \n",
       "std    7.803929e+01  \n",
       "min    1.629149e+09  \n",
       "25%    1.629150e+09  \n",
       "50%    1.629150e+09  \n",
       "75%    1.629150e+09  \n",
       "max    1.629150e+09  "
      ]
     },
     "execution_count": 7,
     "metadata": {},
     "output_type": "execute_result"
    }
   ],
   "source": [
    "weather_df.describe()"
   ]
  },
  {
   "cell_type": "markdown",
   "metadata": {},
   "source": [
    "### Perform API Calls\n",
    "* Perform a weather check on each city using a series of successive API calls.\n",
    "* Include a print log of each city as it'sbeing processed (with the city number and city name).\n"
   ]
  },
  {
   "cell_type": "code",
   "execution_count": null,
   "metadata": {
    "scrolled": true
   },
   "outputs": [],
   "source": []
  },
  {
   "cell_type": "markdown",
   "metadata": {},
   "source": [
    "### Convert Raw Data to DataFrame\n",
    "* Export the city data into a .csv.\n",
    "* Display the DataFrame"
   ]
  },
  {
   "cell_type": "code",
   "execution_count": 8,
   "metadata": {},
   "outputs": [],
   "source": [
    "weather_df.to_csv('output_data/weather_data.csv')"
   ]
  },
  {
   "cell_type": "code",
   "execution_count": 16,
   "metadata": {},
   "outputs": [
    {
     "data": {
      "text/html": [
       "<div>\n",
       "<style scoped>\n",
       "    .dataframe tbody tr th:only-of-type {\n",
       "        vertical-align: middle;\n",
       "    }\n",
       "\n",
       "    .dataframe tbody tr th {\n",
       "        vertical-align: top;\n",
       "    }\n",
       "\n",
       "    .dataframe thead th {\n",
       "        text-align: right;\n",
       "    }\n",
       "</style>\n",
       "<table border=\"1\" class=\"dataframe\">\n",
       "  <thead>\n",
       "    <tr style=\"text-align: right;\">\n",
       "      <th></th>\n",
       "      <th>Lat</th>\n",
       "      <th>Lng</th>\n",
       "      <th>Max Temp</th>\n",
       "      <th>Humidity</th>\n",
       "      <th>Cloudiness</th>\n",
       "      <th>Wind Speed</th>\n",
       "      <th>Date</th>\n",
       "    </tr>\n",
       "  </thead>\n",
       "  <tbody>\n",
       "    <tr>\n",
       "      <td>count</td>\n",
       "      <td>599.000000</td>\n",
       "      <td>599.000000</td>\n",
       "      <td>599.000000</td>\n",
       "      <td>599.000000</td>\n",
       "      <td>599.000000</td>\n",
       "      <td>599.000000</td>\n",
       "      <td>5.990000e+02</td>\n",
       "    </tr>\n",
       "    <tr>\n",
       "      <td>mean</td>\n",
       "      <td>19.877028</td>\n",
       "      <td>19.568998</td>\n",
       "      <td>69.794808</td>\n",
       "      <td>69.353923</td>\n",
       "      <td>51.569282</td>\n",
       "      <td>7.979416</td>\n",
       "      <td>1.593605e+09</td>\n",
       "    </tr>\n",
       "    <tr>\n",
       "      <td>std</td>\n",
       "      <td>33.262944</td>\n",
       "      <td>91.418472</td>\n",
       "      <td>15.678452</td>\n",
       "      <td>22.704698</td>\n",
       "      <td>35.405602</td>\n",
       "      <td>5.660694</td>\n",
       "      <td>5.738815e+01</td>\n",
       "    </tr>\n",
       "    <tr>\n",
       "      <td>min</td>\n",
       "      <td>-54.800000</td>\n",
       "      <td>-179.170000</td>\n",
       "      <td>12.200000</td>\n",
       "      <td>7.000000</td>\n",
       "      <td>0.000000</td>\n",
       "      <td>0.360000</td>\n",
       "      <td>1.593605e+09</td>\n",
       "    </tr>\n",
       "    <tr>\n",
       "      <td>25%</td>\n",
       "      <td>-8.540000</td>\n",
       "      <td>-61.210000</td>\n",
       "      <td>59.000000</td>\n",
       "      <td>55.000000</td>\n",
       "      <td>20.000000</td>\n",
       "      <td>3.620000</td>\n",
       "      <td>1.593605e+09</td>\n",
       "    </tr>\n",
       "    <tr>\n",
       "      <td>50%</td>\n",
       "      <td>24.370000</td>\n",
       "      <td>24.670000</td>\n",
       "      <td>73.110000</td>\n",
       "      <td>75.000000</td>\n",
       "      <td>59.000000</td>\n",
       "      <td>6.730000</td>\n",
       "      <td>1.593605e+09</td>\n",
       "    </tr>\n",
       "    <tr>\n",
       "      <td>75%</td>\n",
       "      <td>46.585000</td>\n",
       "      <td>102.255000</td>\n",
       "      <td>80.600000</td>\n",
       "      <td>87.000000</td>\n",
       "      <td>85.000000</td>\n",
       "      <td>11.050000</td>\n",
       "      <td>1.593605e+09</td>\n",
       "    </tr>\n",
       "    <tr>\n",
       "      <td>max</td>\n",
       "      <td>78.220000</td>\n",
       "      <td>179.320000</td>\n",
       "      <td>116.600000</td>\n",
       "      <td>100.000000</td>\n",
       "      <td>100.000000</td>\n",
       "      <td>42.500000</td>\n",
       "      <td>1.593605e+09</td>\n",
       "    </tr>\n",
       "  </tbody>\n",
       "</table>\n",
       "</div>"
      ],
      "text/plain": [
       "              Lat         Lng    Max Temp    Humidity  Cloudiness  Wind Speed  \\\n",
       "count  599.000000  599.000000  599.000000  599.000000  599.000000  599.000000   \n",
       "mean    19.877028   19.568998   69.794808   69.353923   51.569282    7.979416   \n",
       "std     33.262944   91.418472   15.678452   22.704698   35.405602    5.660694   \n",
       "min    -54.800000 -179.170000   12.200000    7.000000    0.000000    0.360000   \n",
       "25%     -8.540000  -61.210000   59.000000   55.000000   20.000000    3.620000   \n",
       "50%     24.370000   24.670000   73.110000   75.000000   59.000000    6.730000   \n",
       "75%     46.585000  102.255000   80.600000   87.000000   85.000000   11.050000   \n",
       "max     78.220000  179.320000  116.600000  100.000000  100.000000   42.500000   \n",
       "\n",
       "               Date  \n",
       "count  5.990000e+02  \n",
       "mean   1.593605e+09  \n",
       "std    5.738815e+01  \n",
       "min    1.593605e+09  \n",
       "25%    1.593605e+09  \n",
       "50%    1.593605e+09  \n",
       "75%    1.593605e+09  \n",
       "max    1.593605e+09  "
      ]
     },
     "execution_count": 16,
     "metadata": {},
     "output_type": "execute_result"
    }
   ],
   "source": []
  },
  {
   "cell_type": "markdown",
   "metadata": {},
   "source": [
    "## Inspect the data and remove the cities where the humidity > 100%.\n",
    "----\n",
    "Skip this step if there are no cities that have humidity > 100%. "
   ]
  },
  {
   "cell_type": "code",
   "execution_count": 9,
   "metadata": {},
   "outputs": [
    {
     "data": {
      "text/html": [
       "<div>\n",
       "<style scoped>\n",
       "    .dataframe tbody tr th:only-of-type {\n",
       "        vertical-align: middle;\n",
       "    }\n",
       "\n",
       "    .dataframe tbody tr th {\n",
       "        vertical-align: top;\n",
       "    }\n",
       "\n",
       "    .dataframe thead th {\n",
       "        text-align: right;\n",
       "    }\n",
       "</style>\n",
       "<table border=\"1\" class=\"dataframe\">\n",
       "  <thead>\n",
       "    <tr style=\"text-align: right;\">\n",
       "      <th></th>\n",
       "      <th>city</th>\n",
       "      <th>max_temp</th>\n",
       "      <th>humidity</th>\n",
       "      <th>wind_speed</th>\n",
       "      <th>cloudiness</th>\n",
       "      <th>lat</th>\n",
       "      <th>lng</th>\n",
       "      <th>country</th>\n",
       "      <th>date</th>\n",
       "    </tr>\n",
       "  </thead>\n",
       "  <tbody>\n",
       "    <tr>\n",
       "      <th>60</th>\n",
       "      <td>Iqaluit</td>\n",
       "      <td>40.73</td>\n",
       "      <td>100</td>\n",
       "      <td>17.27</td>\n",
       "      <td>90</td>\n",
       "      <td>63.7506</td>\n",
       "      <td>-68.5145</td>\n",
       "      <td>CA</td>\n",
       "      <td>1629149622</td>\n",
       "    </tr>\n",
       "    <tr>\n",
       "      <th>68</th>\n",
       "      <td>Labuan</td>\n",
       "      <td>75.56</td>\n",
       "      <td>100</td>\n",
       "      <td>0.00</td>\n",
       "      <td>20</td>\n",
       "      <td>5.2767</td>\n",
       "      <td>115.2417</td>\n",
       "      <td>MY</td>\n",
       "      <td>1629149625</td>\n",
       "    </tr>\n",
       "    <tr>\n",
       "      <th>270</th>\n",
       "      <td>Luang Prabang</td>\n",
       "      <td>72.54</td>\n",
       "      <td>100</td>\n",
       "      <td>0.94</td>\n",
       "      <td>100</td>\n",
       "      <td>19.8856</td>\n",
       "      <td>102.1347</td>\n",
       "      <td>LA</td>\n",
       "      <td>1629149681</td>\n",
       "    </tr>\n",
       "    <tr>\n",
       "      <th>433</th>\n",
       "      <td>Gornje Dubrave</td>\n",
       "      <td>64.29</td>\n",
       "      <td>100</td>\n",
       "      <td>1.14</td>\n",
       "      <td>0</td>\n",
       "      <td>44.4717</td>\n",
       "      <td>18.7122</td>\n",
       "      <td>BA</td>\n",
       "      <td>1629149729</td>\n",
       "    </tr>\n",
       "    <tr>\n",
       "      <th>501</th>\n",
       "      <td>Mount Gambier</td>\n",
       "      <td>46.31</td>\n",
       "      <td>100</td>\n",
       "      <td>5.75</td>\n",
       "      <td>90</td>\n",
       "      <td>-37.8333</td>\n",
       "      <td>140.7667</td>\n",
       "      <td>AU</td>\n",
       "      <td>1629149491</td>\n",
       "    </tr>\n",
       "    <tr>\n",
       "      <th>520</th>\n",
       "      <td>Mackay</td>\n",
       "      <td>63.05</td>\n",
       "      <td>100</td>\n",
       "      <td>3.44</td>\n",
       "      <td>40</td>\n",
       "      <td>-21.1500</td>\n",
       "      <td>149.2000</td>\n",
       "      <td>AU</td>\n",
       "      <td>1629149755</td>\n",
       "    </tr>\n",
       "  </tbody>\n",
       "</table>\n",
       "</div>"
      ],
      "text/plain": [
       "               city  max_temp  humidity  wind_speed  cloudiness      lat  \\\n",
       "60          Iqaluit     40.73       100       17.27          90  63.7506   \n",
       "68           Labuan     75.56       100        0.00          20   5.2767   \n",
       "270   Luang Prabang     72.54       100        0.94         100  19.8856   \n",
       "433  Gornje Dubrave     64.29       100        1.14           0  44.4717   \n",
       "501   Mount Gambier     46.31       100        5.75          90 -37.8333   \n",
       "520          Mackay     63.05       100        3.44          40 -21.1500   \n",
       "\n",
       "          lng country        date  \n",
       "60   -68.5145      CA  1629149622  \n",
       "68   115.2417      MY  1629149625  \n",
       "270  102.1347      LA  1629149681  \n",
       "433   18.7122      BA  1629149729  \n",
       "501  140.7667      AU  1629149491  \n",
       "520  149.2000      AU  1629149755  "
      ]
     },
     "execution_count": 9,
     "metadata": {},
     "output_type": "execute_result"
    }
   ],
   "source": [
    "humidity_100 = weather_df.loc[weather_df['humidity'] == 100]\n",
    "humidity_100"
   ]
  },
  {
   "cell_type": "code",
   "execution_count": 10,
   "metadata": {},
   "outputs": [
    {
     "data": {
      "text/plain": [
       "[60, 68, 270, 433, 501, 520]"
      ]
     },
     "execution_count": 10,
     "metadata": {},
     "output_type": "execute_result"
    }
   ],
   "source": [
    "#  Get the indices of cities that have humidity over 100%.\n",
    "drop_cities = humidity_100.index.to_list()\n",
    "drop_cities"
   ]
  },
  {
   "cell_type": "code",
   "execution_count": 11,
   "metadata": {},
   "outputs": [
    {
     "data": {
      "text/html": [
       "<div>\n",
       "<style scoped>\n",
       "    .dataframe tbody tr th:only-of-type {\n",
       "        vertical-align: middle;\n",
       "    }\n",
       "\n",
       "    .dataframe tbody tr th {\n",
       "        vertical-align: top;\n",
       "    }\n",
       "\n",
       "    .dataframe thead th {\n",
       "        text-align: right;\n",
       "    }\n",
       "</style>\n",
       "<table border=\"1\" class=\"dataframe\">\n",
       "  <thead>\n",
       "    <tr style=\"text-align: right;\">\n",
       "      <th></th>\n",
       "      <th>city</th>\n",
       "      <th>max_temp</th>\n",
       "      <th>humidity</th>\n",
       "      <th>wind_speed</th>\n",
       "      <th>cloudiness</th>\n",
       "      <th>lat</th>\n",
       "      <th>lng</th>\n",
       "      <th>country</th>\n",
       "      <th>date</th>\n",
       "    </tr>\n",
       "  </thead>\n",
       "  <tbody>\n",
       "    <tr>\n",
       "      <th>0</th>\n",
       "      <td>Cherskiy</td>\n",
       "      <td>46.33</td>\n",
       "      <td>59</td>\n",
       "      <td>4.68</td>\n",
       "      <td>71</td>\n",
       "      <td>68.7500</td>\n",
       "      <td>161.3000</td>\n",
       "      <td>RU</td>\n",
       "      <td>1629149606</td>\n",
       "    </tr>\n",
       "    <tr>\n",
       "      <th>1</th>\n",
       "      <td>Barrow</td>\n",
       "      <td>37.42</td>\n",
       "      <td>75</td>\n",
       "      <td>23.02</td>\n",
       "      <td>90</td>\n",
       "      <td>71.2906</td>\n",
       "      <td>-156.7887</td>\n",
       "      <td>US</td>\n",
       "      <td>1629149606</td>\n",
       "    </tr>\n",
       "    <tr>\n",
       "      <th>2</th>\n",
       "      <td>Hobart</td>\n",
       "      <td>46.26</td>\n",
       "      <td>68</td>\n",
       "      <td>3.00</td>\n",
       "      <td>75</td>\n",
       "      <td>-42.8794</td>\n",
       "      <td>147.3294</td>\n",
       "      <td>AU</td>\n",
       "      <td>1629149405</td>\n",
       "    </tr>\n",
       "    <tr>\n",
       "      <th>3</th>\n",
       "      <td>Kapaa</td>\n",
       "      <td>84.52</td>\n",
       "      <td>67</td>\n",
       "      <td>5.01</td>\n",
       "      <td>1</td>\n",
       "      <td>22.0752</td>\n",
       "      <td>-159.3190</td>\n",
       "      <td>US</td>\n",
       "      <td>1629149607</td>\n",
       "    </tr>\n",
       "    <tr>\n",
       "      <th>4</th>\n",
       "      <td>Busselton</td>\n",
       "      <td>51.08</td>\n",
       "      <td>71</td>\n",
       "      <td>5.06</td>\n",
       "      <td>9</td>\n",
       "      <td>-33.6500</td>\n",
       "      <td>115.3333</td>\n",
       "      <td>AU</td>\n",
       "      <td>1629149607</td>\n",
       "    </tr>\n",
       "    <tr>\n",
       "      <th>...</th>\n",
       "      <td>...</td>\n",
       "      <td>...</td>\n",
       "      <td>...</td>\n",
       "      <td>...</td>\n",
       "      <td>...</td>\n",
       "      <td>...</td>\n",
       "      <td>...</td>\n",
       "      <td>...</td>\n",
       "      <td>...</td>\n",
       "    </tr>\n",
       "    <tr>\n",
       "      <th>518</th>\n",
       "      <td>Abomey</td>\n",
       "      <td>73.15</td>\n",
       "      <td>85</td>\n",
       "      <td>7.20</td>\n",
       "      <td>100</td>\n",
       "      <td>7.1829</td>\n",
       "      <td>1.9912</td>\n",
       "      <td>BJ</td>\n",
       "      <td>1629149757</td>\n",
       "    </tr>\n",
       "    <tr>\n",
       "      <th>519</th>\n",
       "      <td>Qasigiannguit</td>\n",
       "      <td>46.65</td>\n",
       "      <td>91</td>\n",
       "      <td>5.08</td>\n",
       "      <td>100</td>\n",
       "      <td>68.8193</td>\n",
       "      <td>-51.1922</td>\n",
       "      <td>GL</td>\n",
       "      <td>1629149757</td>\n",
       "    </tr>\n",
       "    <tr>\n",
       "      <th>520</th>\n",
       "      <td>China</td>\n",
       "      <td>98.64</td>\n",
       "      <td>29</td>\n",
       "      <td>5.99</td>\n",
       "      <td>2</td>\n",
       "      <td>25.7000</td>\n",
       "      <td>-99.2333</td>\n",
       "      <td>MX</td>\n",
       "      <td>1629149678</td>\n",
       "    </tr>\n",
       "    <tr>\n",
       "      <th>521</th>\n",
       "      <td>Balabac</td>\n",
       "      <td>81.34</td>\n",
       "      <td>75</td>\n",
       "      <td>4.27</td>\n",
       "      <td>66</td>\n",
       "      <td>7.9868</td>\n",
       "      <td>117.0645</td>\n",
       "      <td>PH</td>\n",
       "      <td>1629149757</td>\n",
       "    </tr>\n",
       "    <tr>\n",
       "      <th>522</th>\n",
       "      <td>Berlevåg</td>\n",
       "      <td>46.20</td>\n",
       "      <td>76</td>\n",
       "      <td>8.05</td>\n",
       "      <td>75</td>\n",
       "      <td>70.8578</td>\n",
       "      <td>29.0864</td>\n",
       "      <td>NO</td>\n",
       "      <td>1629149758</td>\n",
       "    </tr>\n",
       "  </tbody>\n",
       "</table>\n",
       "<p>523 rows × 9 columns</p>\n",
       "</div>"
      ],
      "text/plain": [
       "              city  max_temp  humidity  wind_speed  cloudiness      lat  \\\n",
       "0         Cherskiy     46.33        59        4.68          71  68.7500   \n",
       "1           Barrow     37.42        75       23.02          90  71.2906   \n",
       "2           Hobart     46.26        68        3.00          75 -42.8794   \n",
       "3            Kapaa     84.52        67        5.01           1  22.0752   \n",
       "4        Busselton     51.08        71        5.06           9 -33.6500   \n",
       "..             ...       ...       ...         ...         ...      ...   \n",
       "518         Abomey     73.15        85        7.20         100   7.1829   \n",
       "519  Qasigiannguit     46.65        91        5.08         100  68.8193   \n",
       "520          China     98.64        29        5.99           2  25.7000   \n",
       "521        Balabac     81.34        75        4.27          66   7.9868   \n",
       "522       Berlevåg     46.20        76        8.05          75  70.8578   \n",
       "\n",
       "          lng country        date  \n",
       "0    161.3000      RU  1629149606  \n",
       "1   -156.7887      US  1629149606  \n",
       "2    147.3294      AU  1629149405  \n",
       "3   -159.3190      US  1629149607  \n",
       "4    115.3333      AU  1629149607  \n",
       "..        ...     ...         ...  \n",
       "518    1.9912      BJ  1629149757  \n",
       "519  -51.1922      GL  1629149757  \n",
       "520  -99.2333      MX  1629149678  \n",
       "521  117.0645      PH  1629149757  \n",
       "522   29.0864      NO  1629149758  \n",
       "\n",
       "[523 rows x 9 columns]"
      ]
     },
     "execution_count": 11,
     "metadata": {},
     "output_type": "execute_result"
    }
   ],
   "source": [
    "# Make a new DataFrame equal to the city data to drop all humidity outliers by index.\n",
    "# Passing \"inplace=False\" will make a copy of the city_data DataFrame, which we call \"clean_city_data\".\n",
    "\n",
    "clean_city_data = weather_df.drop(drop_cities, inplace=False)\n",
    "clean_city_data.reset_index(drop=True)"
   ]
  },
  {
   "cell_type": "code",
   "execution_count": null,
   "metadata": {},
   "outputs": [],
   "source": [
    "\n"
   ]
  },
  {
   "cell_type": "code",
   "execution_count": null,
   "metadata": {},
   "outputs": [],
   "source": []
  },
  {
   "cell_type": "markdown",
   "metadata": {},
   "source": [
    "## Plotting the Data\n",
    "* Use proper labeling of the plots using plot titles (including date of analysis) and axes labels.\n",
    "* Save the plotted figures as .pngs."
   ]
  },
  {
   "cell_type": "markdown",
   "metadata": {},
   "source": [
    "## Latitude vs. Temperature Plot"
   ]
  },
  {
   "cell_type": "code",
   "execution_count": 75,
   "metadata": {},
   "outputs": [
    {
     "data": {
      "image/png": "[encoded data removed]",
      "text/plain": [
       "<Figure size 432x288 with 1 Axes>"
      ]
     },
     "metadata": {
      "needs_background": "light"
     },
     "output_type": "display_data"
    }
   ],
   "source": [
    "lat = clean_city_data['lat']\n",
    "max_temp = clean_city_data['max_temp']\n",
    "\n",
    "plt.scatter(lat, max_temp, marker='o')\n",
    "plt.xlabel('Latitude')\n",
    "plt.ylabel('Max Temp')\n",
    "plt.title('City Latitude vs Max Temperature')\n",
    "plt.savefig('output_data/Lat_vs_MaxTemp.png')"
   ]
  },
  {
   "cell_type": "code",
   "execution_count": 10,
   "metadata": {
    "scrolled": true
   },
   "outputs": [
    {
     "data": {
      "image/png": "[encoded data removed]",
      "text/plain": [
       "<Figure size 432x288 with 1 Axes>"
      ]
     },
     "metadata": {
      "needs_background": "light"
     },
     "output_type": "display_data"
    }
   ],
   "source": []
  },
  {
   "cell_type": "markdown",
   "metadata": {},
   "source": [
    "## Latitude vs. Humidity Plot"
   ]
  },
  {
   "cell_type": "code",
   "execution_count": 77,
   "metadata": {},
   "outputs": [
    {
     "data": {
      "image/png": "[encoded data removed]",
      "text/plain": [
       "<Figure size 432x288 with 1 Axes>"
      ]
     },
     "metadata": {
      "needs_background": "light"
     },
     "output_type": "display_data"
    }
   ],
   "source": [
    "humidity = clean_city_data['humidity']\n",
    "\n",
    "plt.scatter(lat, humidity, color='r')\n",
    "plt.xlabel('Latitude')\n",
    "plt.ylabel('Humidity')\n",
    "plt.title('City Latitude vs Humidity')\n",
    "plt.savefig('output_data/Lat_vs_Humidity.png')\n"
   ]
  },
  {
   "cell_type": "code",
   "execution_count": null,
   "metadata": {},
   "outputs": [],
   "source": []
  },
  {
   "cell_type": "markdown",
   "metadata": {},
   "source": [
    "## Latitude vs. Cloudiness Plot"
   ]
  },
  {
   "cell_type": "code",
   "execution_count": 78,
   "metadata": {},
   "outputs": [
    {
     "data": {
      "image/png": "[encoded data removed]",
      "text/plain": [
       "<Figure size 432x288 with 1 Axes>"
      ]
     },
     "metadata": {
      "needs_background": "light"
     },
     "output_type": "display_data"
    }
   ],
   "source": [
    "cloudiness = clean_city_data['cloudiness']\n",
    "plt.scatter(lat, cloudiness, color='g')\n",
    "plt.xlabel('Latitude')\n",
    "plt.ylabel('Cloudiness')\n",
    "plt.title('City Latitude vs Cloudiness')\n",
    "plt.savefig('output_data/Lat_vs_Cloudiness.png')"
   ]
  },
  {
   "cell_type": "markdown",
   "metadata": {},
   "source": [
    "## Latitude vs. Wind Speed Plot"
   ]
  },
  {
   "cell_type": "code",
   "execution_count": 79,
   "metadata": {},
   "outputs": [
    {
     "data": {
      "image/png": "[encoded data removed]",
      "text/plain": [
       "<Figure size 432x288 with 1 Axes>"
      ]
     },
     "metadata": {
      "needs_background": "light"
     },
     "output_type": "display_data"
    }
   ],
   "source": [
    "wind_speed = clean_city_data['wind_speed']\n",
    "plt.scatter(lat, wind_speed)\n",
    "plt.xlabel('Latitude')\n",
    "plt.ylabel('Wind Speed')\n",
    "plt.title('City Latitude vs Wind Speed')\n",
    "plt.savefig('output_data/Lat_vs_WindSpeed.png')"
   ]
  },
  {
   "cell_type": "markdown",
   "metadata": {},
   "source": [
    "## Linear Regression"
   ]
  },
  {
   "cell_type": "code",
   "execution_count": 24,
   "metadata": {},
   "outputs": [],
   "source": []
  },
  {
   "cell_type": "markdown",
   "metadata": {},
   "source": [
    "####  Northern Hemisphere - Max Temp vs. Latitude Linear Regression"
   ]
  },
  {
   "cell_type": "code",
   "execution_count": 19,
   "metadata": {},
   "outputs": [
    {
     "data": {
      "text/html": [
       "<div>\n",
       "<style scoped>\n",
       "    .dataframe tbody tr th:only-of-type {\n",
       "        vertical-align: middle;\n",
       "    }\n",
       "\n",
       "    .dataframe tbody tr th {\n",
       "        vertical-align: top;\n",
       "    }\n",
       "\n",
       "    .dataframe thead th {\n",
       "        text-align: right;\n",
       "    }\n",
       "</style>\n",
       "<table border=\"1\" class=\"dataframe\">\n",
       "  <thead>\n",
       "    <tr style=\"text-align: right;\">\n",
       "      <th></th>\n",
       "      <th>city</th>\n",
       "      <th>max_temp</th>\n",
       "      <th>humidity</th>\n",
       "      <th>wind_speed</th>\n",
       "      <th>cloudiness</th>\n",
       "      <th>lat</th>\n",
       "      <th>lng</th>\n",
       "      <th>country</th>\n",
       "      <th>date</th>\n",
       "    </tr>\n",
       "  </thead>\n",
       "  <tbody>\n",
       "    <tr>\n",
       "      <th>0</th>\n",
       "      <td>Cherskiy</td>\n",
       "      <td>46.33</td>\n",
       "      <td>59</td>\n",
       "      <td>4.68</td>\n",
       "      <td>71</td>\n",
       "      <td>68.7500</td>\n",
       "      <td>161.3000</td>\n",
       "      <td>RU</td>\n",
       "      <td>1629149606</td>\n",
       "    </tr>\n",
       "    <tr>\n",
       "      <th>1</th>\n",
       "      <td>Barrow</td>\n",
       "      <td>37.42</td>\n",
       "      <td>75</td>\n",
       "      <td>23.02</td>\n",
       "      <td>90</td>\n",
       "      <td>71.2906</td>\n",
       "      <td>-156.7887</td>\n",
       "      <td>US</td>\n",
       "      <td>1629149606</td>\n",
       "    </tr>\n",
       "    <tr>\n",
       "      <th>3</th>\n",
       "      <td>Kapaa</td>\n",
       "      <td>84.52</td>\n",
       "      <td>67</td>\n",
       "      <td>5.01</td>\n",
       "      <td>1</td>\n",
       "      <td>22.0752</td>\n",
       "      <td>-159.3190</td>\n",
       "      <td>US</td>\n",
       "      <td>1629149607</td>\n",
       "    </tr>\n",
       "    <tr>\n",
       "      <th>5</th>\n",
       "      <td>Ratnagiri</td>\n",
       "      <td>76.78</td>\n",
       "      <td>87</td>\n",
       "      <td>3.98</td>\n",
       "      <td>100</td>\n",
       "      <td>16.9833</td>\n",
       "      <td>73.3000</td>\n",
       "      <td>IN</td>\n",
       "      <td>1629149607</td>\n",
       "    </tr>\n",
       "    <tr>\n",
       "      <th>6</th>\n",
       "      <td>Narsaq</td>\n",
       "      <td>50.22</td>\n",
       "      <td>99</td>\n",
       "      <td>0.34</td>\n",
       "      <td>100</td>\n",
       "      <td>60.9167</td>\n",
       "      <td>-46.0500</td>\n",
       "      <td>GL</td>\n",
       "      <td>1629149608</td>\n",
       "    </tr>\n",
       "    <tr>\n",
       "      <th>...</th>\n",
       "      <td>...</td>\n",
       "      <td>...</td>\n",
       "      <td>...</td>\n",
       "      <td>...</td>\n",
       "      <td>...</td>\n",
       "      <td>...</td>\n",
       "      <td>...</td>\n",
       "      <td>...</td>\n",
       "      <td>...</td>\n",
       "    </tr>\n",
       "    <tr>\n",
       "      <th>524</th>\n",
       "      <td>Abomey</td>\n",
       "      <td>73.15</td>\n",
       "      <td>85</td>\n",
       "      <td>7.20</td>\n",
       "      <td>100</td>\n",
       "      <td>7.1829</td>\n",
       "      <td>1.9912</td>\n",
       "      <td>BJ</td>\n",
       "      <td>1629149757</td>\n",
       "    </tr>\n",
       "    <tr>\n",
       "      <th>525</th>\n",
       "      <td>Qasigiannguit</td>\n",
       "      <td>46.65</td>\n",
       "      <td>91</td>\n",
       "      <td>5.08</td>\n",
       "      <td>100</td>\n",
       "      <td>68.8193</td>\n",
       "      <td>-51.1922</td>\n",
       "      <td>GL</td>\n",
       "      <td>1629149757</td>\n",
       "    </tr>\n",
       "    <tr>\n",
       "      <th>526</th>\n",
       "      <td>China</td>\n",
       "      <td>98.64</td>\n",
       "      <td>29</td>\n",
       "      <td>5.99</td>\n",
       "      <td>2</td>\n",
       "      <td>25.7000</td>\n",
       "      <td>-99.2333</td>\n",
       "      <td>MX</td>\n",
       "      <td>1629149678</td>\n",
       "    </tr>\n",
       "    <tr>\n",
       "      <th>527</th>\n",
       "      <td>Balabac</td>\n",
       "      <td>81.34</td>\n",
       "      <td>75</td>\n",
       "      <td>4.27</td>\n",
       "      <td>66</td>\n",
       "      <td>7.9868</td>\n",
       "      <td>117.0645</td>\n",
       "      <td>PH</td>\n",
       "      <td>1629149757</td>\n",
       "    </tr>\n",
       "    <tr>\n",
       "      <th>528</th>\n",
       "      <td>Berlevåg</td>\n",
       "      <td>46.20</td>\n",
       "      <td>76</td>\n",
       "      <td>8.05</td>\n",
       "      <td>75</td>\n",
       "      <td>70.8578</td>\n",
       "      <td>29.0864</td>\n",
       "      <td>NO</td>\n",
       "      <td>1629149758</td>\n",
       "    </tr>\n",
       "  </tbody>\n",
       "</table>\n",
       "<p>349 rows × 9 columns</p>\n",
       "</div>"
      ],
      "text/plain": [
       "              city  max_temp  humidity  wind_speed  cloudiness      lat  \\\n",
       "0         Cherskiy     46.33        59        4.68          71  68.7500   \n",
       "1           Barrow     37.42        75       23.02          90  71.2906   \n",
       "3            Kapaa     84.52        67        5.01           1  22.0752   \n",
       "5        Ratnagiri     76.78        87        3.98         100  16.9833   \n",
       "6           Narsaq     50.22        99        0.34         100  60.9167   \n",
       "..             ...       ...       ...         ...         ...      ...   \n",
       "524         Abomey     73.15        85        7.20         100   7.1829   \n",
       "525  Qasigiannguit     46.65        91        5.08         100  68.8193   \n",
       "526          China     98.64        29        5.99           2  25.7000   \n",
       "527        Balabac     81.34        75        4.27          66   7.9868   \n",
       "528       Berlevåg     46.20        76        8.05          75  70.8578   \n",
       "\n",
       "          lng country        date  \n",
       "0    161.3000      RU  1629149606  \n",
       "1   -156.7887      US  1629149606  \n",
       "3   -159.3190      US  1629149607  \n",
       "5     73.3000      IN  1629149607  \n",
       "6    -46.0500      GL  1629149608  \n",
       "..        ...     ...         ...  \n",
       "524    1.9912      BJ  1629149757  \n",
       "525  -51.1922      GL  1629149757  \n",
       "526  -99.2333      MX  1629149678  \n",
       "527  117.0645      PH  1629149757  \n",
       "528   29.0864      NO  1629149758  \n",
       "\n",
       "[349 rows x 9 columns]"
      ]
     },
     "execution_count": 19,
     "metadata": {},
     "output_type": "execute_result"
    }
   ],
   "source": [
    "northern_hemisphere_df = clean_city_data.loc[clean_city_data['lat'] >= 0]\n",
    "northern_hemisphere_df"
   ]
  },
  {
   "cell_type": "code",
   "execution_count": 88,
   "metadata": {},
   "outputs": [
    {
     "name": "stdout",
     "output_type": "stream",
     "text": [
      "0      55.598544\n",
      "1      54.289852\n",
      "3      79.641262\n",
      "5      82.264157\n",
      "6      59.633566\n",
      "         ...    \n",
      "524    87.312454\n",
      "525    55.562847\n",
      "526    77.774086\n",
      "527    86.898356\n",
      "528    54.512793\n",
      "Name: lat, Length: 349, dtype: float64\n"
     ]
    }
   ],
   "source": [
    "# deine lat and max temp for nothern hemisphere df\n",
    "nh_lat = northern_hemisphere_df['lat']\n",
    "nh_max_temp = northern_hemisphere_df['max_temp']\n",
    "\n",
    "# Perform a linear regression on temperature vs latitude\n",
    "(slope, intercept, rvalue, pvalue, stderr) = stats.linregress(nh_lat, nh_max_temp)\n",
    "\n",
    "# Get regression values\n",
    "regress_values = nh_lat * slope + intercept\n",
    "print(regress_values)\n",
    "\n"
   ]
  },
  {
   "cell_type": "code",
   "execution_count": 89,
   "metadata": {},
   "outputs": [
    {
     "name": "stdout",
     "output_type": "stream",
     "text": [
      "y = -0.52x +91.01\n"
     ]
    }
   ],
   "source": [
    "# create line equation string\n",
    "line_eq = \"y = \" + str(round(slope,2)) + \"x +\" + str(round(intercept, 2))\n",
    "print(line_eq)\n"
   ]
  },
  {
   "cell_type": "code",
   "execution_count": 90,
   "metadata": {},
   "outputs": [
    {
     "name": "stdout",
     "output_type": "stream",
     "text": [
      "The r-value is: 0.5037259498212547\n"
     ]
    },
    {
     "data": {
      "image/png": "[encoded data removed]",
      "text/plain": [
       "<Figure size 432x288 with 1 Axes>"
      ]
     },
     "metadata": {
      "needs_background": "light"
     },
     "output_type": "display_data"
    },
    {
     "data": {
      "text/plain": [
       "<Figure size 432x288 with 0 Axes>"
      ]
     },
     "metadata": {},
     "output_type": "display_data"
    }
   ],
   "source": [
    "# Create scatter plot\n",
    "plt.scatter(nh_lat, nh_max_temp)\n",
    "plt.plot(nh_lat, regress_values, \"r-\")\n",
    "\n",
    "# Label plot and annotate the line equation\n",
    "plt.xlabel('Latitude')\n",
    "plt.ylabel('Max Temp')\n",
    "plt.annotate(line_eq, xy=(10,40), fontsize=15, color='red')\n",
    "\n",
    "# print r value\n",
    "print(f\"The r-value is: {rvalue**2}\")\n",
    "\n",
    "plt.show()\n",
    "plt.savefig('output_data/Lat_vs_NH_MaxTemp_linregress.png')"
   ]
  },
  {
   "cell_type": "code",
   "execution_count": 33,
   "metadata": {},
   "outputs": [],
   "source": []
  },
  {
   "cell_type": "code",
   "execution_count": 25,
   "metadata": {},
   "outputs": [
    {
     "name": "stdout",
     "output_type": "stream",
     "text": [
      "The r-value is: 0.46937863826630627\n"
     ]
    },
    {
     "data": {
      "image/png": "[encoded data removed]",
      "text/plain": [
       "<Figure size 432x288 with 1 Axes>"
      ]
     },
     "metadata": {
      "needs_background": "light"
     },
     "output_type": "display_data"
    }
   ],
   "source": []
  },
  {
   "cell_type": "markdown",
   "metadata": {},
   "source": [
    "####  Southern Hemisphere - Max Temp vs. Latitude Linear Regression"
   ]
  },
  {
   "cell_type": "code",
   "execution_count": 84,
   "metadata": {},
   "outputs": [
    {
     "data": {
      "text/html": [
       "<div>\n",
       "<style scoped>\n",
       "    .dataframe tbody tr th:only-of-type {\n",
       "        vertical-align: middle;\n",
       "    }\n",
       "\n",
       "    .dataframe tbody tr th {\n",
       "        vertical-align: top;\n",
       "    }\n",
       "\n",
       "    .dataframe thead th {\n",
       "        text-align: right;\n",
       "    }\n",
       "</style>\n",
       "<table border=\"1\" class=\"dataframe\">\n",
       "  <thead>\n",
       "    <tr style=\"text-align: right;\">\n",
       "      <th></th>\n",
       "      <th>city</th>\n",
       "      <th>max_temp</th>\n",
       "      <th>humidity</th>\n",
       "      <th>wind_speed</th>\n",
       "      <th>cloudiness</th>\n",
       "      <th>lat</th>\n",
       "      <th>lng</th>\n",
       "      <th>country</th>\n",
       "      <th>date</th>\n",
       "    </tr>\n",
       "  </thead>\n",
       "  <tbody>\n",
       "    <tr>\n",
       "      <th>2</th>\n",
       "      <td>Hobart</td>\n",
       "      <td>46.26</td>\n",
       "      <td>68</td>\n",
       "      <td>3.00</td>\n",
       "      <td>75</td>\n",
       "      <td>-42.8794</td>\n",
       "      <td>147.3294</td>\n",
       "      <td>AU</td>\n",
       "      <td>1629149405</td>\n",
       "    </tr>\n",
       "    <tr>\n",
       "      <th>4</th>\n",
       "      <td>Busselton</td>\n",
       "      <td>51.08</td>\n",
       "      <td>71</td>\n",
       "      <td>5.06</td>\n",
       "      <td>9</td>\n",
       "      <td>-33.6500</td>\n",
       "      <td>115.3333</td>\n",
       "      <td>AU</td>\n",
       "      <td>1629149607</td>\n",
       "    </tr>\n",
       "    <tr>\n",
       "      <th>8</th>\n",
       "      <td>Ushuaia</td>\n",
       "      <td>40.66</td>\n",
       "      <td>93</td>\n",
       "      <td>6.91</td>\n",
       "      <td>75</td>\n",
       "      <td>-54.8000</td>\n",
       "      <td>-68.3000</td>\n",
       "      <td>AR</td>\n",
       "      <td>1629149320</td>\n",
       "    </tr>\n",
       "    <tr>\n",
       "      <th>9</th>\n",
       "      <td>New Norfolk</td>\n",
       "      <td>45.91</td>\n",
       "      <td>65</td>\n",
       "      <td>1.99</td>\n",
       "      <td>99</td>\n",
       "      <td>-42.7826</td>\n",
       "      <td>147.0587</td>\n",
       "      <td>AU</td>\n",
       "      <td>1629149608</td>\n",
       "    </tr>\n",
       "    <tr>\n",
       "      <th>10</th>\n",
       "      <td>Port Alfred</td>\n",
       "      <td>70.70</td>\n",
       "      <td>55</td>\n",
       "      <td>13.87</td>\n",
       "      <td>74</td>\n",
       "      <td>-33.5906</td>\n",
       "      <td>26.8910</td>\n",
       "      <td>ZA</td>\n",
       "      <td>1629149609</td>\n",
       "    </tr>\n",
       "    <tr>\n",
       "      <th>...</th>\n",
       "      <td>...</td>\n",
       "      <td>...</td>\n",
       "      <td>...</td>\n",
       "      <td>...</td>\n",
       "      <td>...</td>\n",
       "      <td>...</td>\n",
       "      <td>...</td>\n",
       "      <td>...</td>\n",
       "      <td>...</td>\n",
       "    </tr>\n",
       "    <tr>\n",
       "      <th>498</th>\n",
       "      <td>Opuwo</td>\n",
       "      <td>64.56</td>\n",
       "      <td>48</td>\n",
       "      <td>3.38</td>\n",
       "      <td>0</td>\n",
       "      <td>-18.0607</td>\n",
       "      <td>13.8400</td>\n",
       "      <td>NA</td>\n",
       "      <td>1629149749</td>\n",
       "    </tr>\n",
       "    <tr>\n",
       "      <th>499</th>\n",
       "      <td>Departamento de Maldonado</td>\n",
       "      <td>57.22</td>\n",
       "      <td>84</td>\n",
       "      <td>5.82</td>\n",
       "      <td>100</td>\n",
       "      <td>-34.6667</td>\n",
       "      <td>-54.9167</td>\n",
       "      <td>UY</td>\n",
       "      <td>1629149486</td>\n",
       "    </tr>\n",
       "    <tr>\n",
       "      <th>504</th>\n",
       "      <td>Rantepao</td>\n",
       "      <td>65.70</td>\n",
       "      <td>91</td>\n",
       "      <td>1.86</td>\n",
       "      <td>93</td>\n",
       "      <td>-2.9701</td>\n",
       "      <td>119.8978</td>\n",
       "      <td>ID</td>\n",
       "      <td>1629149750</td>\n",
       "    </tr>\n",
       "    <tr>\n",
       "      <th>511</th>\n",
       "      <td>Morros</td>\n",
       "      <td>78.67</td>\n",
       "      <td>21</td>\n",
       "      <td>5.57</td>\n",
       "      <td>2</td>\n",
       "      <td>-9.4467</td>\n",
       "      <td>-46.3003</td>\n",
       "      <td>BR</td>\n",
       "      <td>1629149753</td>\n",
       "    </tr>\n",
       "    <tr>\n",
       "      <th>512</th>\n",
       "      <td>Huancavelica</td>\n",
       "      <td>47.01</td>\n",
       "      <td>46</td>\n",
       "      <td>5.93</td>\n",
       "      <td>73</td>\n",
       "      <td>-12.7667</td>\n",
       "      <td>-74.9833</td>\n",
       "      <td>PE</td>\n",
       "      <td>1629149753</td>\n",
       "    </tr>\n",
       "  </tbody>\n",
       "</table>\n",
       "<p>174 rows × 9 columns</p>\n",
       "</div>"
      ],
      "text/plain": [
       "                          city  max_temp  humidity  wind_speed  cloudiness  \\\n",
       "2                       Hobart     46.26        68        3.00          75   \n",
       "4                    Busselton     51.08        71        5.06           9   \n",
       "8                      Ushuaia     40.66        93        6.91          75   \n",
       "9                  New Norfolk     45.91        65        1.99          99   \n",
       "10                 Port Alfred     70.70        55       13.87          74   \n",
       "..                         ...       ...       ...         ...         ...   \n",
       "498                      Opuwo     64.56        48        3.38           0   \n",
       "499  Departamento de Maldonado     57.22        84        5.82         100   \n",
       "504                   Rantepao     65.70        91        1.86          93   \n",
       "511                     Morros     78.67        21        5.57           2   \n",
       "512               Huancavelica     47.01        46        5.93          73   \n",
       "\n",
       "         lat       lng country        date  \n",
       "2   -42.8794  147.3294      AU  1629149405  \n",
       "4   -33.6500  115.3333      AU  1629149607  \n",
       "8   -54.8000  -68.3000      AR  1629149320  \n",
       "9   -42.7826  147.0587      AU  1629149608  \n",
       "10  -33.5906   26.8910      ZA  1629149609  \n",
       "..       ...       ...     ...         ...  \n",
       "498 -18.0607   13.8400      NA  1629149749  \n",
       "499 -34.6667  -54.9167      UY  1629149486  \n",
       "504  -2.9701  119.8978      ID  1629149750  \n",
       "511  -9.4467  -46.3003      BR  1629149753  \n",
       "512 -12.7667  -74.9833      PE  1629149753  \n",
       "\n",
       "[174 rows x 9 columns]"
      ]
     },
     "execution_count": 84,
     "metadata": {},
     "output_type": "execute_result"
    }
   ],
   "source": [
    "southern_hemisphere_df = clean_city_data.loc[clean_city_data['lat'] <= 0]\n",
    "southern_hemisphere_df"
   ]
  },
  {
   "cell_type": "code",
   "execution_count": 91,
   "metadata": {},
   "outputs": [
    {
     "name": "stdout",
     "output_type": "stream",
     "text": [
      "2      49.312907\n",
      "4      56.155260\n",
      "8      40.475392\n",
      "9      49.384671\n",
      "10     56.199297\n",
      "         ...    \n",
      "498    67.712619\n",
      "499    55.401514\n",
      "504    78.900260\n",
      "511    74.098736\n",
      "512    71.637405\n",
      "Name: lat, Length: 174, dtype: float64\n"
     ]
    }
   ],
   "source": [
    "# deine lat and max temp for nothern hemisphere df\n",
    "sh_lat = southern_hemisphere_df['lat']\n",
    "sh_max_temp = southern_hemisphere_df['max_temp']\n",
    "\n",
    "# Perform a linear regression on temperature vs latitude\n",
    "(slope, intercept, rvalue, pvalue, stderr) = stats.linregress(sh_lat, sh_max_temp)\n",
    "\n",
    "# Get regression values\n",
    "regress_values = sh_lat * slope + intercept\n",
    "print(regress_values)"
   ]
  },
  {
   "cell_type": "code",
   "execution_count": 92,
   "metadata": {},
   "outputs": [
    {
     "name": "stdout",
     "output_type": "stream",
     "text": [
      "y = 0.74x +81.1\n"
     ]
    }
   ],
   "source": [
    "# create line equation string\n",
    "line_eq = \"y = \" + str(round(slope,2)) + \"x +\" + str(round(intercept, 2))\n",
    "print(line_eq)"
   ]
  },
  {
   "cell_type": "code",
   "execution_count": 93,
   "metadata": {},
   "outputs": [
    {
     "name": "stdout",
     "output_type": "stream",
     "text": [
      "The r-value is: 0.6100228825594071\n"
     ]
    },
    {
     "data": {
      "image/png": "[encoded data removed]",
      "text/plain": [
       "<Figure size 432x288 with 1 Axes>"
      ]
     },
     "metadata": {
      "needs_background": "light"
     },
     "output_type": "display_data"
    },
    {
     "data": {
      "text/plain": [
       "<Figure size 432x288 with 0 Axes>"
      ]
     },
     "metadata": {},
     "output_type": "display_data"
    }
   ],
   "source": [
    "# Create scatter plot\n",
    "plt.scatter(sh_lat, sh_max_temp)\n",
    "plt.plot(sh_lat, regress_values, \"r-\")\n",
    "\n",
    "# Label plot and annotate the line equation\n",
    "plt.xlabel('Latitude')\n",
    "plt.ylabel('Max Temp')\n",
    "plt.annotate(line_eq, xy=(-20,40), fontsize=15, color='red')\n",
    "\n",
    "# print r value\n",
    "print(f\"The r-value is: {rvalue**2}\")\n",
    "\n",
    "plt.show()\n",
    "plt.savefig('output_data/Lat_vs_SH_MaxTemp_linregress.png')"
   ]
  },
  {
   "cell_type": "code",
   "execution_count": 26,
   "metadata": {},
   "outputs": [
    {
     "name": "stdout",
     "output_type": "stream",
     "text": [
      "The r-value is: 0.6082708688906918\n"
     ]
    },
    {
     "data": {
      "image/png": "[encoded data removed]",
      "text/plain": [
       "<Figure size 432x288 with 1 Axes>"
      ]
     },
     "metadata": {
      "needs_background": "light"
     },
     "output_type": "display_data"
    }
   ],
   "source": []
  },
  {
   "cell_type": "markdown",
   "metadata": {},
   "source": [
    "####  Northern Hemisphere - Humidity (%) vs. Latitude Linear Regression"
   ]
  },
  {
   "cell_type": "code",
   "execution_count": 94,
   "metadata": {},
   "outputs": [
    {
     "name": "stdout",
     "output_type": "stream",
     "text": [
      "0      74.452874\n",
      "1      74.632513\n",
      "3      71.152623\n",
      "5      70.792589\n",
      "6      73.899002\n",
      "         ...    \n",
      "524    70.099629\n",
      "525    74.457774\n",
      "526    71.408923\n",
      "527    70.156470\n",
      "528    74.601910\n",
      "Name: lat, Length: 349, dtype: float64\n"
     ]
    }
   ],
   "source": [
    "# deine lat and max temp for nothern hemisphere df\n",
    "nh_humidity = northern_hemisphere_df['humidity']\n",
    "\n",
    "# Perform a linear regression on temperature vs latitude\n",
    "(slope, intercept, rvalue, pvalue, stderr) = stats.linregress(nh_lat, nh_humidity)\n",
    "\n",
    "# Get regression values\n",
    "regress_values = nh_lat * slope + intercept\n",
    "print(regress_values)"
   ]
  },
  {
   "cell_type": "code",
   "execution_count": 95,
   "metadata": {},
   "outputs": [
    {
     "name": "stdout",
     "output_type": "stream",
     "text": [
      "y = 0.07x +69.59\n"
     ]
    }
   ],
   "source": [
    "# create line equation string\n",
    "line_eq = \"y = \" + str(round(slope,2)) + \"x +\" + str(round(intercept, 2))\n",
    "print(line_eq)"
   ]
  },
  {
   "cell_type": "code",
   "execution_count": 96,
   "metadata": {},
   "outputs": [
    {
     "name": "stdout",
     "output_type": "stream",
     "text": [
      "The r-value is: 0.0049064269898865115\n"
     ]
    },
    {
     "data": {
      "image/png": "[encoded data removed]",
      "text/plain": [
       "<Figure size 432x288 with 1 Axes>"
      ]
     },
     "metadata": {
      "needs_background": "light"
     },
     "output_type": "display_data"
    },
    {
     "data": {
      "text/plain": [
       "<Figure size 432x288 with 0 Axes>"
      ]
     },
     "metadata": {},
     "output_type": "display_data"
    }
   ],
   "source": [
    "# Create scatter plot\n",
    "plt.scatter(nh_lat, nh_humidity)\n",
    "plt.plot(nh_lat, regress_values, \"r-\")\n",
    "\n",
    "# Label plot and annotate the line equation\n",
    "plt.xlabel('Latitude')\n",
    "plt.ylabel('Max Temp')\n",
    "plt.annotate(line_eq, xy=(45,20), fontsize=15, color='red')\n",
    "\n",
    "# print r value\n",
    "print(f\"The r-value is: {rvalue**2}\")\n",
    "\n",
    "plt.show()\n",
    "plt.savefig('output_data/Lat_vs_NH_Humidity_linregress.png')"
   ]
  },
  {
   "cell_type": "code",
   "execution_count": 27,
   "metadata": {},
   "outputs": [
    {
     "name": "stdout",
     "output_type": "stream",
     "text": [
      "The r-value is: 0.000543987878808455\n"
     ]
    },
    {
     "data": {
      "image/png": "[encoded data removed]",
      "text/plain": [
       "<Figure size 432x288 with 1 Axes>"
      ]
     },
     "metadata": {
      "needs_background": "light"
     },
     "output_type": "display_data"
    }
   ],
   "source": []
  },
  {
   "cell_type": "markdown",
   "metadata": {},
   "source": [
    "####  Southern Hemisphere - Humidity (%) vs. Latitude Linear Regression"
   ]
  },
  {
   "cell_type": "code",
   "execution_count": 97,
   "metadata": {},
   "outputs": [
    {
     "name": "stdout",
     "output_type": "stream",
     "text": [
      "2      75.020847\n",
      "4      73.562743\n",
      "8      76.904120\n",
      "9      75.005554\n",
      "10     73.553358\n",
      "         ...    \n",
      "498    71.099871\n",
      "499    73.723366\n",
      "504    68.715787\n",
      "511    69.738991\n",
      "512    70.263500\n",
      "Name: lat, Length: 174, dtype: float64\n"
     ]
    }
   ],
   "source": [
    "# deine lat and max temp for nothern hemisphere df\n",
    "sh_humidity = southern_hemisphere_df['humidity']\n",
    "\n",
    "# Perform a linear regression on temperature vs latitude\n",
    "(slope, intercept, rvalue, pvalue, stderr) = stats.linregress(sh_lat, sh_humidity)\n",
    "\n",
    "# Get regression values\n",
    "regress_values = sh_lat * slope + intercept\n",
    "print(regress_values)"
   ]
  },
  {
   "cell_type": "code",
   "execution_count": 98,
   "metadata": {},
   "outputs": [
    {
     "name": "stdout",
     "output_type": "stream",
     "text": [
      "y = -0.16x +68.25\n"
     ]
    }
   ],
   "source": [
    "# create line equation string\n",
    "line_eq = \"y = \" + str(round(slope,2)) + \"x +\" + str(round(intercept, 2))\n",
    "print(line_eq)"
   ]
  },
  {
   "cell_type": "code",
   "execution_count": 99,
   "metadata": {},
   "outputs": [
    {
     "name": "stdout",
     "output_type": "stream",
     "text": [
      "The r-value is: 0.011561525370443318\n"
     ]
    },
    {
     "data": {
      "image/png": "[encoded data removed]",
      "text/plain": [
       "<Figure size 432x288 with 1 Axes>"
      ]
     },
     "metadata": {
      "needs_background": "light"
     },
     "output_type": "display_data"
    },
    {
     "data": {
      "text/plain": [
       "<Figure size 432x288 with 0 Axes>"
      ]
     },
     "metadata": {},
     "output_type": "display_data"
    }
   ],
   "source": [
    "# Create scatter plot\n",
    "plt.scatter(sh_lat, sh_humidity)\n",
    "plt.plot(sh_lat, regress_values, \"r-\")\n",
    "\n",
    "# Label plot and annotate the line equation\n",
    "plt.xlabel('Latitude')\n",
    "plt.ylabel('Max Temp')\n",
    "plt.annotate(line_eq, xy=(-45,20), fontsize=15, color='red')\n",
    "\n",
    "# print r value\n",
    "print(f\"The r-value is: {rvalue**2}\")\n",
    "\n",
    "plt.show()\n",
    "plt.savefig('output_data/Lat_vs_SH_Humidity_linregress.png')"
   ]
  },
  {
   "cell_type": "code",
   "execution_count": 28,
   "metadata": {},
   "outputs": [
    {
     "name": "stdout",
     "output_type": "stream",
     "text": [
      "The r-value is: 0.014985174297345524\n"
     ]
    },
    {
     "data": {
      "image/png": "[encoded data removed]",
      "text/plain": [
       "<Figure size 432x288 with 1 Axes>"
      ]
     },
     "metadata": {
      "needs_background": "light"
     },
     "output_type": "display_data"
    }
   ],
   "source": []
  },
  {
   "cell_type": "markdown",
   "metadata": {},
   "source": [
    "####  Northern Hemisphere - Cloudiness (%) vs. Latitude Linear Regression"
   ]
  },
  {
   "cell_type": "code",
   "execution_count": 100,
   "metadata": {},
   "outputs": [
    {
     "name": "stdout",
     "output_type": "stream",
     "text": [
      "0      62.189275\n",
      "1      62.616726\n",
      "3      54.336336\n",
      "5      53.479634\n",
      "6      60.871338\n",
      "         ...    \n",
      "524    51.830737\n",
      "525    62.200935\n",
      "526    54.946201\n",
      "527    51.965991\n",
      "528    62.543908\n",
      "Name: lat, Length: 349, dtype: float64\n"
     ]
    }
   ],
   "source": [
    "# deine lat and max temp for nothern hemisphere df\n",
    "nh_cloudiness = northern_hemisphere_df['cloudiness']\n",
    "\n",
    "# Perform a linear regression on temperature vs latitude\n",
    "(slope, intercept, rvalue, pvalue, stderr) = stats.linregress(nh_lat, nh_cloudiness)\n",
    "\n",
    "# Get regression values\n",
    "regress_values = nh_lat * slope + intercept\n",
    "print(regress_values)"
   ]
  },
  {
   "cell_type": "code",
   "execution_count": 101,
   "metadata": {},
   "outputs": [
    {
     "name": "stdout",
     "output_type": "stream",
     "text": [
      "y = 0.17x +50.62\n"
     ]
    }
   ],
   "source": [
    "# create line equation string\n",
    "line_eq = \"y = \" + str(round(slope,2)) + \"x +\" + str(round(intercept, 2))\n",
    "print(line_eq)"
   ]
  },
  {
   "cell_type": "code",
   "execution_count": 102,
   "metadata": {},
   "outputs": [
    {
     "name": "stdout",
     "output_type": "stream",
     "text": [
      "The r-value is: 0.007520384544958427\n"
     ]
    },
    {
     "data": {
      "image/png": "[encoded data removed]",
      "text/plain": [
       "<Figure size 432x288 with 1 Axes>"
      ]
     },
     "metadata": {
      "needs_background": "light"
     },
     "output_type": "display_data"
    },
    {
     "data": {
      "text/plain": [
       "<Figure size 432x288 with 0 Axes>"
      ]
     },
     "metadata": {},
     "output_type": "display_data"
    }
   ],
   "source": [
    "# Create scatter plot\n",
    "plt.scatter(nh_lat, nh_cloudiness)\n",
    "plt.plot(nh_lat, regress_values, \"r-\")\n",
    "\n",
    "# Label plot and annotate the line equation\n",
    "plt.xlabel('Latitude')\n",
    "plt.ylabel('Max Temp')\n",
    "plt.annotate(line_eq, xy=(45,20), fontsize=15, color='red')\n",
    "\n",
    "# print r value\n",
    "print(f\"The r-value is: {rvalue**2}\")\n",
    "\n",
    "plt.show()\n",
    "plt.savefig('output_data/Lat_vs_NH_Cloudiness_linregress.png')"
   ]
  },
  {
   "cell_type": "code",
   "execution_count": 29,
   "metadata": {},
   "outputs": [
    {
     "name": "stdout",
     "output_type": "stream",
     "text": [
      "The r-value is: 0.0020898727664228514\n"
     ]
    },
    {
     "data": {
      "image/png": "[encoded data removed]",
      "text/plain": [
       "<Figure size 432x288 with 1 Axes>"
      ]
     },
     "metadata": {
      "needs_background": "light"
     },
     "output_type": "display_data"
    }
   ],
   "source": []
  },
  {
   "cell_type": "markdown",
   "metadata": {},
   "source": [
    "####  Southern Hemisphere - Cloudiness (%) vs. Latitude Linear Regression"
   ]
  },
  {
   "cell_type": "code",
   "execution_count": 103,
   "metadata": {},
   "outputs": [
    {
     "name": "stdout",
     "output_type": "stream",
     "text": [
      "2      49.001414\n",
      "4      49.790314\n",
      "8      47.982477\n",
      "9      49.009688\n",
      "10     49.795392\n",
      "         ...    \n",
      "498    51.122840\n",
      "499    49.703410\n",
      "504    52.412738\n",
      "511    51.859138\n",
      "512    51.575354\n",
      "Name: lat, Length: 174, dtype: float64\n"
     ]
    }
   ],
   "source": [
    "# deine lat and max temp for nothern hemisphere df\n",
    "sh_cloudiness = southern_hemisphere_df['cloudiness']\n",
    "\n",
    "# Perform a linear regression on temperature vs latitude\n",
    "(slope, intercept, rvalue, pvalue, stderr) = stats.linregress(sh_lat, sh_cloudiness)\n",
    "\n",
    "# Get regression values\n",
    "regress_values = sh_lat * slope + intercept\n",
    "print(regress_values)"
   ]
  },
  {
   "cell_type": "code",
   "execution_count": 104,
   "metadata": {},
   "outputs": [
    {
     "name": "stdout",
     "output_type": "stream",
     "text": [
      "y = 0.09x +52.67\n"
     ]
    }
   ],
   "source": [
    "# create line equation string\n",
    "line_eq = \"y = \" + str(round(slope,2)) + \"x +\" + str(round(intercept, 2))\n",
    "print(line_eq)"
   ]
  },
  {
   "cell_type": "code",
   "execution_count": 105,
   "metadata": {},
   "outputs": [
    {
     "name": "stdout",
     "output_type": "stream",
     "text": [
      "The r-value is: 0.0009655918419118954\n"
     ]
    },
    {
     "data": {
      "image/png": "[encoded data removed]",
      "text/plain": [
       "<Figure size 432x288 with 1 Axes>"
      ]
     },
     "metadata": {
      "needs_background": "light"
     },
     "output_type": "display_data"
    },
    {
     "data": {
      "text/plain": [
       "<Figure size 432x288 with 0 Axes>"
      ]
     },
     "metadata": {},
     "output_type": "display_data"
    }
   ],
   "source": [
    "# Create scatter plot\n",
    "plt.scatter(sh_lat, sh_cloudiness)\n",
    "plt.plot(sh_lat, regress_values, \"r-\")\n",
    "\n",
    "# Label plot and annotate the line equation\n",
    "plt.xlabel('Latitude')\n",
    "plt.ylabel('Max Temp')\n",
    "plt.annotate(line_eq, xy=(-50,20), fontsize=15, color='red')\n",
    "\n",
    "# print r value\n",
    "print(f\"The r-value is: {rvalue**2}\")\n",
    "\n",
    "plt.show()\n",
    "plt.savefig('output_data/Lat_vs_SH_cloudiness_linregress.png')"
   ]
  },
  {
   "cell_type": "code",
   "execution_count": 30,
   "metadata": {},
   "outputs": [
    {
     "name": "stdout",
     "output_type": "stream",
     "text": [
      "The r-value is: 0.0035263772085582894\n"
     ]
    },
    {
     "data": {
      "image/png": "[encoded data removed]",
      "text/plain": [
       "<Figure size 432x288 with 1 Axes>"
      ]
     },
     "metadata": {
      "needs_background": "light"
     },
     "output_type": "display_data"
    }
   ],
   "source": []
  },
  {
   "cell_type": "markdown",
   "metadata": {},
   "source": [
    "####  Northern Hemisphere - Wind Speed (mph) vs. Latitude Linear Regression"
   ]
  },
  {
   "cell_type": "code",
   "execution_count": 106,
   "metadata": {},
   "outputs": [
    {
     "name": "stdout",
     "output_type": "stream",
     "text": [
      "0      7.393834\n",
      "1      7.388860\n",
      "3      7.485211\n",
      "5      7.495179\n",
      "6      7.409169\n",
      "         ...   \n",
      "524    7.514366\n",
      "525    7.393698\n",
      "526    7.478114\n",
      "527    7.512792\n",
      "528    7.389707\n",
      "Name: lat, Length: 349, dtype: float64\n"
     ]
    }
   ],
   "source": [
    "# deine lat and max temp for nothern hemisphere df\n",
    "nh_wind_speed = northern_hemisphere_df['wind_speed']\n",
    "\n",
    "# Perform a linear regression on temperature vs latitude\n",
    "(slope, intercept, rvalue, pvalue, stderr) = stats.linregress(nh_lat, nh_wind_speed)\n",
    "\n",
    "# Get regression values\n",
    "regress_values = nh_lat * slope + intercept\n",
    "print(regress_values)"
   ]
  },
  {
   "cell_type": "code",
   "execution_count": 107,
   "metadata": {},
   "outputs": [
    {
     "name": "stdout",
     "output_type": "stream",
     "text": [
      "y = -0.0x +7.53\n"
     ]
    }
   ],
   "source": [
    "# create line equation string\n",
    "line_eq = \"y = \" + str(round(slope,2)) + \"x +\" + str(round(intercept, 2))\n",
    "print(line_eq)"
   ]
  },
  {
   "cell_type": "code",
   "execution_count": 108,
   "metadata": {},
   "outputs": [
    {
     "name": "stdout",
     "output_type": "stream",
     "text": [
      "The r-value is: 5.703069837198048e-05\n"
     ]
    },
    {
     "data": {
      "image/png": "[encoded data removed]",
      "text/plain": [
       "<Figure size 432x288 with 1 Axes>"
      ]
     },
     "metadata": {
      "needs_background": "light"
     },
     "output_type": "display_data"
    },
    {
     "data": {
      "text/plain": [
       "<Figure size 432x288 with 0 Axes>"
      ]
     },
     "metadata": {},
     "output_type": "display_data"
    }
   ],
   "source": [
    "# Create scatter plot\n",
    "plt.scatter(nh_lat, nh_wind_speed)\n",
    "plt.plot(nh_lat, regress_values, \"r-\")\n",
    "\n",
    "# Label plot and annotate the line equation\n",
    "plt.xlabel('Latitude')\n",
    "plt.ylabel('Max Temp')\n",
    "plt.annotate(line_eq, xy=(45,20), fontsize=15, color='red')\n",
    "\n",
    "# print r value\n",
    "print(f\"The r-value is: {rvalue**2}\")\n",
    "\n",
    "plt.show()\n",
    "plt.savefig('output_data/Lat_vs_NH_WindSpeed_linregress.png')"
   ]
  },
  {
   "cell_type": "code",
   "execution_count": 31,
   "metadata": {},
   "outputs": [
    {
     "name": "stdout",
     "output_type": "stream",
     "text": [
      "The r-value is: 0.04019723576144484\n"
     ]
    },
    {
     "data": {
      "image/png": "[encoded data removed]",
      "text/plain": [
       "<Figure size 432x288 with 1 Axes>"
      ]
     },
     "metadata": {
      "needs_background": "light"
     },
     "output_type": "display_data"
    }
   ],
   "source": []
  },
  {
   "cell_type": "markdown",
   "metadata": {},
   "source": [
    "####  Southern Hemisphere - Wind Speed (mph) vs. Latitude Linear Regression"
   ]
  },
  {
   "cell_type": "code",
   "execution_count": 109,
   "metadata": {},
   "outputs": [
    {
     "name": "stdout",
     "output_type": "stream",
     "text": [
      "2      9.051756\n",
      "4      8.560267\n",
      "8      9.686559\n",
      "9      9.046601\n",
      "10     8.557103\n",
      "         ...   \n",
      "498    7.730096\n",
      "499    8.614409\n",
      "504    6.926483\n",
      "511    7.271378\n",
      "512    7.448177\n",
      "Name: lat, Length: 174, dtype: float64\n"
     ]
    }
   ],
   "source": [
    "# deine lat and max temp for nothern hemisphere df\n",
    "sh_wind_speed = southern_hemisphere_df['wind_speed']\n",
    "\n",
    "# Perform a linear regression on temperature vs latitude\n",
    "(slope, intercept, rvalue, pvalue, stderr) = stats.linregress(sh_lat, sh_wind_speed)\n",
    "\n",
    "# Get regression values\n",
    "regress_values = sh_lat * slope + intercept\n",
    "print(regress_values)"
   ]
  },
  {
   "cell_type": "code",
   "execution_count": 110,
   "metadata": {},
   "outputs": [
    {
     "name": "stdout",
     "output_type": "stream",
     "text": [
      "y = -0.05x +6.77\n"
     ]
    }
   ],
   "source": [
    "# create line equation string\n",
    "line_eq = \"y = \" + str(round(slope,2)) + \"x +\" + str(round(intercept, 2))\n",
    "print(line_eq)"
   ]
  },
  {
   "cell_type": "code",
   "execution_count": 111,
   "metadata": {},
   "outputs": [
    {
     "name": "stdout",
     "output_type": "stream",
     "text": [
      "The r-value is: 0.018170319285255445\n"
     ]
    },
    {
     "data": {
      "image/png": "[encoded data removed]",
      "text/plain": [
       "<Figure size 432x288 with 1 Axes>"
      ]
     },
     "metadata": {
      "needs_background": "light"
     },
     "output_type": "display_data"
    },
    {
     "data": {
      "text/plain": [
       "<Figure size 432x288 with 0 Axes>"
      ]
     },
     "metadata": {},
     "output_type": "display_data"
    }
   ],
   "source": [
    "# Create scatter plot\n",
    "plt.scatter(sh_lat, sh_wind_speed)\n",
    "plt.plot(sh_lat, regress_values, \"r-\")\n",
    "\n",
    "# Label plot and annotate the line equation\n",
    "plt.xlabel('Latitude')\n",
    "plt.ylabel('Max Temp')\n",
    "plt.annotate(line_eq, xy=(-45,25), fontsize=15, color='red')\n",
    "\n",
    "# print r value\n",
    "print(f\"The r-value is: {rvalue**2}\")\n",
    "\n",
    "plt.show()\n",
    "plt.savefig('output_data/Lat_vs_SH_WindSpeed_linregress.png')"
   ]
  },
  {
   "cell_type": "code",
   "execution_count": 32,
   "metadata": {},
   "outputs": [
    {
     "name": "stdout",
     "output_type": "stream",
     "text": [
      "The r-value is: 0.017128274759839232\n"
     ]
    },
    {
     "data": {
      "image/png": "[encoded data removed]",
      "text/plain": [
       "<Figure size 432x288 with 1 Axes>"
      ]
     },
     "metadata": {
      "needs_background": "light"
     },
     "output_type": "display_data"
    }
   ],
   "source": []
  },
  {
   "cell_type": "code",
   "execution_count": null,
   "metadata": {},
   "outputs": [],
   "source": []
  }
 ],
 "metadata": {
  "anaconda-cloud": {},
  "kernel_info": {
   "name": "python3"
  },
  "kernelspec": {
   "display_name": "Python 3",
   "language": "python",
   "name": "python3"
  },
  "language_info": {
   "codemirror_mode": {
    "name": "ipython",
    "version": 3
   },
   "file_extension": ".py",
   "mimetype": "text/x-python",
   "name": "python",
   "nbconvert_exporter": "python",
   "pygments_lexer": "ipython3",
   "version": "3.8.8"
  },
  "latex_envs": {
   "LaTeX_envs_menu_present": true,
   "autoclose": false,
   "autocomplete": true,
   "bibliofile": "biblio.bib",
   "cite_by": "apalike",
   "current_citInitial": 1,
   "eqLabelWithNumbers": true,
   "eqNumInitial": 1,
   "hotkeys": {
    "equation": "Ctrl-E",
    "itemize": "Ctrl-I"
   },
   "labels_anchors": false,
   "latex_user_defs": false,
   "report_style_numbering": false,
   "user_envs_cfg": false
  },
  "nteract": {
   "version": "0.12.3"
  }
 },
 "nbformat": 4,
 "nbformat_minor": 2
}
