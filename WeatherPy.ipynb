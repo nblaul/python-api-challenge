{
 "cells": [
  {
   "cell_type": "markdown",
   "metadata": {},
   "source": [
    "# WeatherPy\n",
    "----\n",
    "\n",
    "#### Note\n",
    "* Instructions have been included for each segment. You do not have to follow them exactly, but they are included to help you think through the steps."
   ]
  },
  {
   "cell_type": "code",
   "execution_count": 57,
   "metadata": {
    "scrolled": true
   },
   "outputs": [],
   "source": [
    "# Dependencies and Setup\n",
    "import matplotlib.pyplot as plt\n",
    "import pandas as pd\n",
    "import numpy as np\n",
    "import requests\n",
    "import time\n",
    "from scipy.stats import linregress\n",
    "import urllib.error\n",
    "from urllib.error import HTTPError\n",
    "\n",
    "# Import API key\n",
    "from api_keys import weather_api_key\n",
    "\n",
    "# Incorporated citipy to determine city based on latitude and longitude\n",
    "from citipy import citipy\n",
    "\n",
    "# Output File (CSV)\n",
    "output_data_file = \"output_data/cities.csv\"\n",
    "\n",
    "# Range of latitudes and longitudes\n",
    "lat_range = (-90, 90)\n",
    "lng_range = (-180, 180)"
   ]
  },
  {
   "cell_type": "markdown",
   "metadata": {},
   "source": [
    "## Generate Cities List"
   ]
  },
  {
   "cell_type": "code",
   "execution_count": 82,
   "metadata": {},
   "outputs": [
    {
     "data": {
      "text/plain": [
       "620"
      ]
     },
     "execution_count": 82,
     "metadata": {},
     "output_type": "execute_result"
    }
   ],
   "source": [
    "# List for holding lat_lngs and cities\n",
    "lat_lngs = []\n",
    "cities = []\n",
    "\n",
    "# Create a set of random lat and lng combinations\n",
    "lats = np.random.uniform(lat_range[0], lat_range[1], size=1500)\n",
    "lngs = np.random.uniform(lng_range[0], lng_range[1], size=1500)\n",
    "lat_lngs = zip(lats, lngs)\n",
    "\n",
    "# Identify nearest city for each lat, lng combination\n",
    "for lat_lng in lat_lngs:\n",
    "    city = citipy.nearest_city(lat_lng[0], lat_lng[1]).city_name\n",
    "    \n",
    "    # If the city is unique, then add it to a our cities list\n",
    "    if city not in cities:\n",
    "        cities.append(city)\n",
    "\n",
    "# Print the city count to confirm sufficient count\n",
    "len(cities)"
   ]
  },
  {
   "cell_type": "code",
   "execution_count": 83,
   "metadata": {},
   "outputs": [],
   "source": [
    "# create lists to store city weather information\n",
    "\n",
    "city_name = []\n",
    "max_temp = []\n",
    "humidity = []\n",
    "cloudiness = []\n",
    "wind_speed = []\n",
    "lat = []\n",
    "lng = []\n",
    "country = []\n",
    "date = []\n",
    "\n"
   ]
  },
  {
   "cell_type": "code",
   "execution_count": 84,
   "metadata": {},
   "outputs": [
    {
     "name": "stdout",
     "output_type": "stream",
     "text": [
      "Processing request 1 in Set 1 | taolanaro\n",
      "City not found. Skipping...\n",
      "Processing request 2 in Set 1 | saleaula\n",
      "City not found. Skipping...\n",
      "Processing request 3 in Set 1 | pershotravneve\n",
      "Processing request 4 in Set 1 | vaini\n",
      "Processing request 5 in Set 1 | cascais\n",
      "Processing request 6 in Set 1 | sicuani\n",
      "Processing request 7 in Set 1 | cape town\n",
      "Processing request 8 in Set 1 | padang\n",
      "Processing request 9 in Set 1 | chokurdakh\n",
      "Processing request 10 in Set 1 | bluff\n",
      "Processing request 11 in Set 1 | atuona\n",
      "Processing request 12 in Set 1 | hermanus\n",
      "Processing request 13 in Set 1 | portland\n",
      "Processing request 14 in Set 1 | marsh harbour\n",
      "Processing request 15 in Set 1 | tigil\n",
      "Processing request 16 in Set 1 | barentsburg\n",
      "City not found. Skipping...\n",
      "Processing request 17 in Set 1 | rikitea\n",
      "Processing request 18 in Set 1 | kloulklubed\n",
      "Processing request 19 in Set 1 | albany\n",
      "Processing request 20 in Set 1 | sentyabrskiy\n",
      "City not found. Skipping...\n",
      "Processing request 21 in Set 1 | punta arenas\n",
      "Processing request 22 in Set 1 | mineros\n",
      "Processing request 23 in Set 1 | kapaa\n",
      "Processing request 24 in Set 1 | dehloran\n",
      "Processing request 25 in Set 1 | port elizabeth\n",
      "Processing request 26 in Set 1 | thompson\n",
      "Processing request 27 in Set 1 | lastoursville\n",
      "Processing request 28 in Set 1 | pangkalanbuun\n",
      "Processing request 29 in Set 1 | den helder\n",
      "Processing request 30 in Set 1 | aksha\n",
      "Processing request 31 in Set 1 | aswan\n",
      "Processing request 32 in Set 1 | flinders\n",
      "Processing request 33 in Set 1 | kopargaon\n",
      "Processing request 34 in Set 1 | torbay\n",
      "Processing request 35 in Set 1 | busselton\n",
      "Processing request 36 in Set 1 | becerril\n",
      "Processing request 37 in Set 1 | matara\n",
      "Processing request 38 in Set 1 | mackay\n",
      "Processing request 39 in Set 1 | bauta\n",
      "Processing request 40 in Set 1 | port lincoln\n",
      "Processing request 41 in Set 1 | luderitz\n",
      "Processing request 42 in Set 1 | coihaique\n",
      "Processing request 43 in Set 1 | hithadhoo\n",
      "Processing request 44 in Set 1 | makakilo city\n",
      "Processing request 45 in Set 1 | barrow\n",
      "Processing request 46 in Set 1 | pontianak\n",
      "Processing request 47 in Set 1 | upernavik\n",
      "Processing request 48 in Set 1 | bredasdorp\n",
      "Processing request 49 in Set 1 | korla\n",
      "Processing request 50 in Set 1 | harper\n",
      "Processing request 51 in Set 1 | rio grande\n",
      "Processing request 52 in Set 1 | lakheri\n",
      "Processing request 53 in Set 1 | araouane\n",
      "Processing request 54 in Set 1 | dhidhdhoo\n",
      "Processing request 55 in Set 1 | mataram\n",
      "Processing request 56 in Set 1 | saquena\n",
      "Processing request 57 in Set 1 | ushuaia\n",
      "Processing request 58 in Set 1 | kapuskasing\n",
      "Processing request 59 in Set 1 | gariaband\n",
      "Processing request 60 in Set 1 | fort saint james\n",
      "Processing request 61 in Set 1 | half moon bay\n",
      "Processing request 62 in Set 1 | kisangani\n",
      "Processing request 63 in Set 1 | lasa\n",
      "Processing request 64 in Set 1 | port alfred\n",
      "Processing request 65 in Set 1 | impfondo\n",
      "Processing request 66 in Set 1 | san jose\n",
      "Processing request 67 in Set 1 | sao filipe\n",
      "Processing request 68 in Set 1 | mitsamiouli\n",
      "Processing request 69 in Set 1 | bethel\n",
      "Processing request 70 in Set 1 | attawapiskat\n",
      "City not found. Skipping...\n",
      "Processing request 71 in Set 1 | dingle\n",
      "Processing request 72 in Set 1 | nemuro\n",
      "Processing request 73 in Set 1 | carnarvon\n",
      "Processing request 74 in Set 1 | victoria\n",
      "Processing request 75 in Set 1 | tuktoyaktuk\n",
      "Processing request 76 in Set 1 | nikolskoye\n",
      "Processing request 77 in Set 1 | aksu\n",
      "Processing request 78 in Set 1 | longyearbyen\n",
      "Processing request 79 in Set 1 | naron\n",
      "Processing request 80 in Set 1 | katsuura\n",
      "Processing request 81 in Set 1 | ilulissat\n",
      "Processing request 82 in Set 1 | itaocara\n",
      "Processing request 83 in Set 1 | bambous virieux\n",
      "Processing request 84 in Set 1 | nouadhibou\n",
      "Processing request 85 in Set 1 | butaritari\n",
      "Processing request 86 in Set 1 | narsaq\n",
      "Processing request 87 in Set 1 | sitka\n",
      "Processing request 88 in Set 1 | ponta do sol\n",
      "Processing request 89 in Set 1 | vostok\n",
      "Processing request 90 in Set 1 | castro\n",
      "Processing request 91 in Set 1 | alofi\n",
      "Processing request 92 in Set 1 | tocopilla\n",
      "Processing request 93 in Set 1 | saskylakh\n",
      "Processing request 94 in Set 1 | nyurba\n",
      "Processing request 95 in Set 1 | aklavik\n",
      "Processing request 96 in Set 1 | kodiak\n",
      "Processing request 97 in Set 1 | tahta\n",
      "Processing request 98 in Set 1 | hilo\n",
      "Processing request 99 in Set 1 | qixingtai\n",
      "Processing request 100 in Set 1 | aasiaat\n",
      "Processing request 101 in Set 1 | dikson\n",
      "Processing request 102 in Set 1 | puerto ayora\n",
      "Processing request 103 in Set 1 | codrington\n",
      "Processing request 104 in Set 1 | la macarena\n",
      "Processing request 105 in Set 1 | devonport\n",
      "Processing request 106 in Set 1 | gharo\n",
      "Processing request 107 in Set 1 | souillac\n",
      "Processing request 108 in Set 1 | monkey bay\n",
      "Processing request 109 in Set 1 | lebu\n",
      "Processing request 110 in Set 1 | sharanga\n",
      "Processing request 111 in Set 1 | ostrovnoy\n",
      "Processing request 112 in Set 1 | mount gambier\n",
      "Processing request 113 in Set 1 | komsomolskiy\n",
      "Processing request 114 in Set 1 | nizhneyansk\n",
      "City not found. Skipping...\n",
      "Processing request 115 in Set 1 | fonte boa\n",
      "Processing request 116 in Set 1 | umba\n",
      "Processing request 117 in Set 1 | dzhusaly\n",
      "City not found. Skipping...\n",
      "Processing request 118 in Set 1 | xiaoweizhai\n",
      "Processing request 119 in Set 1 | mayo\n",
      "Processing request 120 in Set 1 | wewak\n",
      "Processing request 121 in Set 1 | dakar\n",
      "Processing request 122 in Set 1 | qaanaaq\n",
      "Processing request 123 in Set 1 | raga\n",
      "Processing request 124 in Set 1 | vokhtoga\n",
      "Processing request 125 in Set 1 | pevek\n",
      "Processing request 126 in Set 1 | moose factory\n",
      "Processing request 127 in Set 1 | praia da vitoria\n",
      "Processing request 128 in Set 1 | mataura\n",
      "Processing request 129 in Set 1 | kieta\n",
      "Processing request 130 in Set 1 | cadillac\n",
      "Processing request 131 in Set 1 | isangel\n",
      "Processing request 132 in Set 1 | inhambane\n",
      "Processing request 133 in Set 1 | tuatapere\n",
      "Processing request 134 in Set 1 | guiratinga\n",
      "Processing request 135 in Set 1 | atar\n",
      "Processing request 136 in Set 1 | okha\n",
      "Processing request 137 in Set 1 | esperance\n",
      "Processing request 138 in Set 1 | san isidro\n",
      "Processing request 139 in Set 1 | cherskiy\n",
      "Processing request 140 in Set 1 | kasamwa\n",
      "Processing request 141 in Set 1 | ridgecrest\n",
      "Processing request 142 in Set 1 | comodoro rivadavia\n",
      "Processing request 143 in Set 1 | lompoc\n",
      "Processing request 144 in Set 1 | ouadda\n",
      "Processing request 145 in Set 1 | matagami\n",
      "Processing request 146 in Set 1 | henties bay\n",
      "Processing request 147 in Set 1 | mocuba\n",
      "Processing request 148 in Set 1 | shonguy\n",
      "Processing request 149 in Set 1 | tasiilaq\n",
      "Processing request 150 in Set 1 | mys shmidta\n",
      "City not found. Skipping...\n",
      "Processing request 151 in Set 1 | batatais\n",
      "Processing request 152 in Set 1 | clyde river\n",
      "Processing request 153 in Set 1 | naze\n",
      "Processing request 154 in Set 1 | touros\n",
      "Processing request 155 in Set 1 | shebunino\n",
      "Processing request 156 in Set 1 | prince george\n",
      "Processing request 157 in Set 1 | mildura\n",
      "Processing request 158 in Set 1 | illoqqortoormiut\n",
      "City not found. Skipping...\n",
      "Processing request 159 in Set 1 | garowe\n",
      "Processing request 160 in Set 1 | jamestown\n",
      "Processing request 161 in Set 1 | walvis bay\n",
      "Processing request 162 in Set 1 | jiwani\n",
      "Processing request 163 in Set 1 | grand river south east\n",
      "City not found. Skipping...\n",
      "Processing request 164 in Set 1 | catamarca\n",
      "Processing request 165 in Set 1 | cidreira\n",
      "Processing request 166 in Set 1 | kostino\n",
      "Processing request 167 in Set 1 | hai duong\n",
      "Processing request 168 in Set 1 | manjacaze\n",
      "Processing request 169 in Set 1 | baghmara\n",
      "Processing request 170 in Set 1 | san patricio\n",
      "Processing request 171 in Set 1 | ribeira grande\n",
      "Processing request 172 in Set 1 | severo-kurilsk\n",
      "Processing request 173 in Set 1 | mar del plata\n",
      "Processing request 174 in Set 1 | iqaluit\n",
      "Processing request 175 in Set 1 | ormara\n",
      "Processing request 176 in Set 1 | cap malheureux\n",
      "Processing request 177 in Set 1 | yellowknife\n",
      "Processing request 178 in Set 1 | bandarbeyla\n",
      "Processing request 179 in Set 1 | hobart\n",
      "Processing request 180 in Set 1 | new norfolk\n",
      "Processing request 181 in Set 1 | andenes\n",
      "Processing request 182 in Set 1 | toora-khem\n",
      "Processing request 183 in Set 1 | cabo san lucas\n",
      "Processing request 184 in Set 1 | paamiut\n"
     ]
    },
    {
     "name": "stdout",
     "output_type": "stream",
     "text": [
      "Processing request 185 in Set 1 | novikovo\n",
      "Processing request 186 in Set 1 | energeticheskiy\n",
      "Processing request 187 in Set 1 | bluefield\n",
      "Processing request 188 in Set 1 | moissala\n",
      "Processing request 189 in Set 1 | tiarei\n",
      "Processing request 190 in Set 1 | saiha\n",
      "Processing request 191 in Set 1 | umm lajj\n",
      "Processing request 192 in Set 1 | cayenne\n",
      "Processing request 193 in Set 1 | talnakh\n",
      "Processing request 194 in Set 1 | vaitupu\n",
      "City not found. Skipping...\n",
      "Processing request 195 in Set 1 | vestmannaeyjar\n",
      "Processing request 196 in Set 1 | haikou\n",
      "Processing request 197 in Set 1 | ozernovskiy\n",
      "Processing request 198 in Set 1 | tongliao\n",
      "Processing request 199 in Set 1 | iberia\n",
      "Processing request 200 in Set 1 | kysyl-syr\n",
      "Processing request 201 in Set 1 | east london\n",
      "Processing request 202 in Set 1 | port hardy\n",
      "Processing request 203 in Set 1 | abha\n",
      "Processing request 204 in Set 1 | urdoma\n",
      "Processing request 205 in Set 1 | sebu\n",
      "Processing request 206 in Set 1 | roald\n",
      "Processing request 207 in Set 1 | lavrentiya\n",
      "Processing request 208 in Set 1 | santa cruz de la palma\n",
      "Processing request 209 in Set 1 | balaguer\n",
      "Processing request 210 in Set 1 | shubarkuduk\n",
      "Processing request 211 in Set 1 | pingliang\n",
      "Processing request 212 in Set 1 | sosnovo-ozerskoye\n",
      "Processing request 213 in Set 1 | vodnyy\n",
      "Processing request 214 in Set 1 | sao joao da barra\n",
      "Processing request 215 in Set 1 | richards bay\n",
      "Processing request 216 in Set 1 | port-cartier\n",
      "Processing request 217 in Set 1 | pulandian\n",
      "Processing request 218 in Set 1 | arraial do cabo\n",
      "Processing request 219 in Set 1 | tchollire\n",
      "Processing request 220 in Set 1 | williams lake\n",
      "Processing request 221 in Set 1 | coos bay\n",
      "Processing request 222 in Set 1 | nerl\n",
      "Processing request 223 in Set 1 | tumannyy\n",
      "City not found. Skipping...\n",
      "Processing request 224 in Set 1 | hofn\n",
      "Processing request 225 in Set 1 | rundu\n",
      "Processing request 226 in Set 1 | guerrero negro\n",
      "Processing request 227 in Set 1 | northam\n",
      "Processing request 228 in Set 1 | neiafu\n",
      "Processing request 229 in Set 1 | dire dawa\n",
      "Processing request 230 in Set 1 | champoton\n",
      "Processing request 231 in Set 1 | fortuna\n",
      "Processing request 232 in Set 1 | esfarayen\n",
      "Processing request 233 in Set 1 | kattivakkam\n",
      "Processing request 234 in Set 1 | herat\n",
      "Processing request 235 in Set 1 | samusu\n",
      "City not found. Skipping...\n",
      "Processing request 236 in Set 1 | carangola\n",
      "Processing request 237 in Set 1 | meulaboh\n",
      "Processing request 238 in Set 1 | faranah\n",
      "Processing request 239 in Set 1 | namibe\n",
      "Processing request 240 in Set 1 | abashiri\n",
      "Processing request 241 in Set 1 | georgetown\n",
      "Processing request 242 in Set 1 | hailar\n",
      "Processing request 243 in Set 1 | shimoda\n",
      "Processing request 244 in Set 1 | muzhi\n",
      "Processing request 245 in Set 1 | novyy urengoy\n",
      "Processing request 246 in Set 1 | nizhniy kuranakh\n",
      "Processing request 247 in Set 1 | pachino\n",
      "Processing request 248 in Set 1 | grand gaube\n",
      "Processing request 249 in Set 1 | san jeronimo\n",
      "Processing request 250 in Set 1 | margate\n",
      "Processing request 251 in Set 1 | lorengau\n",
      "Processing request 252 in Set 1 | roma\n",
      "Processing request 253 in Set 1 | palm city\n",
      "Processing request 254 in Set 1 | belushya guba\n",
      "City not found. Skipping...\n",
      "Processing request 255 in Set 1 | jiuquan\n",
      "Processing request 256 in Set 1 | tagusao\n",
      "Processing request 257 in Set 1 | talaya\n",
      "Processing request 258 in Set 1 | nouakchott\n",
      "Processing request 259 in Set 1 | ihosy\n",
      "Processing request 260 in Set 1 | rungata\n",
      "City not found. Skipping...\n",
      "Processing request 261 in Set 1 | angoram\n",
      "Processing request 262 in Set 1 | nanortalik\n",
      "Processing request 263 in Set 1 | warrington\n",
      "Processing request 264 in Set 1 | taikang\n",
      "Processing request 265 in Set 1 | manali\n",
      "Processing request 266 in Set 1 | san cristobal\n",
      "Processing request 267 in Set 1 | lagoa\n",
      "Processing request 268 in Set 1 | lata\n",
      "Processing request 269 in Set 1 | sinjah\n",
      "City not found. Skipping...\n",
      "Processing request 270 in Set 1 | virginia beach\n",
      "Processing request 271 in Set 1 | boa vista\n",
      "Processing request 272 in Set 1 | pangody\n",
      "Processing request 273 in Set 1 | copiapo\n",
      "Processing request 274 in Set 1 | jijiga\n",
      "Processing request 275 in Set 1 | kamenka\n",
      "Processing request 276 in Set 1 | kegayli\n",
      "City not found. Skipping...\n",
      "Processing request 277 in Set 1 | tiksi\n",
      "Processing request 278 in Set 1 | avarua\n",
      "Processing request 279 in Set 1 | obihiro\n",
      "Processing request 280 in Set 1 | lahij\n",
      "Processing request 281 in Set 1 | bonthe\n",
      "Processing request 282 in Set 1 | riyadh\n",
      "Processing request 283 in Set 1 | tubruq\n",
      "City not found. Skipping...\n",
      "Processing request 284 in Set 1 | kabarnet\n",
      "Processing request 285 in Set 1 | kaitangata\n",
      "Processing request 286 in Set 1 | denpasar\n",
      "Processing request 287 in Set 1 | jalu\n",
      "Processing request 288 in Set 1 | pyaozerskiy\n",
      "Processing request 289 in Set 1 | scottsbluff\n",
      "Processing request 290 in Set 1 | amderma\n",
      "City not found. Skipping...\n",
      "Processing request 291 in Set 1 | abu samrah\n",
      "Processing request 292 in Set 1 | hasaki\n",
      "Processing request 293 in Set 1 | chuy\n",
      "Processing request 294 in Set 1 | tilichiki\n",
      "Processing request 295 in Set 1 | arkhara\n",
      "Processing request 296 in Set 1 | celestun\n",
      "Processing request 297 in Set 1 | port shepstone\n",
      "Processing request 298 in Set 1 | khatanga\n",
      "Processing request 299 in Set 1 | seda\n",
      "Processing request 300 in Set 1 | lethem\n",
      "Processing request 301 in Set 1 | rajshahi\n",
      "Processing request 302 in Set 1 | san andres\n",
      "Processing request 303 in Set 1 | menongue\n",
      "Processing request 304 in Set 1 | barbar\n",
      "City not found. Skipping...\n",
      "Processing request 305 in Set 1 | bafoulabe\n",
      "Processing request 306 in Set 1 | chitral\n",
      "Processing request 307 in Set 1 | beringovskiy\n",
      "Processing request 308 in Set 1 | bengkulu\n",
      "Processing request 309 in Set 1 | saint george\n",
      "Processing request 310 in Set 1 | kargasok\n",
      "Processing request 311 in Set 1 | okhotsk\n",
      "Processing request 312 in Set 1 | sayyan\n",
      "Processing request 313 in Set 1 | umm kaddadah\n",
      "Processing request 314 in Set 1 | thinadhoo\n",
      "Processing request 315 in Set 1 | guaruja\n",
      "Processing request 316 in Set 1 | norman wells\n",
      "Processing request 317 in Set 1 | namatanai\n",
      "Processing request 318 in Set 1 | kununurra\n",
      "Processing request 319 in Set 1 | itoman\n",
      "Processing request 320 in Set 1 | kruisfontein\n",
      "Processing request 321 in Set 1 | north bend\n",
      "Processing request 322 in Set 1 | carutapera\n",
      "Processing request 323 in Set 1 | yar-sale\n",
      "Processing request 324 in Set 1 | qostanay\n",
      "Processing request 325 in Set 1 | udachnyy\n",
      "Processing request 326 in Set 1 | xicotencatl\n",
      "Processing request 327 in Set 1 | kavaratti\n",
      "Processing request 328 in Set 1 | conceicao do araguaia\n",
      "Processing request 329 in Set 1 | jinxiang\n",
      "Processing request 330 in Set 1 | ramhormoz\n",
      "Processing request 331 in Set 1 | contepec\n",
      "Processing request 332 in Set 1 | petropavlovsk-kamchatskiy\n",
      "Processing request 333 in Set 1 | san vicente\n",
      "Processing request 334 in Set 1 | bereda\n",
      "Processing request 335 in Set 1 | vestmanna\n",
      "Processing request 336 in Set 1 | champerico\n",
      "Processing request 337 in Set 1 | tevaitoa\n",
      "Processing request 338 in Set 1 | armacao dos buzios\n",
      "City not found. Skipping...\n",
      "Processing request 339 in Set 1 | umea\n",
      "Processing request 340 in Set 1 | inirida\n",
      "Processing request 341 in Set 1 | auki\n",
      "Processing request 342 in Set 1 | zhiryatino\n",
      "Processing request 343 in Set 1 | kuching\n",
      "Processing request 344 in Set 1 | rorvik\n",
      "Processing request 345 in Set 1 | faanui\n",
      "Processing request 346 in Set 1 | labutta\n",
      "City not found. Skipping...\n",
      "Processing request 347 in Set 1 | srivardhan\n",
      "Processing request 348 in Set 1 | umzimvubu\n",
      "City not found. Skipping...\n",
      "Processing request 349 in Set 1 | te anau\n",
      "Processing request 350 in Set 1 | sakaiminato\n",
      "Processing request 351 in Set 1 | nampula\n",
      "Processing request 352 in Set 1 | banda aceh\n",
      "Processing request 353 in Set 1 | andra\n",
      "Processing request 354 in Set 1 | brownfield\n",
      "Processing request 355 in Set 1 | tessalit\n",
      "Processing request 356 in Set 1 | chagda\n",
      "City not found. Skipping...\n",
      "Processing request 357 in Set 1 | surt\n",
      "Processing request 358 in Set 1 | nalut\n",
      "Processing request 359 in Set 1 | polunochnoye\n",
      "Processing request 360 in Set 1 | paita\n",
      "Processing request 361 in Set 1 | odda\n",
      "Processing request 362 in Set 1 | adrar\n",
      "Processing request 363 in Set 1 | saint-pierre\n",
      "Processing request 364 in Set 1 | kamenskoye\n",
      "City not found. Skipping...\n"
     ]
    },
    {
     "name": "stdout",
     "output_type": "stream",
     "text": [
      "Processing request 365 in Set 1 | boaco\n",
      "Processing request 366 in Set 1 | shilka\n",
      "Processing request 367 in Set 1 | kozhva\n",
      "Processing request 368 in Set 1 | tsihombe\n",
      "City not found. Skipping...\n",
      "Processing request 369 in Set 1 | saint peter\n",
      "Processing request 370 in Set 1 | mount isa\n",
      "Processing request 371 in Set 1 | lolua\n",
      "City not found. Skipping...\n",
      "Processing request 372 in Set 1 | arucas\n",
      "Processing request 373 in Set 1 | rocha\n",
      "Processing request 374 in Set 1 | upata\n",
      "Processing request 375 in Set 1 | oktyabrskoye\n",
      "Processing request 376 in Set 1 | urcos\n",
      "Processing request 377 in Set 1 | katsina\n",
      "Processing request 378 in Set 1 | deputatskiy\n",
      "Processing request 379 in Set 1 | palmer\n",
      "Processing request 380 in Set 1 | grindavik\n",
      "Processing request 381 in Set 1 | lindsay\n",
      "Processing request 382 in Set 1 | ko samui\n",
      "Processing request 383 in Set 1 | calvia\n",
      "Processing request 384 in Set 1 | ust-ishim\n",
      "Processing request 385 in Set 1 | waipawa\n",
      "Processing request 386 in Set 1 | gazalkent\n",
      "Processing request 387 in Set 1 | xining\n",
      "Processing request 388 in Set 1 | templemore\n",
      "Processing request 389 in Set 1 | vardo\n",
      "Processing request 390 in Set 1 | nantucket\n",
      "Processing request 391 in Set 1 | kawalu\n",
      "Processing request 392 in Set 1 | ketchikan\n",
      "Processing request 393 in Set 1 | broken hill\n",
      "Processing request 394 in Set 1 | poum\n",
      "Processing request 395 in Set 1 | druzhinino\n",
      "Processing request 396 in Set 1 | guymon\n",
      "Processing request 397 in Set 1 | yerbogachen\n",
      "Processing request 398 in Set 1 | vao\n",
      "Processing request 399 in Set 1 | kavieng\n",
      "Processing request 400 in Set 1 | fairbanks\n",
      "Processing request 401 in Set 1 | bagratashen\n",
      "Processing request 402 in Set 1 | gat\n",
      "Processing request 403 in Set 1 | yayva\n",
      "Processing request 404 in Set 1 | alotau\n",
      "City not found. Skipping...\n",
      "Processing request 405 in Set 1 | mahanje\n",
      "Processing request 406 in Set 1 | gao\n",
      "Processing request 407 in Set 1 | galesong\n",
      "Processing request 408 in Set 1 | duz\n",
      "City not found. Skipping...\n",
      "Processing request 409 in Set 1 | mahebourg\n",
      "Processing request 410 in Set 1 | tumaco\n",
      "Processing request 411 in Set 1 | sorgun\n",
      "Processing request 412 in Set 1 | sur\n",
      "Processing request 413 in Set 1 | ponta delgada\n",
      "Processing request 414 in Set 1 | sernovodsk\n",
      "Processing request 415 in Set 1 | erzin\n",
      "Processing request 416 in Set 1 | nanlong\n",
      "Processing request 417 in Set 1 | geraldton\n",
      "Processing request 418 in Set 1 | kwinana\n",
      "Processing request 419 in Set 1 | banamba\n",
      "Processing request 420 in Set 1 | aykhal\n",
      "Processing request 421 in Set 1 | pangnirtung\n",
      "Processing request 422 in Set 1 | laurens\n",
      "Processing request 423 in Set 1 | pisco\n",
      "Processing request 424 in Set 1 | penol\n",
      "Processing request 425 in Set 1 | inta\n",
      "Processing request 426 in Set 1 | la romana\n",
      "Processing request 427 in Set 1 | husavik\n",
      "Processing request 428 in Set 1 | alice springs\n",
      "Processing request 429 in Set 1 | hobyo\n",
      "Processing request 430 in Set 1 | tura\n",
      "Processing request 431 in Set 1 | jablah\n",
      "Processing request 432 in Set 1 | vila\n",
      "Processing request 433 in Set 1 | jinsha\n",
      "Processing request 434 in Set 1 | along\n",
      "Processing request 435 in Set 1 | scottsburgh\n",
      "City not found. Skipping...\n",
      "Processing request 436 in Set 1 | yulara\n",
      "Processing request 437 in Set 1 | canico\n",
      "Processing request 438 in Set 1 | saldanha\n",
      "Processing request 439 in Set 1 | tecoanapa\n",
      "Processing request 440 in Set 1 | oxford\n",
      "Processing request 441 in Set 1 | jinchang\n",
      "Processing request 442 in Set 1 | samarskoye\n",
      "Processing request 443 in Set 1 | mokhotlong\n",
      "Processing request 444 in Set 1 | anadyr\n",
      "Processing request 445 in Set 1 | mandalgovi\n",
      "Processing request 446 in Set 1 | nsanje\n",
      "Processing request 447 in Set 1 | omsukchan\n",
      "Processing request 448 in Set 1 | dzhebariki-khaya\n",
      "Processing request 449 in Set 1 | taoudenni\n",
      "Processing request 450 in Set 1 | banjar\n",
      "Processing request 451 in Set 1 | mochishche\n",
      "Processing request 452 in Set 1 | hun\n",
      "Processing request 453 in Set 1 | jiddah\n",
      "City not found. Skipping...\n",
      "Processing request 454 in Set 1 | barabai\n",
      "Processing request 455 in Set 1 | marcona\n",
      "City not found. Skipping...\n",
      "Processing request 456 in Set 1 | leningradskiy\n",
      "Processing request 457 in Set 1 | abu zabad\n",
      "Processing request 458 in Set 1 | palabuhanratu\n",
      "City not found. Skipping...\n",
      "Processing request 459 in Set 1 | lyuban\n",
      "Processing request 460 in Set 1 | wahpeton\n",
      "Processing request 461 in Set 1 | ahmadnagar\n",
      "Processing request 462 in Set 1 | aleksandrov gay\n",
      "Processing request 463 in Set 1 | khomeyn\n",
      "Processing request 464 in Set 1 | karratha\n",
      "Processing request 465 in Set 1 | baghdad\n",
      "Processing request 466 in Set 1 | kahului\n",
      "Processing request 467 in Set 1 | college\n",
      "Processing request 468 in Set 1 | kamyshlov\n",
      "Processing request 469 in Set 1 | nakasongola\n",
      "Processing request 470 in Set 1 | ampanihy\n",
      "Processing request 471 in Set 1 | valparaiso\n",
      "Processing request 472 in Set 1 | brunico\n",
      "Processing request 473 in Set 1 | chimbote\n",
      "Processing request 474 in Set 1 | pilar\n",
      "Processing request 475 in Set 1 | novaya igirma\n",
      "Processing request 476 in Set 1 | port macquarie\n",
      "Processing request 477 in Set 1 | la roche-en-ardenne\n",
      "Processing request 478 in Set 1 | vincennes\n",
      "Processing request 479 in Set 1 | la libertad\n",
      "Processing request 480 in Set 1 | porto walter\n",
      "Processing request 481 in Set 1 | tabiauea\n",
      "City not found. Skipping...\n",
      "Processing request 482 in Set 1 | kokopo\n",
      "Processing request 483 in Set 1 | orlik\n",
      "Processing request 484 in Set 1 | bilma\n",
      "Processing request 485 in Set 1 | keratsinion\n",
      "City not found. Skipping...\n",
      "Processing request 486 in Set 1 | pinega\n",
      "Processing request 487 in Set 1 | nagato\n",
      "Processing request 488 in Set 1 | krasnoborsk\n",
      "Processing request 489 in Set 1 | odienne\n",
      "Processing request 490 in Set 1 | wa\n",
      "City not found. Skipping...\n",
      "Processing request 491 in Set 1 | moa\n",
      "Processing request 492 in Set 1 | sinop\n",
      "Processing request 493 in Set 1 | berlevag\n",
      "Processing request 494 in Set 1 | kosh-agach\n",
      "Processing request 495 in Set 1 | ta khmau\n",
      "Processing request 496 in Set 1 | ust-kan\n",
      "Processing request 497 in Set 1 | fairview\n",
      "Processing request 498 in Set 1 | mahibadhoo\n",
      "Processing request 499 in Set 1 | california city\n",
      "Processing request 500 in Set 1 | okakarara\n",
      "Processing request 501 in Set 1 | bulaevo\n",
      "Processing request 502 in Set 1 | seymchan\n",
      "Processing request 503 in Set 1 | westport\n",
      "Processing request 504 in Set 1 | dongsheng\n",
      "Processing request 505 in Set 1 | yarada\n",
      "Processing request 506 in Set 1 | kumluca\n",
      "Processing request 507 in Set 1 | acajutla\n",
      "Processing request 508 in Set 1 | abu jubayhah\n",
      "City not found. Skipping...\n",
      "Processing request 509 in Set 1 | viligili\n",
      "City not found. Skipping...\n",
      "Processing request 510 in Set 1 | disna\n",
      "Processing request 511 in Set 1 | quatre cocos\n",
      "Processing request 512 in Set 1 | maniitsoq\n",
      "Processing request 513 in Set 1 | pasighat\n",
      "Processing request 514 in Set 1 | ushtobe\n",
      "Processing request 515 in Set 1 | provideniya\n",
      "Processing request 516 in Set 1 | hoopstad\n",
      "Processing request 517 in Set 1 | tautira\n",
      "Processing request 518 in Set 1 | gambiran\n",
      "Processing request 519 in Set 1 | amuntai\n",
      "Processing request 520 in Set 1 | vila velha\n",
      "Processing request 521 in Set 1 | outjo\n",
      "Processing request 522 in Set 1 | shingu\n",
      "Processing request 523 in Set 1 | susaki\n",
      "Processing request 524 in Set 1 | airai\n",
      "Processing request 525 in Set 1 | hamilton\n",
      "Processing request 526 in Set 1 | nuuk\n",
      "Processing request 527 in Set 1 | ituni\n",
      "City not found. Skipping...\n",
      "Processing request 528 in Set 1 | itambe\n",
      "Processing request 529 in Set 1 | sungairaya\n",
      "Processing request 530 in Set 1 | phan rang\n",
      "City not found. Skipping...\n",
      "Processing request 531 in Set 1 | birin\n",
      "Processing request 532 in Set 1 | otane\n",
      "Processing request 533 in Set 1 | halalo\n",
      "City not found. Skipping...\n",
      "Processing request 534 in Set 1 | zainsk\n",
      "Processing request 535 in Set 1 | itarema\n",
      "Processing request 536 in Set 1 | ust-tsilma\n",
      "Processing request 537 in Set 1 | dunedin\n",
      "Processing request 538 in Set 1 | ayame\n",
      "Processing request 539 in Set 1 | wheatley\n",
      "Processing request 540 in Set 1 | kalmunai\n",
      "Processing request 541 in Set 1 | dawei\n",
      "Processing request 542 in Set 1 | sorong\n",
      "Processing request 543 in Set 1 | necochea\n",
      "Processing request 544 in Set 1 | sonqor\n",
      "Processing request 545 in Set 1 | prainha\n",
      "Processing request 546 in Set 1 | port moresby\n"
     ]
    },
    {
     "name": "stdout",
     "output_type": "stream",
     "text": [
      "Processing request 547 in Set 1 | hirara\n",
      "Processing request 548 in Set 1 | lyskovo\n",
      "Processing request 549 in Set 1 | williston\n",
      "Processing request 550 in Set 1 | nguiu\n",
      "City not found. Skipping...\n",
      "Processing request 551 in Set 1 | ashqelon\n",
      "Processing request 552 in Set 1 | ilhabela\n",
      "Processing request 553 in Set 1 | sibolga\n",
      "Processing request 554 in Set 1 | almenara\n",
      "Processing request 555 in Set 1 | vila franca do campo\n",
      "Processing request 556 in Set 1 | bracebridge\n",
      "Processing request 557 in Set 1 | quang ngai\n",
      "Processing request 558 in Set 1 | porto uniao\n",
      "Processing request 559 in Set 1 | paradwip\n",
      "City not found. Skipping...\n",
      "Processing request 560 in Set 1 | saint anthony\n",
      "Processing request 561 in Set 1 | hurghada\n",
      "Processing request 562 in Set 1 | mabaruma\n",
      "Processing request 563 in Set 1 | fukue\n",
      "Processing request 564 in Set 1 | karasburg\n",
      "Processing request 565 in Set 1 | vallenar\n",
      "Processing request 566 in Set 1 | xochistlahuaca\n",
      "Processing request 567 in Set 1 | taldan\n",
      "Processing request 568 in Set 1 | yarmouth\n",
      "Processing request 569 in Set 1 | saint-philippe\n",
      "Processing request 570 in Set 1 | aflu\n",
      "City not found. Skipping...\n",
      "Processing request 571 in Set 1 | yuzhno-yeniseyskiy\n",
      "City not found. Skipping...\n",
      "Processing request 572 in Set 1 | burica\n",
      "City not found. Skipping...\n",
      "Processing request 573 in Set 1 | ayaviri\n",
      "Processing request 574 in Set 1 | summerville\n",
      "Processing request 575 in Set 1 | houffalize\n",
      "Processing request 576 in Set 1 | lazaro cardenas\n",
      "Processing request 577 in Set 1 | saebovik\n",
      "City not found. Skipping...\n",
      "Processing request 578 in Set 1 | butembo\n",
      "Processing request 579 in Set 1 | satitoa\n",
      "City not found. Skipping...\n",
      "Processing request 580 in Set 1 | labuhan\n",
      "Processing request 581 in Set 1 | labuan\n",
      "Processing request 582 in Set 1 | sistranda\n",
      "Processing request 583 in Set 1 | lincoln\n",
      "Processing request 584 in Set 1 | sedelnikovo\n",
      "City not found. Skipping...\n",
      "Processing request 585 in Set 1 | mogadishu\n",
      "Processing request 586 in Set 1 | mincivan\n",
      "Processing request 587 in Set 1 | tortoli\n",
      "Processing request 588 in Set 1 | qasigiannguit\n",
      "Processing request 589 in Set 1 | suhbaatar\n",
      "Processing request 590 in Set 1 | susurluk\n",
      "Processing request 591 in Set 1 | belaya gora\n",
      "Processing request 592 in Set 1 | itaituba\n",
      "Processing request 593 in Set 1 | xapuri\n",
      "Processing request 594 in Set 1 | laguna\n",
      "Processing request 595 in Set 1 | nanchang\n",
      "Processing request 596 in Set 1 | haines junction\n",
      "Processing request 597 in Set 1 | camacupa\n",
      "Processing request 598 in Set 1 | freeport\n",
      "Processing request 599 in Set 1 | khandbari\n",
      "Processing request 600 in Set 1 | christchurch\n",
      "Processing request 601 in Set 1 | port blair\n",
      "Processing request 602 in Set 1 | nabinagar\n",
      "Processing request 603 in Set 1 | paris\n",
      "Processing request 604 in Set 1 | spokane\n",
      "Processing request 605 in Set 1 | qaqortoq\n",
      "Processing request 606 in Set 1 | rosetta\n",
      "Processing request 607 in Set 1 | fort morgan\n",
      "Processing request 608 in Set 1 | la orilla\n",
      "Processing request 609 in Set 1 | toropets\n",
      "Processing request 610 in Set 1 | gravdal\n",
      "Processing request 611 in Set 1 | kulhudhuffushi\n",
      "Processing request 612 in Set 1 | port-gentil\n",
      "Processing request 613 in Set 1 | kayankulam\n",
      "Processing request 614 in Set 1 | syamzha\n",
      "Processing request 615 in Set 1 | riosucio\n",
      "Processing request 616 in Set 1 | terrak\n",
      "Processing request 617 in Set 1 | hastings\n",
      "Processing request 618 in Set 1 | takaka\n",
      "Processing request 619 in Set 1 | golyshmanovo\n",
      "Processing request 620 in Set 1 | ust-nera\n"
     ]
    }
   ],
   "source": [
    "url = \"http://api.openweathermap.org/data/2.5/weather?\"\n",
    "\n",
    "count = 1\n",
    "\n",
    "#for city in cities:\n",
    "for city in cities: \n",
    "    query_url = url + \"appid=\" + weather_api_key + \"&q=\" + city + \"&units=imperial\"\n",
    "    weather_request = requests.get(query_url)\n",
    "    print(f\"Processing request {count} in Set 1 | {city}\")\n",
    "    \n",
    "    try:\n",
    "        weather_request.raise_for_status()\n",
    "        weather_data = weather_request.json()\n",
    "        city_name.append(weather_data['name'])\n",
    "        max_temp.append(weather_data['main']['temp_max'])\n",
    "        humidity.append(weather_data['main']['humidity'])\n",
    "        cloudiness.append(weather_data['clouds']['all'])\n",
    "        wind_speed.append(weather_data['wind']['speed'])\n",
    "        lat.append(weather_data['coord']['lat'])\n",
    "        lng.append(weather_data['coord']['lon'])\n",
    "        country.append(weather_data['sys']['country'])\n",
    "        date.append(weather_data['dt'])\n",
    "        \n",
    "    except requests.HTTPError:\n",
    "        print(\"City not found. Skipping...\")\n",
    "    count +=1\n",
    "\n"
   ]
  },
  {
   "cell_type": "code",
   "execution_count": 80,
   "metadata": {
    "scrolled": false
   },
   "outputs": [
    {
     "ename": "ValueError",
     "evalue": "array length 572 does not match index length 566",
     "output_type": "error",
     "traceback": [
      "\u001b[1;31m---------------------------------------------------------------------------\u001b[0m",
      "\u001b[1;31mValueError\u001b[0m                                Traceback (most recent call last)",
      "\u001b[1;32m<ipython-input-80-5033354a668a>\u001b[0m in \u001b[0;36m<module>\u001b[1;34m\u001b[0m\n\u001b[1;32m----> 1\u001b[1;33m weather_df = pd.DataFrame({\n\u001b[0m\u001b[0;32m      2\u001b[0m     \u001b[1;34m'city'\u001b[0m\u001b[1;33m:\u001b[0m \u001b[0mcity_name\u001b[0m\u001b[1;33m,\u001b[0m\u001b[1;33m\u001b[0m\u001b[1;33m\u001b[0m\u001b[0m\n\u001b[0;32m      3\u001b[0m     \u001b[1;34m'max_temp'\u001b[0m \u001b[1;33m:\u001b[0m \u001b[0mtemperature\u001b[0m\u001b[1;33m,\u001b[0m\u001b[1;33m\u001b[0m\u001b[1;33m\u001b[0m\u001b[0m\n\u001b[0;32m      4\u001b[0m     \u001b[1;34m'humidity'\u001b[0m \u001b[1;33m:\u001b[0m \u001b[0mhumidity\u001b[0m\u001b[1;33m,\u001b[0m\u001b[1;33m\u001b[0m\u001b[1;33m\u001b[0m\u001b[0m\n\u001b[0;32m      5\u001b[0m     \u001b[1;34m'wind_speed'\u001b[0m\u001b[1;33m:\u001b[0m \u001b[0mwind_speed\u001b[0m\u001b[1;33m,\u001b[0m\u001b[1;33m\u001b[0m\u001b[1;33m\u001b[0m\u001b[0m\n",
      "\u001b[1;32m~\\anaconda3\\lib\\site-packages\\pandas\\core\\frame.py\u001b[0m in \u001b[0;36m__init__\u001b[1;34m(self, data, index, columns, dtype, copy)\u001b[0m\n\u001b[0;32m    527\u001b[0m \u001b[1;33m\u001b[0m\u001b[0m\n\u001b[0;32m    528\u001b[0m         \u001b[1;32melif\u001b[0m \u001b[0misinstance\u001b[0m\u001b[1;33m(\u001b[0m\u001b[0mdata\u001b[0m\u001b[1;33m,\u001b[0m \u001b[0mdict\u001b[0m\u001b[1;33m)\u001b[0m\u001b[1;33m:\u001b[0m\u001b[1;33m\u001b[0m\u001b[1;33m\u001b[0m\u001b[0m\n\u001b[1;32m--> 529\u001b[1;33m             \u001b[0mmgr\u001b[0m \u001b[1;33m=\u001b[0m \u001b[0minit_dict\u001b[0m\u001b[1;33m(\u001b[0m\u001b[0mdata\u001b[0m\u001b[1;33m,\u001b[0m \u001b[0mindex\u001b[0m\u001b[1;33m,\u001b[0m \u001b[0mcolumns\u001b[0m\u001b[1;33m,\u001b[0m \u001b[0mdtype\u001b[0m\u001b[1;33m=\u001b[0m\u001b[0mdtype\u001b[0m\u001b[1;33m)\u001b[0m\u001b[1;33m\u001b[0m\u001b[1;33m\u001b[0m\u001b[0m\n\u001b[0m\u001b[0;32m    530\u001b[0m         \u001b[1;32melif\u001b[0m \u001b[0misinstance\u001b[0m\u001b[1;33m(\u001b[0m\u001b[0mdata\u001b[0m\u001b[1;33m,\u001b[0m \u001b[0mma\u001b[0m\u001b[1;33m.\u001b[0m\u001b[0mMaskedArray\u001b[0m\u001b[1;33m)\u001b[0m\u001b[1;33m:\u001b[0m\u001b[1;33m\u001b[0m\u001b[1;33m\u001b[0m\u001b[0m\n\u001b[0;32m    531\u001b[0m             \u001b[1;32mimport\u001b[0m \u001b[0mnumpy\u001b[0m\u001b[1;33m.\u001b[0m\u001b[0mma\u001b[0m\u001b[1;33m.\u001b[0m\u001b[0mmrecords\u001b[0m \u001b[1;32mas\u001b[0m \u001b[0mmrecords\u001b[0m\u001b[1;33m\u001b[0m\u001b[1;33m\u001b[0m\u001b[0m\n",
      "\u001b[1;32m~\\anaconda3\\lib\\site-packages\\pandas\\core\\internals\\construction.py\u001b[0m in \u001b[0;36minit_dict\u001b[1;34m(data, index, columns, dtype)\u001b[0m\n\u001b[0;32m    285\u001b[0m             \u001b[0marr\u001b[0m \u001b[1;32mif\u001b[0m \u001b[1;32mnot\u001b[0m \u001b[0mis_datetime64tz_dtype\u001b[0m\u001b[1;33m(\u001b[0m\u001b[0marr\u001b[0m\u001b[1;33m)\u001b[0m \u001b[1;32melse\u001b[0m \u001b[0marr\u001b[0m\u001b[1;33m.\u001b[0m\u001b[0mcopy\u001b[0m\u001b[1;33m(\u001b[0m\u001b[1;33m)\u001b[0m \u001b[1;32mfor\u001b[0m \u001b[0marr\u001b[0m \u001b[1;32min\u001b[0m \u001b[0marrays\u001b[0m\u001b[1;33m\u001b[0m\u001b[1;33m\u001b[0m\u001b[0m\n\u001b[0;32m    286\u001b[0m         ]\n\u001b[1;32m--> 287\u001b[1;33m     \u001b[1;32mreturn\u001b[0m \u001b[0marrays_to_mgr\u001b[0m\u001b[1;33m(\u001b[0m\u001b[0marrays\u001b[0m\u001b[1;33m,\u001b[0m \u001b[0mdata_names\u001b[0m\u001b[1;33m,\u001b[0m \u001b[0mindex\u001b[0m\u001b[1;33m,\u001b[0m \u001b[0mcolumns\u001b[0m\u001b[1;33m,\u001b[0m \u001b[0mdtype\u001b[0m\u001b[1;33m=\u001b[0m\u001b[0mdtype\u001b[0m\u001b[1;33m)\u001b[0m\u001b[1;33m\u001b[0m\u001b[1;33m\u001b[0m\u001b[0m\n\u001b[0m\u001b[0;32m    288\u001b[0m \u001b[1;33m\u001b[0m\u001b[0m\n\u001b[0;32m    289\u001b[0m \u001b[1;33m\u001b[0m\u001b[0m\n",
      "\u001b[1;32m~\\anaconda3\\lib\\site-packages\\pandas\\core\\internals\\construction.py\u001b[0m in \u001b[0;36marrays_to_mgr\u001b[1;34m(arrays, arr_names, index, columns, dtype, verify_integrity)\u001b[0m\n\u001b[0;32m     78\u001b[0m         \u001b[1;31m# figure out the index, if necessary\u001b[0m\u001b[1;33m\u001b[0m\u001b[1;33m\u001b[0m\u001b[1;33m\u001b[0m\u001b[0m\n\u001b[0;32m     79\u001b[0m         \u001b[1;32mif\u001b[0m \u001b[0mindex\u001b[0m \u001b[1;32mis\u001b[0m \u001b[1;32mNone\u001b[0m\u001b[1;33m:\u001b[0m\u001b[1;33m\u001b[0m\u001b[1;33m\u001b[0m\u001b[0m\n\u001b[1;32m---> 80\u001b[1;33m             \u001b[0mindex\u001b[0m \u001b[1;33m=\u001b[0m \u001b[0mextract_index\u001b[0m\u001b[1;33m(\u001b[0m\u001b[0marrays\u001b[0m\u001b[1;33m)\u001b[0m\u001b[1;33m\u001b[0m\u001b[1;33m\u001b[0m\u001b[0m\n\u001b[0m\u001b[0;32m     81\u001b[0m         \u001b[1;32melse\u001b[0m\u001b[1;33m:\u001b[0m\u001b[1;33m\u001b[0m\u001b[1;33m\u001b[0m\u001b[0m\n\u001b[0;32m     82\u001b[0m             \u001b[0mindex\u001b[0m \u001b[1;33m=\u001b[0m \u001b[0mensure_index\u001b[0m\u001b[1;33m(\u001b[0m\u001b[0mindex\u001b[0m\u001b[1;33m)\u001b[0m\u001b[1;33m\u001b[0m\u001b[1;33m\u001b[0m\u001b[0m\n",
      "\u001b[1;32m~\\anaconda3\\lib\\site-packages\\pandas\\core\\internals\\construction.py\u001b[0m in \u001b[0;36mextract_index\u001b[1;34m(data)\u001b[0m\n\u001b[0;32m    413\u001b[0m                         \u001b[1;34mf\"length {len(index)}\"\u001b[0m\u001b[1;33m\u001b[0m\u001b[1;33m\u001b[0m\u001b[0m\n\u001b[0;32m    414\u001b[0m                     )\n\u001b[1;32m--> 415\u001b[1;33m                     \u001b[1;32mraise\u001b[0m \u001b[0mValueError\u001b[0m\u001b[1;33m(\u001b[0m\u001b[0mmsg\u001b[0m\u001b[1;33m)\u001b[0m\u001b[1;33m\u001b[0m\u001b[1;33m\u001b[0m\u001b[0m\n\u001b[0m\u001b[0;32m    416\u001b[0m             \u001b[1;32melse\u001b[0m\u001b[1;33m:\u001b[0m\u001b[1;33m\u001b[0m\u001b[1;33m\u001b[0m\u001b[0m\n\u001b[0;32m    417\u001b[0m                 \u001b[0mindex\u001b[0m \u001b[1;33m=\u001b[0m \u001b[0mibase\u001b[0m\u001b[1;33m.\u001b[0m\u001b[0mdefault_index\u001b[0m\u001b[1;33m(\u001b[0m\u001b[0mlengths\u001b[0m\u001b[1;33m[\u001b[0m\u001b[1;36m0\u001b[0m\u001b[1;33m]\u001b[0m\u001b[1;33m)\u001b[0m\u001b[1;33m\u001b[0m\u001b[1;33m\u001b[0m\u001b[0m\n",
      "\u001b[1;31mValueError\u001b[0m: array length 572 does not match index length 566"
     ]
    }
   ],
   "source": [
    "weather_df = pd.DataFrame({\n",
    "    'city': city_name,\n",
    "    'max_temp' : temperature,\n",
    "    'humidity' : humidity,\n",
    "    'wind_speed': wind_speed,\n",
    "    'cloudiness': cloudiness,\n",
    "    'lat': lat,\n",
    "    'lng': lng,\n",
    "    'country': country,\n",
    "    'date': date\n",
    "})\n",
    "\n",
    "weather_df"
   ]
  },
  {
   "cell_type": "code",
   "execution_count": 29,
   "metadata": {},
   "outputs": [
    {
     "data": {
      "text/html": [
       "<div>\n",
       "<style scoped>\n",
       "    .dataframe tbody tr th:only-of-type {\n",
       "        vertical-align: middle;\n",
       "    }\n",
       "\n",
       "    .dataframe tbody tr th {\n",
       "        vertical-align: top;\n",
       "    }\n",
       "\n",
       "    .dataframe thead th {\n",
       "        text-align: right;\n",
       "    }\n",
       "</style>\n",
       "<table border=\"1\" class=\"dataframe\">\n",
       "  <thead>\n",
       "    <tr style=\"text-align: right;\">\n",
       "      <th></th>\n",
       "      <th>max_temp</th>\n",
       "      <th>humidity</th>\n",
       "      <th>wind_speed</th>\n",
       "      <th>lat</th>\n",
       "      <th>lng</th>\n",
       "      <th>date</th>\n",
       "    </tr>\n",
       "  </thead>\n",
       "  <tbody>\n",
       "    <tr>\n",
       "      <th>count</th>\n",
       "      <td>572.000000</td>\n",
       "      <td>572.000000</td>\n",
       "      <td>572.000000</td>\n",
       "      <td>572.000000</td>\n",
       "      <td>572.000000</td>\n",
       "      <td>5.720000e+02</td>\n",
       "    </tr>\n",
       "    <tr>\n",
       "      <th>mean</th>\n",
       "      <td>70.263601</td>\n",
       "      <td>69.935315</td>\n",
       "      <td>8.040577</td>\n",
       "      <td>21.289016</td>\n",
       "      <td>22.437099</td>\n",
       "      <td>1.628685e+09</td>\n",
       "    </tr>\n",
       "    <tr>\n",
       "      <th>std</th>\n",
       "      <td>14.573893</td>\n",
       "      <td>21.979158</td>\n",
       "      <td>5.079150</td>\n",
       "      <td>33.722208</td>\n",
       "      <td>90.944995</td>\n",
       "      <td>9.265701e+01</td>\n",
       "    </tr>\n",
       "    <tr>\n",
       "      <th>min</th>\n",
       "      <td>26.550000</td>\n",
       "      <td>7.000000</td>\n",
       "      <td>0.000000</td>\n",
       "      <td>-54.800000</td>\n",
       "      <td>-179.166700</td>\n",
       "      <td>1.628685e+09</td>\n",
       "    </tr>\n",
       "    <tr>\n",
       "      <th>25%</th>\n",
       "      <td>60.270000</td>\n",
       "      <td>60.000000</td>\n",
       "      <td>4.075000</td>\n",
       "      <td>-7.095425</td>\n",
       "      <td>-58.571600</td>\n",
       "      <td>1.628685e+09</td>\n",
       "    </tr>\n",
       "    <tr>\n",
       "      <th>50%</th>\n",
       "      <td>73.130000</td>\n",
       "      <td>75.000000</td>\n",
       "      <td>7.295000</td>\n",
       "      <td>27.980100</td>\n",
       "      <td>24.729900</td>\n",
       "      <td>1.628685e+09</td>\n",
       "    </tr>\n",
       "    <tr>\n",
       "      <th>75%</th>\n",
       "      <td>79.727500</td>\n",
       "      <td>87.000000</td>\n",
       "      <td>11.110000</td>\n",
       "      <td>50.084450</td>\n",
       "      <td>99.952600</td>\n",
       "      <td>1.628685e+09</td>\n",
       "    </tr>\n",
       "    <tr>\n",
       "      <th>max</th>\n",
       "      <td>111.540000</td>\n",
       "      <td>100.000000</td>\n",
       "      <td>29.930000</td>\n",
       "      <td>78.218600</td>\n",
       "      <td>179.316700</td>\n",
       "      <td>1.628685e+09</td>\n",
       "    </tr>\n",
       "  </tbody>\n",
       "</table>\n",
       "</div>"
      ],
      "text/plain": [
       "         max_temp    humidity  wind_speed         lat         lng  \\\n",
       "count  572.000000  572.000000  572.000000  572.000000  572.000000   \n",
       "mean    70.263601   69.935315    8.040577   21.289016   22.437099   \n",
       "std     14.573893   21.979158    5.079150   33.722208   90.944995   \n",
       "min     26.550000    7.000000    0.000000  -54.800000 -179.166700   \n",
       "25%     60.270000   60.000000    4.075000   -7.095425  -58.571600   \n",
       "50%     73.130000   75.000000    7.295000   27.980100   24.729900   \n",
       "75%     79.727500   87.000000   11.110000   50.084450   99.952600   \n",
       "max    111.540000  100.000000   29.930000   78.218600  179.316700   \n",
       "\n",
       "               date  \n",
       "count  5.720000e+02  \n",
       "mean   1.628685e+09  \n",
       "std    9.265701e+01  \n",
       "min    1.628685e+09  \n",
       "25%    1.628685e+09  \n",
       "50%    1.628685e+09  \n",
       "75%    1.628685e+09  \n",
       "max    1.628685e+09  "
      ]
     },
     "execution_count": 29,
     "metadata": {},
     "output_type": "execute_result"
    }
   ],
   "source": [
    "weather_df.describe()"
   ]
  },
  {
   "cell_type": "markdown",
   "metadata": {},
   "source": [
    "### Perform API Calls\n",
    "* Perform a weather check on each city using a series of successive API calls.\n",
    "* Include a print log of each city as it'sbeing processed (with the city number and city name).\n"
   ]
  },
  {
   "cell_type": "code",
   "execution_count": null,
   "metadata": {
    "scrolled": true
   },
   "outputs": [],
   "source": []
  },
  {
   "cell_type": "markdown",
   "metadata": {},
   "source": [
    "### Convert Raw Data to DataFrame\n",
    "* Export the city data into a .csv.\n",
    "* Display the DataFrame"
   ]
  },
  {
   "cell_type": "code",
   "execution_count": 36,
   "metadata": {},
   "outputs": [],
   "source": [
    "weather_df.to_csv('output_data/weather_data.csv')"
   ]
  },
  {
   "cell_type": "code",
   "execution_count": 16,
   "metadata": {},
   "outputs": [
    {
     "data": {
      "text/html": [
       "<div>\n",
       "<style scoped>\n",
       "    .dataframe tbody tr th:only-of-type {\n",
       "        vertical-align: middle;\n",
       "    }\n",
       "\n",
       "    .dataframe tbody tr th {\n",
       "        vertical-align: top;\n",
       "    }\n",
       "\n",
       "    .dataframe thead th {\n",
       "        text-align: right;\n",
       "    }\n",
       "</style>\n",
       "<table border=\"1\" class=\"dataframe\">\n",
       "  <thead>\n",
       "    <tr style=\"text-align: right;\">\n",
       "      <th></th>\n",
       "      <th>Lat</th>\n",
       "      <th>Lng</th>\n",
       "      <th>Max Temp</th>\n",
       "      <th>Humidity</th>\n",
       "      <th>Cloudiness</th>\n",
       "      <th>Wind Speed</th>\n",
       "      <th>Date</th>\n",
       "    </tr>\n",
       "  </thead>\n",
       "  <tbody>\n",
       "    <tr>\n",
       "      <td>count</td>\n",
       "      <td>599.000000</td>\n",
       "      <td>599.000000</td>\n",
       "      <td>599.000000</td>\n",
       "      <td>599.000000</td>\n",
       "      <td>599.000000</td>\n",
       "      <td>599.000000</td>\n",
       "      <td>5.990000e+02</td>\n",
       "    </tr>\n",
       "    <tr>\n",
       "      <td>mean</td>\n",
       "      <td>19.877028</td>\n",
       "      <td>19.568998</td>\n",
       "      <td>69.794808</td>\n",
       "      <td>69.353923</td>\n",
       "      <td>51.569282</td>\n",
       "      <td>7.979416</td>\n",
       "      <td>1.593605e+09</td>\n",
       "    </tr>\n",
       "    <tr>\n",
       "      <td>std</td>\n",
       "      <td>33.262944</td>\n",
       "      <td>91.418472</td>\n",
       "      <td>15.678452</td>\n",
       "      <td>22.704698</td>\n",
       "      <td>35.405602</td>\n",
       "      <td>5.660694</td>\n",
       "      <td>5.738815e+01</td>\n",
       "    </tr>\n",
       "    <tr>\n",
       "      <td>min</td>\n",
       "      <td>-54.800000</td>\n",
       "      <td>-179.170000</td>\n",
       "      <td>12.200000</td>\n",
       "      <td>7.000000</td>\n",
       "      <td>0.000000</td>\n",
       "      <td>0.360000</td>\n",
       "      <td>1.593605e+09</td>\n",
       "    </tr>\n",
       "    <tr>\n",
       "      <td>25%</td>\n",
       "      <td>-8.540000</td>\n",
       "      <td>-61.210000</td>\n",
       "      <td>59.000000</td>\n",
       "      <td>55.000000</td>\n",
       "      <td>20.000000</td>\n",
       "      <td>3.620000</td>\n",
       "      <td>1.593605e+09</td>\n",
       "    </tr>\n",
       "    <tr>\n",
       "      <td>50%</td>\n",
       "      <td>24.370000</td>\n",
       "      <td>24.670000</td>\n",
       "      <td>73.110000</td>\n",
       "      <td>75.000000</td>\n",
       "      <td>59.000000</td>\n",
       "      <td>6.730000</td>\n",
       "      <td>1.593605e+09</td>\n",
       "    </tr>\n",
       "    <tr>\n",
       "      <td>75%</td>\n",
       "      <td>46.585000</td>\n",
       "      <td>102.255000</td>\n",
       "      <td>80.600000</td>\n",
       "      <td>87.000000</td>\n",
       "      <td>85.000000</td>\n",
       "      <td>11.050000</td>\n",
       "      <td>1.593605e+09</td>\n",
       "    </tr>\n",
       "    <tr>\n",
       "      <td>max</td>\n",
       "      <td>78.220000</td>\n",
       "      <td>179.320000</td>\n",
       "      <td>116.600000</td>\n",
       "      <td>100.000000</td>\n",
       "      <td>100.000000</td>\n",
       "      <td>42.500000</td>\n",
       "      <td>1.593605e+09</td>\n",
       "    </tr>\n",
       "  </tbody>\n",
       "</table>\n",
       "</div>"
      ],
      "text/plain": [
       "              Lat         Lng    Max Temp    Humidity  Cloudiness  Wind Speed  \\\n",
       "count  599.000000  599.000000  599.000000  599.000000  599.000000  599.000000   \n",
       "mean    19.877028   19.568998   69.794808   69.353923   51.569282    7.979416   \n",
       "std     33.262944   91.418472   15.678452   22.704698   35.405602    5.660694   \n",
       "min    -54.800000 -179.170000   12.200000    7.000000    0.000000    0.360000   \n",
       "25%     -8.540000  -61.210000   59.000000   55.000000   20.000000    3.620000   \n",
       "50%     24.370000   24.670000   73.110000   75.000000   59.000000    6.730000   \n",
       "75%     46.585000  102.255000   80.600000   87.000000   85.000000   11.050000   \n",
       "max     78.220000  179.320000  116.600000  100.000000  100.000000   42.500000   \n",
       "\n",
       "               Date  \n",
       "count  5.990000e+02  \n",
       "mean   1.593605e+09  \n",
       "std    5.738815e+01  \n",
       "min    1.593605e+09  \n",
       "25%    1.593605e+09  \n",
       "50%    1.593605e+09  \n",
       "75%    1.593605e+09  \n",
       "max    1.593605e+09  "
      ]
     },
     "execution_count": 16,
     "metadata": {},
     "output_type": "execute_result"
    }
   ],
   "source": []
  },
  {
   "cell_type": "markdown",
   "metadata": {},
   "source": [
    "## Inspect the data and remove the cities where the humidity > 100%.\n",
    "----\n",
    "Skip this step if there are no cities that have humidity > 100%. "
   ]
  },
  {
   "cell_type": "code",
   "execution_count": 34,
   "metadata": {},
   "outputs": [
    {
     "data": {
      "text/html": [
       "<div>\n",
       "<style scoped>\n",
       "    .dataframe tbody tr th:only-of-type {\n",
       "        vertical-align: middle;\n",
       "    }\n",
       "\n",
       "    .dataframe tbody tr th {\n",
       "        vertical-align: top;\n",
       "    }\n",
       "\n",
       "    .dataframe thead th {\n",
       "        text-align: right;\n",
       "    }\n",
       "</style>\n",
       "<table border=\"1\" class=\"dataframe\">\n",
       "  <thead>\n",
       "    <tr style=\"text-align: right;\">\n",
       "      <th></th>\n",
       "      <th>city</th>\n",
       "      <th>max_temp</th>\n",
       "      <th>humidity</th>\n",
       "      <th>wind_speed</th>\n",
       "      <th>lat</th>\n",
       "      <th>lng</th>\n",
       "      <th>country</th>\n",
       "      <th>date</th>\n",
       "    </tr>\n",
       "  </thead>\n",
       "  <tbody>\n",
       "    <tr>\n",
       "      <th>11</th>\n",
       "      <td>Yellowknife</td>\n",
       "      <td>48.72</td>\n",
       "      <td>100</td>\n",
       "      <td>3.44</td>\n",
       "      <td>62.4560</td>\n",
       "      <td>-114.3525</td>\n",
       "      <td>CA</td>\n",
       "      <td>1628685033</td>\n",
       "    </tr>\n",
       "    <tr>\n",
       "      <th>60</th>\n",
       "      <td>Fortuna</td>\n",
       "      <td>51.94</td>\n",
       "      <td>100</td>\n",
       "      <td>0.00</td>\n",
       "      <td>40.5982</td>\n",
       "      <td>-124.1573</td>\n",
       "      <td>US</td>\n",
       "      <td>1628685050</td>\n",
       "    </tr>\n",
       "    <tr>\n",
       "      <th>141</th>\n",
       "      <td>Thompson</td>\n",
       "      <td>53.76</td>\n",
       "      <td>100</td>\n",
       "      <td>14.97</td>\n",
       "      <td>55.7435</td>\n",
       "      <td>-97.8558</td>\n",
       "      <td>CA</td>\n",
       "      <td>1628685085</td>\n",
       "    </tr>\n",
       "    <tr>\n",
       "      <th>226</th>\n",
       "      <td>Nuuk</td>\n",
       "      <td>45.21</td>\n",
       "      <td>100</td>\n",
       "      <td>9.22</td>\n",
       "      <td>64.1835</td>\n",
       "      <td>-51.7216</td>\n",
       "      <td>GL</td>\n",
       "      <td>1628685123</td>\n",
       "    </tr>\n",
       "    <tr>\n",
       "      <th>428</th>\n",
       "      <td>Concepción</td>\n",
       "      <td>35.40</td>\n",
       "      <td>100</td>\n",
       "      <td>8.05</td>\n",
       "      <td>-36.8270</td>\n",
       "      <td>-73.0498</td>\n",
       "      <td>CL</td>\n",
       "      <td>1628684976</td>\n",
       "    </tr>\n",
       "    <tr>\n",
       "      <th>549</th>\n",
       "      <td>Samaná</td>\n",
       "      <td>75.42</td>\n",
       "      <td>100</td>\n",
       "      <td>9.22</td>\n",
       "      <td>19.2056</td>\n",
       "      <td>-69.3369</td>\n",
       "      <td>DO</td>\n",
       "      <td>1628685259</td>\n",
       "    </tr>\n",
       "  </tbody>\n",
       "</table>\n",
       "</div>"
      ],
      "text/plain": [
       "            city  max_temp  humidity  wind_speed      lat       lng country  \\\n",
       "11   Yellowknife     48.72       100        3.44  62.4560 -114.3525      CA   \n",
       "60       Fortuna     51.94       100        0.00  40.5982 -124.1573      US   \n",
       "141     Thompson     53.76       100       14.97  55.7435  -97.8558      CA   \n",
       "226         Nuuk     45.21       100        9.22  64.1835  -51.7216      GL   \n",
       "428   Concepción     35.40       100        8.05 -36.8270  -73.0498      CL   \n",
       "549       Samaná     75.42       100        9.22  19.2056  -69.3369      DO   \n",
       "\n",
       "           date  \n",
       "11   1628685033  \n",
       "60   1628685050  \n",
       "141  1628685085  \n",
       "226  1628685123  \n",
       "428  1628684976  \n",
       "549  1628685259  "
      ]
     },
     "execution_count": 34,
     "metadata": {},
     "output_type": "execute_result"
    }
   ],
   "source": [
    "humidity_100 = weather_df.loc[weather_df['humidity'] == 100]\n",
    "humidity_100"
   ]
  },
  {
   "cell_type": "code",
   "execution_count": 38,
   "metadata": {},
   "outputs": [
    {
     "data": {
      "text/plain": [
       "[11, 60, 141, 226, 428, 549]"
      ]
     },
     "execution_count": 38,
     "metadata": {},
     "output_type": "execute_result"
    }
   ],
   "source": [
    "#  Get the indices of cities that have humidity over 100%.\n",
    "drop_cities = humidity_100.index.to_list()\n",
    "drop_cities"
   ]
  },
  {
   "cell_type": "code",
   "execution_count": 42,
   "metadata": {},
   "outputs": [
    {
     "data": {
      "text/html": [
       "<div>\n",
       "<style scoped>\n",
       "    .dataframe tbody tr th:only-of-type {\n",
       "        vertical-align: middle;\n",
       "    }\n",
       "\n",
       "    .dataframe tbody tr th {\n",
       "        vertical-align: top;\n",
       "    }\n",
       "\n",
       "    .dataframe thead th {\n",
       "        text-align: right;\n",
       "    }\n",
       "</style>\n",
       "<table border=\"1\" class=\"dataframe\">\n",
       "  <thead>\n",
       "    <tr style=\"text-align: right;\">\n",
       "      <th></th>\n",
       "      <th>city</th>\n",
       "      <th>max_temp</th>\n",
       "      <th>humidity</th>\n",
       "      <th>wind_speed</th>\n",
       "      <th>lat</th>\n",
       "      <th>lng</th>\n",
       "      <th>country</th>\n",
       "      <th>date</th>\n",
       "    </tr>\n",
       "  </thead>\n",
       "  <tbody>\n",
       "    <tr>\n",
       "      <th>0</th>\n",
       "      <td>Hilo</td>\n",
       "      <td>73.17</td>\n",
       "      <td>94</td>\n",
       "      <td>0.00</td>\n",
       "      <td>19.7297</td>\n",
       "      <td>-155.0900</td>\n",
       "      <td>US</td>\n",
       "      <td>1628684947</td>\n",
       "    </tr>\n",
       "    <tr>\n",
       "      <th>1</th>\n",
       "      <td>Fairbanks</td>\n",
       "      <td>52.50</td>\n",
       "      <td>84</td>\n",
       "      <td>4.61</td>\n",
       "      <td>64.8378</td>\n",
       "      <td>-147.7164</td>\n",
       "      <td>US</td>\n",
       "      <td>1628684944</td>\n",
       "    </tr>\n",
       "    <tr>\n",
       "      <th>2</th>\n",
       "      <td>Busselton</td>\n",
       "      <td>50.04</td>\n",
       "      <td>75</td>\n",
       "      <td>9.93</td>\n",
       "      <td>-33.6500</td>\n",
       "      <td>115.3333</td>\n",
       "      <td>AU</td>\n",
       "      <td>1628685029</td>\n",
       "    </tr>\n",
       "    <tr>\n",
       "      <th>3</th>\n",
       "      <td>Albany</td>\n",
       "      <td>73.18</td>\n",
       "      <td>84</td>\n",
       "      <td>3.83</td>\n",
       "      <td>42.6001</td>\n",
       "      <td>-73.9662</td>\n",
       "      <td>US</td>\n",
       "      <td>1628685029</td>\n",
       "    </tr>\n",
       "    <tr>\n",
       "      <th>4</th>\n",
       "      <td>Barrow</td>\n",
       "      <td>33.82</td>\n",
       "      <td>89</td>\n",
       "      <td>11.50</td>\n",
       "      <td>71.2906</td>\n",
       "      <td>-156.7887</td>\n",
       "      <td>US</td>\n",
       "      <td>1628685029</td>\n",
       "    </tr>\n",
       "    <tr>\n",
       "      <th>...</th>\n",
       "      <td>...</td>\n",
       "      <td>...</td>\n",
       "      <td>...</td>\n",
       "      <td>...</td>\n",
       "      <td>...</td>\n",
       "      <td>...</td>\n",
       "      <td>...</td>\n",
       "      <td>...</td>\n",
       "    </tr>\n",
       "    <tr>\n",
       "      <th>561</th>\n",
       "      <td>Hamilton</td>\n",
       "      <td>77.22</td>\n",
       "      <td>93</td>\n",
       "      <td>5.75</td>\n",
       "      <td>39.1834</td>\n",
       "      <td>-84.5333</td>\n",
       "      <td>US</td>\n",
       "      <td>1628685265</td>\n",
       "    </tr>\n",
       "    <tr>\n",
       "      <th>562</th>\n",
       "      <td>Vuktyl</td>\n",
       "      <td>72.55</td>\n",
       "      <td>40</td>\n",
       "      <td>6.85</td>\n",
       "      <td>63.8567</td>\n",
       "      <td>57.3094</td>\n",
       "      <td>RU</td>\n",
       "      <td>1628685265</td>\n",
       "    </tr>\n",
       "    <tr>\n",
       "      <th>563</th>\n",
       "      <td>Derzhavīnsk</td>\n",
       "      <td>65.44</td>\n",
       "      <td>52</td>\n",
       "      <td>15.14</td>\n",
       "      <td>51.1000</td>\n",
       "      <td>66.3167</td>\n",
       "      <td>KZ</td>\n",
       "      <td>1628685265</td>\n",
       "    </tr>\n",
       "    <tr>\n",
       "      <th>564</th>\n",
       "      <td>Richmond</td>\n",
       "      <td>75.02</td>\n",
       "      <td>90</td>\n",
       "      <td>3.00</td>\n",
       "      <td>37.5538</td>\n",
       "      <td>-77.4603</td>\n",
       "      <td>US</td>\n",
       "      <td>1628685265</td>\n",
       "    </tr>\n",
       "    <tr>\n",
       "      <th>565</th>\n",
       "      <td>Rome</td>\n",
       "      <td>74.97</td>\n",
       "      <td>89</td>\n",
       "      <td>5.75</td>\n",
       "      <td>43.2128</td>\n",
       "      <td>-75.4557</td>\n",
       "      <td>US</td>\n",
       "      <td>1628685266</td>\n",
       "    </tr>\n",
       "  </tbody>\n",
       "</table>\n",
       "<p>566 rows × 8 columns</p>\n",
       "</div>"
      ],
      "text/plain": [
       "            city  max_temp  humidity  wind_speed      lat       lng country  \\\n",
       "0           Hilo     73.17        94        0.00  19.7297 -155.0900      US   \n",
       "1      Fairbanks     52.50        84        4.61  64.8378 -147.7164      US   \n",
       "2      Busselton     50.04        75        9.93 -33.6500  115.3333      AU   \n",
       "3         Albany     73.18        84        3.83  42.6001  -73.9662      US   \n",
       "4         Barrow     33.82        89       11.50  71.2906 -156.7887      US   \n",
       "..           ...       ...       ...         ...      ...       ...     ...   \n",
       "561     Hamilton     77.22        93        5.75  39.1834  -84.5333      US   \n",
       "562       Vuktyl     72.55        40        6.85  63.8567   57.3094      RU   \n",
       "563  Derzhavīnsk     65.44        52       15.14  51.1000   66.3167      KZ   \n",
       "564     Richmond     75.02        90        3.00  37.5538  -77.4603      US   \n",
       "565         Rome     74.97        89        5.75  43.2128  -75.4557      US   \n",
       "\n",
       "           date  \n",
       "0    1628684947  \n",
       "1    1628684944  \n",
       "2    1628685029  \n",
       "3    1628685029  \n",
       "4    1628685029  \n",
       "..          ...  \n",
       "561  1628685265  \n",
       "562  1628685265  \n",
       "563  1628685265  \n",
       "564  1628685265  \n",
       "565  1628685266  \n",
       "\n",
       "[566 rows x 8 columns]"
      ]
     },
     "execution_count": 42,
     "metadata": {},
     "output_type": "execute_result"
    }
   ],
   "source": [
    "# Make a new DataFrame equal to the city data to drop all humidity outliers by index.\n",
    "# Passing \"inplace=False\" will make a copy of the city_data DataFrame, which we call \"clean_city_data\".\n",
    "\n",
    "clean_city_data = weather_df.drop(drop_cities, inplace=False)\n",
    "clean_city_data.reset_index(drop=True)"
   ]
  },
  {
   "cell_type": "code",
   "execution_count": null,
   "metadata": {},
   "outputs": [],
   "source": [
    "\n"
   ]
  },
  {
   "cell_type": "code",
   "execution_count": null,
   "metadata": {},
   "outputs": [],
   "source": []
  },
  {
   "cell_type": "markdown",
   "metadata": {},
   "source": [
    "## Plotting the Data\n",
    "* Use proper labeling of the plots using plot titles (including date of analysis) and axes labels.\n",
    "* Save the plotted figures as .pngs."
   ]
  },
  {
   "cell_type": "markdown",
   "metadata": {},
   "source": [
    "## Latitude vs. Temperature Plot"
   ]
  },
  {
   "cell_type": "code",
   "execution_count": 74,
   "metadata": {},
   "outputs": [
    {
     "data": {
      "text/plain": [
       "Text(0.5, 1.0, 'City Latitude vs Max Temperature')"
      ]
     },
     "execution_count": 74,
     "metadata": {},
     "output_type": "execute_result"
    },
    {
     "data": {
      "image/png": "[encoded data removed]",
      "text/plain": [
       "<Figure size 432x288 with 1 Axes>"
      ]
     },
     "metadata": {
      "needs_background": "light"
     },
     "output_type": "display_data"
    }
   ],
   "source": [
    "lat = clean_city_data['lat']\n",
    "max_temp = clean_city_data['max_temp']\n",
    "\n",
    "plt.scatter(lat, max_temp, marker='o')\n",
    "plt.xlabel('Latitude')\n",
    "plt.ylabel('Max Temp')\n",
    "plt.title('City Latitude vs Max Temperature')"
   ]
  },
  {
   "cell_type": "code",
   "execution_count": 10,
   "metadata": {
    "scrolled": true
   },
   "outputs": [
    {
     "data": {
      "image/png": "[encoded data removed]",
      "text/plain": [
       "<Figure size 432x288 with 1 Axes>"
      ]
     },
     "metadata": {
      "needs_background": "light"
     },
     "output_type": "display_data"
    }
   ],
   "source": []
  },
  {
   "cell_type": "markdown",
   "metadata": {},
   "source": [
    "## Latitude vs. Humidity Plot"
   ]
  },
  {
   "cell_type": "code",
   "execution_count": 75,
   "metadata": {},
   "outputs": [
    {
     "data": {
      "text/plain": [
       "<matplotlib.collections.PathCollection at 0x17d579a72e0>"
      ]
     },
     "execution_count": 75,
     "metadata": {},
     "output_type": "execute_result"
    },
    {
     "data": {
      "image/png": "[encoded data removed]",
      "text/plain": [
       "<Figure size 432x288 with 1 Axes>"
      ]
     },
     "metadata": {
      "needs_background": "light"
     },
     "output_type": "display_data"
    }
   ],
   "source": [
    "humidity = clean_city_data['humidity']\n",
    "\n",
    "plt.scatter(lat, humidity, color='r')"
   ]
  },
  {
   "cell_type": "markdown",
   "metadata": {},
   "source": [
    "## Latitude vs. Cloudiness Plot"
   ]
  },
  {
   "cell_type": "code",
   "execution_count": 78,
   "metadata": {},
   "outputs": [
    {
     "ename": "ValueError",
     "evalue": "x and y must be the same size",
     "output_type": "error",
     "traceback": [
      "\u001b[1;31m---------------------------------------------------------------------------\u001b[0m",
      "\u001b[1;31mValueError\u001b[0m                                Traceback (most recent call last)",
      "\u001b[1;32m<ipython-input-78-3e888a2c1ccf>\u001b[0m in \u001b[0;36m<module>\u001b[1;34m\u001b[0m\n\u001b[1;32m----> 1\u001b[1;33m \u001b[0mplt\u001b[0m\u001b[1;33m.\u001b[0m\u001b[0mscatter\u001b[0m\u001b[1;33m(\u001b[0m\u001b[0mlat\u001b[0m\u001b[1;33m,\u001b[0m \u001b[0mcloudiness\u001b[0m\u001b[1;33m)\u001b[0m\u001b[1;33m\u001b[0m\u001b[1;33m\u001b[0m\u001b[0m\n\u001b[0m",
      "\u001b[1;32m~\\anaconda3\\lib\\site-packages\\matplotlib\\pyplot.py\u001b[0m in \u001b[0;36mscatter\u001b[1;34m(x, y, s, c, marker, cmap, norm, vmin, vmax, alpha, linewidths, verts, edgecolors, plotnonfinite, data, **kwargs)\u001b[0m\n\u001b[0;32m   2888\u001b[0m         \u001b[0mverts\u001b[0m\u001b[1;33m=\u001b[0m\u001b[0mcbook\u001b[0m\u001b[1;33m.\u001b[0m\u001b[0mdeprecation\u001b[0m\u001b[1;33m.\u001b[0m\u001b[0m_deprecated_parameter\u001b[0m\u001b[1;33m,\u001b[0m\u001b[1;33m\u001b[0m\u001b[1;33m\u001b[0m\u001b[0m\n\u001b[0;32m   2889\u001b[0m         edgecolors=None, *, plotnonfinite=False, data=None, **kwargs):\n\u001b[1;32m-> 2890\u001b[1;33m     __ret = gca().scatter(\n\u001b[0m\u001b[0;32m   2891\u001b[0m         \u001b[0mx\u001b[0m\u001b[1;33m,\u001b[0m \u001b[0my\u001b[0m\u001b[1;33m,\u001b[0m \u001b[0ms\u001b[0m\u001b[1;33m=\u001b[0m\u001b[0ms\u001b[0m\u001b[1;33m,\u001b[0m \u001b[0mc\u001b[0m\u001b[1;33m=\u001b[0m\u001b[0mc\u001b[0m\u001b[1;33m,\u001b[0m \u001b[0mmarker\u001b[0m\u001b[1;33m=\u001b[0m\u001b[0mmarker\u001b[0m\u001b[1;33m,\u001b[0m \u001b[0mcmap\u001b[0m\u001b[1;33m=\u001b[0m\u001b[0mcmap\u001b[0m\u001b[1;33m,\u001b[0m \u001b[0mnorm\u001b[0m\u001b[1;33m=\u001b[0m\u001b[0mnorm\u001b[0m\u001b[1;33m,\u001b[0m\u001b[1;33m\u001b[0m\u001b[1;33m\u001b[0m\u001b[0m\n\u001b[0;32m   2892\u001b[0m         \u001b[0mvmin\u001b[0m\u001b[1;33m=\u001b[0m\u001b[0mvmin\u001b[0m\u001b[1;33m,\u001b[0m \u001b[0mvmax\u001b[0m\u001b[1;33m=\u001b[0m\u001b[0mvmax\u001b[0m\u001b[1;33m,\u001b[0m \u001b[0malpha\u001b[0m\u001b[1;33m=\u001b[0m\u001b[0malpha\u001b[0m\u001b[1;33m,\u001b[0m \u001b[0mlinewidths\u001b[0m\u001b[1;33m=\u001b[0m\u001b[0mlinewidths\u001b[0m\u001b[1;33m,\u001b[0m\u001b[1;33m\u001b[0m\u001b[1;33m\u001b[0m\u001b[0m\n",
      "\u001b[1;32m~\\anaconda3\\lib\\site-packages\\matplotlib\\__init__.py\u001b[0m in \u001b[0;36minner\u001b[1;34m(ax, data, *args, **kwargs)\u001b[0m\n\u001b[0;32m   1445\u001b[0m     \u001b[1;32mdef\u001b[0m \u001b[0minner\u001b[0m\u001b[1;33m(\u001b[0m\u001b[0max\u001b[0m\u001b[1;33m,\u001b[0m \u001b[1;33m*\u001b[0m\u001b[0margs\u001b[0m\u001b[1;33m,\u001b[0m \u001b[0mdata\u001b[0m\u001b[1;33m=\u001b[0m\u001b[1;32mNone\u001b[0m\u001b[1;33m,\u001b[0m \u001b[1;33m**\u001b[0m\u001b[0mkwargs\u001b[0m\u001b[1;33m)\u001b[0m\u001b[1;33m:\u001b[0m\u001b[1;33m\u001b[0m\u001b[1;33m\u001b[0m\u001b[0m\n\u001b[0;32m   1446\u001b[0m         \u001b[1;32mif\u001b[0m \u001b[0mdata\u001b[0m \u001b[1;32mis\u001b[0m \u001b[1;32mNone\u001b[0m\u001b[1;33m:\u001b[0m\u001b[1;33m\u001b[0m\u001b[1;33m\u001b[0m\u001b[0m\n\u001b[1;32m-> 1447\u001b[1;33m             \u001b[1;32mreturn\u001b[0m \u001b[0mfunc\u001b[0m\u001b[1;33m(\u001b[0m\u001b[0max\u001b[0m\u001b[1;33m,\u001b[0m \u001b[1;33m*\u001b[0m\u001b[0mmap\u001b[0m\u001b[1;33m(\u001b[0m\u001b[0msanitize_sequence\u001b[0m\u001b[1;33m,\u001b[0m \u001b[0margs\u001b[0m\u001b[1;33m)\u001b[0m\u001b[1;33m,\u001b[0m \u001b[1;33m**\u001b[0m\u001b[0mkwargs\u001b[0m\u001b[1;33m)\u001b[0m\u001b[1;33m\u001b[0m\u001b[1;33m\u001b[0m\u001b[0m\n\u001b[0m\u001b[0;32m   1448\u001b[0m \u001b[1;33m\u001b[0m\u001b[0m\n\u001b[0;32m   1449\u001b[0m         \u001b[0mbound\u001b[0m \u001b[1;33m=\u001b[0m \u001b[0mnew_sig\u001b[0m\u001b[1;33m.\u001b[0m\u001b[0mbind\u001b[0m\u001b[1;33m(\u001b[0m\u001b[0max\u001b[0m\u001b[1;33m,\u001b[0m \u001b[1;33m*\u001b[0m\u001b[0margs\u001b[0m\u001b[1;33m,\u001b[0m \u001b[1;33m**\u001b[0m\u001b[0mkwargs\u001b[0m\u001b[1;33m)\u001b[0m\u001b[1;33m\u001b[0m\u001b[1;33m\u001b[0m\u001b[0m\n",
      "\u001b[1;32m~\\anaconda3\\lib\\site-packages\\matplotlib\\cbook\\deprecation.py\u001b[0m in \u001b[0;36mwrapper\u001b[1;34m(*inner_args, **inner_kwargs)\u001b[0m\n\u001b[0;32m    409\u001b[0m                          \u001b[1;32melse\u001b[0m \u001b[0mdeprecation_addendum\u001b[0m\u001b[1;33m,\u001b[0m\u001b[1;33m\u001b[0m\u001b[1;33m\u001b[0m\u001b[0m\n\u001b[0;32m    410\u001b[0m                 **kwargs)\n\u001b[1;32m--> 411\u001b[1;33m         \u001b[1;32mreturn\u001b[0m \u001b[0mfunc\u001b[0m\u001b[1;33m(\u001b[0m\u001b[1;33m*\u001b[0m\u001b[0minner_args\u001b[0m\u001b[1;33m,\u001b[0m \u001b[1;33m**\u001b[0m\u001b[0minner_kwargs\u001b[0m\u001b[1;33m)\u001b[0m\u001b[1;33m\u001b[0m\u001b[1;33m\u001b[0m\u001b[0m\n\u001b[0m\u001b[0;32m    412\u001b[0m \u001b[1;33m\u001b[0m\u001b[0m\n\u001b[0;32m    413\u001b[0m     \u001b[1;32mreturn\u001b[0m \u001b[0mwrapper\u001b[0m\u001b[1;33m\u001b[0m\u001b[1;33m\u001b[0m\u001b[0m\n",
      "\u001b[1;32m~\\anaconda3\\lib\\site-packages\\matplotlib\\axes\\_axes.py\u001b[0m in \u001b[0;36mscatter\u001b[1;34m(self, x, y, s, c, marker, cmap, norm, vmin, vmax, alpha, linewidths, verts, edgecolors, plotnonfinite, **kwargs)\u001b[0m\n\u001b[0;32m   4439\u001b[0m         \u001b[0my\u001b[0m \u001b[1;33m=\u001b[0m \u001b[0mnp\u001b[0m\u001b[1;33m.\u001b[0m\u001b[0mma\u001b[0m\u001b[1;33m.\u001b[0m\u001b[0mravel\u001b[0m\u001b[1;33m(\u001b[0m\u001b[0my\u001b[0m\u001b[1;33m)\u001b[0m\u001b[1;33m\u001b[0m\u001b[1;33m\u001b[0m\u001b[0m\n\u001b[0;32m   4440\u001b[0m         \u001b[1;32mif\u001b[0m \u001b[0mx\u001b[0m\u001b[1;33m.\u001b[0m\u001b[0msize\u001b[0m \u001b[1;33m!=\u001b[0m \u001b[0my\u001b[0m\u001b[1;33m.\u001b[0m\u001b[0msize\u001b[0m\u001b[1;33m:\u001b[0m\u001b[1;33m\u001b[0m\u001b[1;33m\u001b[0m\u001b[0m\n\u001b[1;32m-> 4441\u001b[1;33m             \u001b[1;32mraise\u001b[0m \u001b[0mValueError\u001b[0m\u001b[1;33m(\u001b[0m\u001b[1;34m\"x and y must be the same size\"\u001b[0m\u001b[1;33m)\u001b[0m\u001b[1;33m\u001b[0m\u001b[1;33m\u001b[0m\u001b[0m\n\u001b[0m\u001b[0;32m   4442\u001b[0m \u001b[1;33m\u001b[0m\u001b[0m\n\u001b[0;32m   4443\u001b[0m         \u001b[1;32mif\u001b[0m \u001b[0ms\u001b[0m \u001b[1;32mis\u001b[0m \u001b[1;32mNone\u001b[0m\u001b[1;33m:\u001b[0m\u001b[1;33m\u001b[0m\u001b[1;33m\u001b[0m\u001b[0m\n",
      "\u001b[1;31mValueError\u001b[0m: x and y must be the same size"
     ]
    },
    {
     "data": {
      "image/png": "[encoded data removed]",
      "text/plain": [
       "<Figure size 432x288 with 1 Axes>"
      ]
     },
     "metadata": {
      "needs_background": "light"
     },
     "output_type": "display_data"
    }
   ],
   "source": [
    "\n",
    "\n",
    "plt.scatter(lat, cloudiness)"
   ]
  },
  {
   "cell_type": "markdown",
   "metadata": {},
   "source": [
    "## Latitude vs. Wind Speed Plot"
   ]
  },
  {
   "cell_type": "code",
   "execution_count": 13,
   "metadata": {},
   "outputs": [
    {
     "data": {
      "image/png": "[encoded data removed]",
      "text/plain": [
       "<Figure size 432x288 with 1 Axes>"
      ]
     },
     "metadata": {
      "needs_background": "light"
     },
     "output_type": "display_data"
    }
   ],
   "source": []
  },
  {
   "cell_type": "markdown",
   "metadata": {},
   "source": [
    "## Linear Regression"
   ]
  },
  {
   "cell_type": "code",
   "execution_count": 24,
   "metadata": {},
   "outputs": [],
   "source": []
  },
  {
   "cell_type": "markdown",
   "metadata": {},
   "source": [
    "####  Northern Hemisphere - Max Temp vs. Latitude Linear Regression"
   ]
  },
  {
   "cell_type": "code",
   "execution_count": 25,
   "metadata": {},
   "outputs": [
    {
     "name": "stdout",
     "output_type": "stream",
     "text": [
      "The r-value is: 0.46937863826630627\n"
     ]
    },
    {
     "data": {
      "image/png": "[encoded data removed]",
      "text/plain": [
       "<Figure size 432x288 with 1 Axes>"
      ]
     },
     "metadata": {
      "needs_background": "light"
     },
     "output_type": "display_data"
    }
   ],
   "source": []
  },
  {
   "cell_type": "markdown",
   "metadata": {},
   "source": [
    "####  Southern Hemisphere - Max Temp vs. Latitude Linear Regression"
   ]
  },
  {
   "cell_type": "code",
   "execution_count": 26,
   "metadata": {},
   "outputs": [
    {
     "name": "stdout",
     "output_type": "stream",
     "text": [
      "The r-value is: 0.6082708688906918\n"
     ]
    },
    {
     "data": {
      "image/png": "[encoded data removed]",
      "text/plain": [
       "<Figure size 432x288 with 1 Axes>"
      ]
     },
     "metadata": {
      "needs_background": "light"
     },
     "output_type": "display_data"
    }
   ],
   "source": []
  },
  {
   "cell_type": "markdown",
   "metadata": {},
   "source": [
    "####  Northern Hemisphere - Humidity (%) vs. Latitude Linear Regression"
   ]
  },
  {
   "cell_type": "code",
   "execution_count": 27,
   "metadata": {},
   "outputs": [
    {
     "name": "stdout",
     "output_type": "stream",
     "text": [
      "The r-value is: 0.000543987878808455\n"
     ]
    },
    {
     "data": {
      "image/png": "[encoded data removed]",
      "text/plain": [
       "<Figure size 432x288 with 1 Axes>"
      ]
     },
     "metadata": {
      "needs_background": "light"
     },
     "output_type": "display_data"
    }
   ],
   "source": []
  },
  {
   "cell_type": "markdown",
   "metadata": {},
   "source": [
    "####  Southern Hemisphere - Humidity (%) vs. Latitude Linear Regression"
   ]
  },
  {
   "cell_type": "code",
   "execution_count": 28,
   "metadata": {},
   "outputs": [
    {
     "name": "stdout",
     "output_type": "stream",
     "text": [
      "The r-value is: 0.014985174297345524\n"
     ]
    },
    {
     "data": {
      "image/png": "[encoded data removed]",
      "text/plain": [
       "<Figure size 432x288 with 1 Axes>"
      ]
     },
     "metadata": {
      "needs_background": "light"
     },
     "output_type": "display_data"
    }
   ],
   "source": []
  },
  {
   "cell_type": "markdown",
   "metadata": {},
   "source": [
    "####  Northern Hemisphere - Cloudiness (%) vs. Latitude Linear Regression"
   ]
  },
  {
   "cell_type": "code",
   "execution_count": 29,
   "metadata": {},
   "outputs": [
    {
     "name": "stdout",
     "output_type": "stream",
     "text": [
      "The r-value is: 0.0020898727664228514\n"
     ]
    },
    {
     "data": {
      "image/png": "[encoded data removed]",
      "text/plain": [
       "<Figure size 432x288 with 1 Axes>"
      ]
     },
     "metadata": {
      "needs_background": "light"
     },
     "output_type": "display_data"
    }
   ],
   "source": []
  },
  {
   "cell_type": "markdown",
   "metadata": {},
   "source": [
    "####  Southern Hemisphere - Cloudiness (%) vs. Latitude Linear Regression"
   ]
  },
  {
   "cell_type": "code",
   "execution_count": 30,
   "metadata": {},
   "outputs": [
    {
     "name": "stdout",
     "output_type": "stream",
     "text": [
      "The r-value is: 0.0035263772085582894\n"
     ]
    },
    {
     "data": {
      "image/png": "[encoded data removed]",
      "text/plain": [
       "<Figure size 432x288 with 1 Axes>"
      ]
     },
     "metadata": {
      "needs_background": "light"
     },
     "output_type": "display_data"
    }
   ],
   "source": []
  },
  {
   "cell_type": "markdown",
   "metadata": {},
   "source": [
    "####  Northern Hemisphere - Wind Speed (mph) vs. Latitude Linear Regression"
   ]
  },
  {
   "cell_type": "code",
   "execution_count": 31,
   "metadata": {},
   "outputs": [
    {
     "name": "stdout",
     "output_type": "stream",
     "text": [
      "The r-value is: 0.04019723576144484\n"
     ]
    },
    {
     "data": {
      "image/png": "[encoded data removed]",
      "text/plain": [
       "<Figure size 432x288 with 1 Axes>"
      ]
     },
     "metadata": {
      "needs_background": "light"
     },
     "output_type": "display_data"
    }
   ],
   "source": []
  },
  {
   "cell_type": "markdown",
   "metadata": {},
   "source": [
    "####  Southern Hemisphere - Wind Speed (mph) vs. Latitude Linear Regression"
   ]
  },
  {
   "cell_type": "code",
   "execution_count": 32,
   "metadata": {},
   "outputs": [
    {
     "name": "stdout",
     "output_type": "stream",
     "text": [
      "The r-value is: 0.017128274759839232\n"
     ]
    },
    {
     "data": {
      "image/png": "[encoded data removed]",
      "text/plain": [
       "<Figure size 432x288 with 1 Axes>"
      ]
     },
     "metadata": {
      "needs_background": "light"
     },
     "output_type": "display_data"
    }
   ],
   "source": []
  },
  {
   "cell_type": "code",
   "execution_count": null,
   "metadata": {},
   "outputs": [],
   "source": []
  }
 ],
 "metadata": {
  "anaconda-cloud": {},
  "kernel_info": {
   "name": "python3"
  },
  "kernelspec": {
   "display_name": "Python 3",
   "language": "python",
   "name": "python3"
  },
  "language_info": {
   "codemirror_mode": {
    "name": "ipython",
    "version": 3
   },
   "file_extension": ".py",
   "mimetype": "text/x-python",
   "name": "python",
   "nbconvert_exporter": "python",
   "pygments_lexer": "ipython3",
   "version": "3.8.8"
  },
  "latex_envs": {
   "LaTeX_envs_menu_present": true,
   "autoclose": false,
   "autocomplete": true,
   "bibliofile": "biblio.bib",
   "cite_by": "apalike",
   "current_citInitial": 1,
   "eqLabelWithNumbers": true,
   "eqNumInitial": 1,
   "hotkeys": {
    "equation": "Ctrl-E",
    "itemize": "Ctrl-I"
   },
   "labels_anchors": false,
   "latex_user_defs": false,
   "report_style_numbering": false,
   "user_envs_cfg": false
  },
  "nteract": {
   "version": "0.12.3"
  }
 },
 "nbformat": 4,
 "nbformat_minor": 2
}
